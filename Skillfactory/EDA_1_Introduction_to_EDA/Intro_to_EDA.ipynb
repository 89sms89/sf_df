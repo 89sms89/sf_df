{
 "cells": [
  {
   "cell_type": "code",
   "execution_count": 2,
   "metadata": {},
   "outputs": [],
   "source": [
    "import pandas as pd\n",
    "import numpy as np\n",
    "import seaborn as sns\n",
    "from pandas_profiling import ProfileReport\n",
    "import sweetviz as sv\n",
    "import dtale"
   ]
  },
  {
   "cell_type": "code",
   "execution_count": 3,
   "metadata": {},
   "outputs": [
    {
     "name": "stdout",
     "output_type": "stream",
     "text": [
      "<class 'pandas.core.frame.DataFrame'>\n",
      "RangeIndex: 129971 entries, 0 to 129970\n",
      "Data columns (total 13 columns):\n",
      " #   Column                 Non-Null Count   Dtype  \n",
      "---  ------                 --------------   -----  \n",
      " 0   country                129908 non-null  object \n",
      " 1   description            129971 non-null  object \n",
      " 2   designation            92506 non-null   object \n",
      " 3   points                 129971 non-null  int64  \n",
      " 4   price                  120975 non-null  float64\n",
      " 5   province               129908 non-null  object \n",
      " 6   region_1               108724 non-null  object \n",
      " 7   region_2               50511 non-null   object \n",
      " 8   taster_name            103727 non-null  object \n",
      " 9   taster_twitter_handle  98758 non-null   object \n",
      " 10  title                  129971 non-null  object \n",
      " 11  variety                129970 non-null  object \n",
      " 12  winery                 129971 non-null  object \n",
      "dtypes: float64(1), int64(1), object(11)\n",
      "memory usage: 12.9+ MB\n"
     ]
    }
   ],
   "source": [
    "data = pd.read_csv('data/wine.csv')\n",
    "data.info()"
   ]
  },
  {
   "cell_type": "code",
   "execution_count": 4,
   "metadata": {},
   "outputs": [
    {
     "data": {
      "text/html": [
       "<div>\n",
       "<style scoped>\n",
       "    .dataframe tbody tr th:only-of-type {\n",
       "        vertical-align: middle;\n",
       "    }\n",
       "\n",
       "    .dataframe tbody tr th {\n",
       "        vertical-align: top;\n",
       "    }\n",
       "\n",
       "    .dataframe thead th {\n",
       "        text-align: right;\n",
       "    }\n",
       "</style>\n",
       "<table border=\"1\" class=\"dataframe\">\n",
       "  <thead>\n",
       "    <tr style=\"text-align: right;\">\n",
       "      <th></th>\n",
       "      <th>Column_Name</th>\n",
       "      <th>Num_Unique</th>\n",
       "      <th>Type</th>\n",
       "    </tr>\n",
       "  </thead>\n",
       "  <tbody>\n",
       "    <tr>\n",
       "      <th>0</th>\n",
       "      <td>points</td>\n",
       "      <td>21</td>\n",
       "      <td>int64</td>\n",
       "    </tr>\n",
       "    <tr>\n",
       "      <th>1</th>\n",
       "      <td>price</td>\n",
       "      <td>390</td>\n",
       "      <td>float64</td>\n",
       "    </tr>\n",
       "    <tr>\n",
       "      <th>2</th>\n",
       "      <td>country</td>\n",
       "      <td>43</td>\n",
       "      <td>object</td>\n",
       "    </tr>\n",
       "    <tr>\n",
       "      <th>3</th>\n",
       "      <td>description</td>\n",
       "      <td>119955</td>\n",
       "      <td>object</td>\n",
       "    </tr>\n",
       "    <tr>\n",
       "      <th>4</th>\n",
       "      <td>designation</td>\n",
       "      <td>37979</td>\n",
       "      <td>object</td>\n",
       "    </tr>\n",
       "    <tr>\n",
       "      <th>5</th>\n",
       "      <td>province</td>\n",
       "      <td>425</td>\n",
       "      <td>object</td>\n",
       "    </tr>\n",
       "    <tr>\n",
       "      <th>6</th>\n",
       "      <td>region_1</td>\n",
       "      <td>1229</td>\n",
       "      <td>object</td>\n",
       "    </tr>\n",
       "    <tr>\n",
       "      <th>7</th>\n",
       "      <td>region_2</td>\n",
       "      <td>17</td>\n",
       "      <td>object</td>\n",
       "    </tr>\n",
       "    <tr>\n",
       "      <th>8</th>\n",
       "      <td>taster_name</td>\n",
       "      <td>19</td>\n",
       "      <td>object</td>\n",
       "    </tr>\n",
       "    <tr>\n",
       "      <th>9</th>\n",
       "      <td>taster_twitter_handle</td>\n",
       "      <td>15</td>\n",
       "      <td>object</td>\n",
       "    </tr>\n",
       "    <tr>\n",
       "      <th>10</th>\n",
       "      <td>title</td>\n",
       "      <td>118840</td>\n",
       "      <td>object</td>\n",
       "    </tr>\n",
       "    <tr>\n",
       "      <th>11</th>\n",
       "      <td>variety</td>\n",
       "      <td>707</td>\n",
       "      <td>object</td>\n",
       "    </tr>\n",
       "    <tr>\n",
       "      <th>12</th>\n",
       "      <td>winery</td>\n",
       "      <td>16757</td>\n",
       "      <td>object</td>\n",
       "    </tr>\n",
       "  </tbody>\n",
       "</table>\n",
       "</div>"
      ],
      "text/plain": [
       "              Column_Name  Num_Unique     Type\n",
       "0                  points          21    int64\n",
       "1                   price         390  float64\n",
       "2                 country          43   object\n",
       "3             description      119955   object\n",
       "4             designation       37979   object\n",
       "5                province         425   object\n",
       "6                region_1        1229   object\n",
       "7                region_2          17   object\n",
       "8             taster_name          19   object\n",
       "9   taster_twitter_handle          15   object\n",
       "10                  title      118840   object\n",
       "11                variety         707   object\n",
       "12                 winery       16757   object"
      ]
     },
     "metadata": {},
     "output_type": "display_data"
    }
   ],
   "source": [
    "unique_list = []\n",
    "for col in data.columns:\n",
    "    item = (col, data[col].nunique(), data[col].dtypes) \n",
    "    unique_list.append(item) \n",
    "    \n",
    "unique_counts = pd.DataFrame(\n",
    "    unique_list,\n",
    "    columns=['Column_Name', 'Num_Unique', 'Type']\n",
    ").sort_values(by='Type',  ignore_index=True)\n",
    "\n",
    "display(unique_counts)"
   ]
  },
  {
   "cell_type": "code",
   "execution_count": 5,
   "metadata": {},
   "outputs": [
    {
     "name": "stdout",
     "output_type": "stream",
     "text": [
      "Число найденных дубликатов: 9983\n"
     ]
    }
   ],
   "source": [
    "mask = data.duplicated()\n",
    "data_duplicates = data[mask]\n",
    "print(f'Число найденных дубликатов: {data_duplicates.shape[0]}')"
   ]
  },
  {
   "cell_type": "code",
   "execution_count": 6,
   "metadata": {},
   "outputs": [
    {
     "data": {
      "text/plain": [
       "region_2                 61.136715\n",
       "designation              28.825661\n",
       "taster_twitter_handle    24.015357\n",
       "taster_name              20.192197\n",
       "region_1                 16.347493\n",
       "price                     6.921544\n",
       "country                   0.048472\n",
       "province                  0.048472\n",
       "variety                   0.000769\n",
       "dtype: float64"
      ]
     },
     "metadata": {},
     "output_type": "display_data"
    }
   ],
   "source": [
    "cols_null_percent = data.isnull().mean() * 100\n",
    "cols_with_null = cols_null_percent[cols_null_percent>0].sort_values(ascending=False)\n",
    "display(cols_with_null)"
   ]
  },
  {
   "cell_type": "code",
   "execution_count": 7,
   "metadata": {},
   "outputs": [
    {
     "name": "stdout",
     "output_type": "stream",
     "text": [
      "<class 'pandas.core.frame.DataFrame'>\n",
      "RangeIndex: 129971 entries, 0 to 129970\n",
      "Data columns (total 12 columns):\n",
      " #   Column                 Non-Null Count   Dtype  \n",
      "---  ------                 --------------   -----  \n",
      " 0   country                129908 non-null  object \n",
      " 1   description            129971 non-null  object \n",
      " 2   designation            92506 non-null   object \n",
      " 3   points                 129971 non-null  int64  \n",
      " 4   price                  120975 non-null  float64\n",
      " 5   province               129908 non-null  object \n",
      " 6   region_1               108724 non-null  object \n",
      " 7   taster_name            103727 non-null  object \n",
      " 8   taster_twitter_handle  98758 non-null   object \n",
      " 9   title                  129971 non-null  object \n",
      " 10  variety                129970 non-null  object \n",
      " 11  winery                 129971 non-null  object \n",
      "dtypes: float64(1), int64(1), object(10)\n",
      "memory usage: 11.9+ MB\n"
     ]
    }
   ],
   "source": [
    "thresh = data.shape[0] * 0.7\n",
    "data = data.dropna(thresh=thresh, axis=1)\n",
    "data.info()"
   ]
  },
  {
   "cell_type": "code",
   "execution_count": 8,
   "metadata": {},
   "outputs": [
    {
     "name": "stderr",
     "output_type": "stream",
     "text": [
      "findfont: Font family 'Heiti TC' not found.\n",
      "findfont: Font family 'Heiti TC' not found.\n",
      "findfont: Font family 'Heiti TC' not found.\n",
      "findfont: Font family 'Heiti TC' not found.\n",
      "findfont: Font family 'Heiti TC' not found.\n",
      "findfont: Font family 'Heiti TC' not found.\n",
      "findfont: Font family 'Heiti TC' not found.\n",
      "findfont: Font family 'Heiti TC' not found.\n",
      "findfont: Font family 'Heiti TC' not found.\n",
      "findfont: Font family 'Heiti TC' not found.\n",
      "findfont: Font family 'Heiti TC' not found.\n",
      "findfont: Font family 'Heiti TC' not found.\n",
      "findfont: Font family 'Heiti TC' not found.\n",
      "findfont: Font family 'Heiti TC' not found.\n",
      "findfont: Font family 'Heiti TC' not found.\n",
      "findfont: Font family 'Heiti TC' not found.\n",
      "findfont: Font family 'Heiti TC' not found.\n",
      "findfont: Font family 'Heiti TC' not found.\n",
      "findfont: Font family 'Heiti TC' not found.\n",
      "findfont: Font family 'Heiti TC' not found.\n",
      "findfont: Font family 'Heiti TC' not found.\n",
      "findfont: Font family 'Heiti TC' not found.\n",
      "findfont: Font family 'Heiti TC' not found.\n",
      "findfont: Font family 'Heiti TC' not found.\n",
      "findfont: Font family 'Heiti TC' not found.\n",
      "findfont: Font family 'Heiti TC' not found.\n",
      "findfont: Font family 'Heiti TC' not found.\n",
      "findfont: Font family 'Heiti TC' not found.\n",
      "findfont: Font family 'Heiti TC' not found.\n",
      "findfont: Font family 'Heiti TC' not found.\n",
      "findfont: Font family 'Heiti TC' not found.\n",
      "findfont: Font family 'Heiti TC' not found.\n",
      "findfont: Font family 'Heiti TC' not found.\n",
      "findfont: Font family 'Heiti TC' not found.\n",
      "findfont: Font family 'Heiti TC' not found.\n",
      "findfont: Font family 'Heiti TC' not found.\n",
      "findfont: Font family 'Heiti TC' not found.\n",
      "findfont: Font family 'Heiti TC' not found.\n",
      "findfont: Font family 'Heiti TC' not found.\n",
      "findfont: Font family 'Heiti TC' not found.\n",
      "findfont: Font family 'Heiti TC' not found.\n",
      "findfont: Font family 'Heiti TC' not found.\n",
      "findfont: Font family 'Heiti TC' not found.\n",
      "findfont: Font family 'Heiti TC' not found.\n",
      "findfont: Font family 'Heiti TC' not found.\n",
      "findfont: Font family 'Heiti TC' not found.\n",
      "findfont: Font family 'Heiti TC' not found.\n",
      "findfont: Font family 'Heiti TC' not found.\n",
      "findfont: Font family 'Heiti TC' not found.\n",
      "findfont: Font family 'Heiti TC' not found.\n",
      "findfont: Font family 'Heiti TC' not found.\n",
      "findfont: Font family 'Heiti TC' not found.\n",
      "findfont: Font family 'Heiti TC' not found.\n",
      "findfont: Font family 'Heiti TC' not found.\n",
      "findfont: Font family 'Heiti TC' not found.\n",
      "findfont: Font family 'Heiti TC' not found.\n",
      "findfont: Font family 'Heiti TC' not found.\n",
      "findfont: Font family 'Heiti TC' not found.\n",
      "findfont: Font family 'Heiti TC' not found.\n",
      "findfont: Font family 'Heiti TC' not found.\n",
      "findfont: Font family 'Heiti TC' not found.\n",
      "findfont: Font family 'Heiti TC' not found.\n",
      "findfont: Font family 'Heiti TC' not found.\n",
      "findfont: Font family 'Heiti TC' not found.\n",
      "findfont: Font family 'Heiti TC' not found.\n",
      "findfont: Font family 'Heiti TC' not found.\n",
      "findfont: Font family 'Heiti TC' not found.\n",
      "findfont: Font family 'Heiti TC' not found.\n",
      "findfont: Font family 'Heiti TC' not found.\n",
      "findfont: Font family 'Heiti TC' not found.\n",
      "findfont: Font family 'Heiti TC' not found.\n",
      "findfont: Font family 'Heiti TC' not found.\n",
      "findfont: Font family 'Heiti TC' not found.\n",
      "findfont: Font family 'Heiti TC' not found.\n",
      "findfont: Font family 'Heiti TC' not found.\n",
      "findfont: Font family 'Heiti TC' not found.\n",
      "findfont: Font family 'Heiti TC' not found.\n",
      "findfont: Font family 'Heiti TC' not found.\n",
      "findfont: Font family 'Heiti TC' not found.\n",
      "findfont: Font family 'Heiti TC' not found.\n",
      "findfont: Font family 'Heiti TC' not found.\n",
      "findfont: Font family 'Heiti TC' not found.\n",
      "findfont: Font family 'Heiti TC' not found.\n",
      "findfont: Font family 'Heiti TC' not found.\n",
      "findfont: Font family 'Heiti TC' not found.\n",
      "findfont: Font family 'Heiti TC' not found.\n",
      "findfont: Font family 'Heiti TC' not found.\n",
      "findfont: Font family 'Heiti TC' not found.\n",
      "findfont: Font family 'Heiti TC' not found.\n"
     ]
    },
    {
     "data": {
      "text/plain": [
       "<AxesSubplot: >"
      ]
     },
     "execution_count": 8,
     "metadata": {},
     "output_type": "execute_result"
    }
   ],
   "source": [
    "sns.heatmap(data.isnull())"
   ]
  },
  {
   "cell_type": "code",
   "execution_count": 9,
   "metadata": {},
   "outputs": [],
   "source": [
    "data['designation'] = data['designation'].fillna('unknown')\n",
    "data['taster_twitter_handle'] = data['taster_twitter_handle'].fillna('unknown')\n",
    "data['taster_name'] = data['taster_name'].fillna('unknown')\n",
    "data['region_1'] = data['region_1'].fillna('unknown')\n",
    "\n",
    "data['price'] = data['price'].fillna(data['price'].mean())\n",
    "data['country'] = data['price'].fillna('US')\n",
    "data['province'] = data['price'].fillna('California')\n",
    "data['variety'] = data['price'].fillna('Pinot Noir')"
   ]
  },
  {
   "cell_type": "code",
   "execution_count": 10,
   "metadata": {},
   "outputs": [
    {
     "name": "stdout",
     "output_type": "stream",
     "text": [
      "<class 'pandas.core.frame.DataFrame'>\n",
      "RangeIndex: 129971 entries, 0 to 129970\n",
      "Data columns (total 12 columns):\n",
      " #   Column                 Non-Null Count   Dtype  \n",
      "---  ------                 --------------   -----  \n",
      " 0   country                129971 non-null  float64\n",
      " 1   description            129971 non-null  object \n",
      " 2   designation            129971 non-null  object \n",
      " 3   points                 129971 non-null  int64  \n",
      " 4   price                  129971 non-null  float64\n",
      " 5   province               129971 non-null  float64\n",
      " 6   region_1               129971 non-null  object \n",
      " 7   taster_name            129971 non-null  object \n",
      " 8   taster_twitter_handle  129971 non-null  object \n",
      " 9   title                  129971 non-null  object \n",
      " 10  variety                129971 non-null  float64\n",
      " 11  winery                 129971 non-null  object \n",
      "dtypes: float64(4), int64(1), object(7)\n",
      "memory usage: 11.9+ MB\n"
     ]
    }
   ],
   "source": [
    "data.info()"
   ]
  },
  {
   "cell_type": "code",
   "execution_count": 11,
   "metadata": {},
   "outputs": [
    {
     "data": {
      "text/plain": [
       "35.363389129985535"
      ]
     },
     "execution_count": 11,
     "metadata": {},
     "output_type": "execute_result"
    }
   ],
   "source": [
    "data['price'].mean()"
   ]
  },
  {
   "cell_type": "code",
   "execution_count": 12,
   "metadata": {},
   "outputs": [
    {
     "name": "stderr",
     "output_type": "stream",
     "text": [
      "findfont: Font family 'Heiti TC' not found.\n",
      "findfont: Font family 'Heiti TC' not found.\n",
      "findfont: Font family 'Heiti TC' not found.\n",
      "findfont: Font family 'Heiti TC' not found.\n",
      "findfont: Font family 'Heiti TC' not found.\n",
      "findfont: Font family 'Heiti TC' not found.\n",
      "findfont: Font family 'Heiti TC' not found.\n",
      "findfont: Font family 'Heiti TC' not found.\n",
      "findfont: Font family 'Heiti TC' not found.\n",
      "findfont: Font family 'Heiti TC' not found.\n",
      "findfont: Font family 'Heiti TC' not found.\n",
      "findfont: Font family 'Heiti TC' not found.\n",
      "findfont: Font family 'Heiti TC' not found.\n",
      "findfont: Font family 'Heiti TC' not found.\n",
      "findfont: Font family 'Heiti TC' not found.\n",
      "findfont: Font family 'Heiti TC' not found.\n",
      "findfont: Font family 'Heiti TC' not found.\n",
      "findfont: Font family 'Heiti TC' not found.\n",
      "findfont: Font family 'Heiti TC' not found.\n",
      "findfont: Font family 'Heiti TC' not found.\n",
      "findfont: Font family 'Heiti TC' not found.\n",
      "findfont: Font family 'Heiti TC' not found.\n",
      "findfont: Font family 'Heiti TC' not found.\n",
      "findfont: Font family 'Heiti TC' not found.\n",
      "findfont: Font family 'Heiti TC' not found.\n",
      "findfont: Font family 'Heiti TC' not found.\n",
      "findfont: Font family 'Heiti TC' not found.\n",
      "findfont: Font family 'Heiti TC' not found.\n",
      "findfont: Font family 'Heiti TC' not found.\n",
      "findfont: Font family 'Heiti TC' not found.\n",
      "findfont: Font family 'Heiti TC' not found.\n",
      "findfont: Font family 'Heiti TC' not found.\n",
      "findfont: Font family 'Heiti TC' not found.\n",
      "findfont: Font family 'Heiti TC' not found.\n",
      "findfont: Font family 'Heiti TC' not found.\n",
      "findfont: Font family 'Heiti TC' not found.\n",
      "findfont: Font family 'Heiti TC' not found.\n",
      "findfont: Font family 'Heiti TC' not found.\n",
      "findfont: Font family 'Heiti TC' not found.\n",
      "findfont: Font family 'Heiti TC' not found.\n",
      "findfont: Font family 'Heiti TC' not found.\n",
      "findfont: Font family 'Heiti TC' not found.\n",
      "findfont: Font family 'Heiti TC' not found.\n",
      "findfont: Font family 'Heiti TC' not found.\n",
      "findfont: Font family 'Heiti TC' not found.\n",
      "findfont: Font family 'Heiti TC' not found.\n",
      "findfont: Font family 'Heiti TC' not found.\n",
      "findfont: Font family 'Heiti TC' not found.\n",
      "findfont: Font family 'Heiti TC' not found.\n",
      "findfont: Font family 'Heiti TC' not found.\n",
      "findfont: Font family 'Heiti TC' not found.\n",
      "findfont: Font family 'Heiti TC' not found.\n",
      "findfont: Font family 'Heiti TC' not found.\n",
      "findfont: Font family 'Heiti TC' not found.\n",
      "findfont: Font family 'Heiti TC' not found.\n",
      "findfont: Font family 'Heiti TC' not found.\n",
      "findfont: Font family 'Heiti TC' not found.\n",
      "findfont: Font family 'Heiti TC' not found.\n",
      "findfont: Font family 'Heiti TC' not found.\n",
      "findfont: Font family 'Heiti TC' not found.\n",
      "findfont: Font family 'Heiti TC' not found.\n",
      "findfont: Font family 'Heiti TC' not found.\n"
     ]
    },
    {
     "data": {
      "text/plain": [
       "<AxesSubplot: >"
      ]
     },
     "execution_count": 12,
     "metadata": {},
     "output_type": "execute_result"
    }
   ],
   "source": [
    "sns.heatmap(data.isnull())"
   ]
  },
  {
   "cell_type": "code",
   "execution_count": 13,
   "metadata": {},
   "outputs": [],
   "source": [
    "df = pd.read_csv('data/wine_cleared.csv')"
   ]
  },
  {
   "cell_type": "code",
   "execution_count": 14,
   "metadata": {},
   "outputs": [
    {
     "data": {
      "application/vnd.jupyter.widget-view+json": {
       "model_id": "5ec20e970874479d9d299e752ec62463",
       "version_major": 2,
       "version_minor": 0
      },
      "text/plain": [
       "Summarize dataset:   0%|          | 0/5 [00:00<?, ?it/s]"
      ]
     },
     "metadata": {},
     "output_type": "display_data"
    },
    {
     "name": "stderr",
     "output_type": "stream",
     "text": [
      "findfont: Font family 'Heiti TC' not found.\n",
      "findfont: Font family 'Heiti TC' not found.\n",
      "findfont: Font family 'Heiti TC' not found.\n",
      "findfont: Font family 'Heiti TC' not found.\n",
      "findfont: Font family 'Heiti TC' not found.\n",
      "findfont: Font family 'Heiti TC' not found.\n",
      "findfont: Font family 'Heiti TC' not found.\n",
      "findfont: Font family 'Heiti TC' not found.\n",
      "findfont: Font family 'Heiti TC' not found.\n",
      "findfont: Font family 'Heiti TC' not found.\n",
      "findfont: Font family 'Heiti TC' not found.\n",
      "findfont: Font family 'Heiti TC' not found.\n",
      "findfont: Font family 'Heiti TC' not found.\n",
      "findfont: Font family 'Heiti TC' not found.\n",
      "findfont: Font family 'Heiti TC' not found.\n",
      "findfont: Font family 'Heiti TC' not found.\n",
      "findfont: Font family 'Heiti TC' not found.\n",
      "findfont: Font family 'Heiti TC' not found.\n",
      "findfont: Font family 'Heiti TC' not found.\n",
      "findfont: Font family 'Heiti TC' not found.\n",
      "findfont: Font family 'Heiti TC' not found.\n",
      "findfont: Font family 'Heiti TC' not found.\n",
      "findfont: Font family 'Heiti TC' not found.\n",
      "findfont: Font family 'Heiti TC' not found.\n",
      "findfont: Font family 'Heiti TC' not found.\n",
      "findfont: Font family 'Heiti TC' not found.\n",
      "findfont: Font family 'Heiti TC' not found.\n",
      "findfont: Font family 'Heiti TC' not found.\n",
      "findfont: Font family 'Heiti TC' not found.\n",
      "findfont: Font family 'Heiti TC' not found.\n",
      "findfont: Font family 'Heiti TC' not found.\n",
      "findfont: Font family 'Heiti TC' not found.\n",
      "findfont: Font family 'Heiti TC' not found.\n",
      "findfont: Font family 'Heiti TC' not found.\n",
      "findfont: Font family 'Heiti TC' not found.\n",
      "findfont: Font family 'Heiti TC' not found.\n",
      "findfont: Font family 'Heiti TC' not found.\n",
      "findfont: Font family 'Heiti TC' not found.\n",
      "findfont: Font family 'Heiti TC' not found.\n",
      "findfont: Font family 'Heiti TC' not found.\n",
      "findfont: Font family 'Heiti TC' not found.\n",
      "findfont: Font family 'Heiti TC' not found.\n",
      "findfont: Font family 'Heiti TC' not found.\n",
      "findfont: Font family 'Heiti TC' not found.\n",
      "findfont: Font family 'Heiti TC' not found.\n",
      "findfont: Font family 'Heiti TC' not found.\n",
      "findfont: Font family 'Heiti TC' not found.\n",
      "findfont: Font family 'Heiti TC' not found.\n",
      "findfont: Font family 'Heiti TC' not found.\n",
      "findfont: Font family 'Heiti TC' not found.\n",
      "findfont: Font family 'Heiti TC' not found.\n",
      "findfont: Font family 'Heiti TC' not found.\n",
      "findfont: Font family 'Heiti TC' not found.\n",
      "findfont: Font family 'Heiti TC' not found.\n",
      "findfont: Font family 'Heiti TC' not found.\n",
      "findfont: Font family 'Heiti TC' not found.\n",
      "findfont: Font family 'Heiti TC' not found.\n",
      "findfont: Font family 'Heiti TC' not found.\n",
      "findfont: Font family 'Heiti TC' not found.\n",
      "findfont: Font family 'Heiti TC' not found.\n",
      "findfont: Font family 'Heiti TC' not found.\n",
      "findfont: Font family 'Heiti TC' not found.\n",
      "findfont: Font family 'Heiti TC' not found.\n",
      "findfont: Font family 'Heiti TC' not found.\n",
      "findfont: Font family 'Heiti TC' not found.\n",
      "findfont: Font family 'Heiti TC' not found.\n",
      "findfont: Font family 'Heiti TC' not found.\n",
      "findfont: Font family 'Heiti TC' not found.\n",
      "findfont: Font family 'Heiti TC' not found.\n",
      "findfont: Font family 'Heiti TC' not found.\n",
      "findfont: Font family 'Heiti TC' not found.\n",
      "findfont: Font family 'Heiti TC' not found.\n",
      "findfont: Font family 'Heiti TC' not found.\n",
      "findfont: Font family 'Heiti TC' not found.\n",
      "findfont: Font family 'Heiti TC' not found.\n",
      "findfont: Font family 'Heiti TC' not found.\n",
      "findfont: Font family 'Heiti TC' not found.\n",
      "findfont: Font family 'Heiti TC' not found.\n",
      "findfont: Font family 'Heiti TC' not found.\n",
      "findfont: Font family 'Heiti TC' not found.\n",
      "findfont: Font family 'Heiti TC' not found.\n",
      "findfont: Font family 'Heiti TC' not found.\n",
      "findfont: Font family 'Heiti TC' not found.\n",
      "findfont: Font family 'Heiti TC' not found.\n",
      "findfont: Font family 'Heiti TC' not found.\n",
      "findfont: Font family 'Heiti TC' not found.\n",
      "findfont: Font family 'Heiti TC' not found.\n",
      "findfont: Font family 'Heiti TC' not found.\n",
      "findfont: Font family 'Heiti TC' not found.\n",
      "findfont: Font family 'Heiti TC' not found.\n",
      "findfont: Font family 'Heiti TC' not found.\n",
      "findfont: Font family 'Heiti TC' not found.\n",
      "findfont: Font family 'Heiti TC' not found.\n",
      "findfont: Font family 'Heiti TC' not found.\n",
      "findfont: Font family 'Heiti TC' not found.\n",
      "findfont: Font family 'Heiti TC' not found.\n",
      "findfont: Font family 'Heiti TC' not found.\n",
      "findfont: Font family 'Heiti TC' not found.\n",
      "findfont: Font family 'Heiti TC' not found.\n",
      "findfont: Font family 'Heiti TC' not found.\n",
      "findfont: Font family 'Heiti TC' not found.\n",
      "findfont: Font family 'Heiti TC' not found.\n",
      "findfont: Font family 'Heiti TC' not found.\n",
      "findfont: Font family 'Heiti TC' not found.\n",
      "findfont: Font family 'Heiti TC' not found.\n",
      "findfont: Font family 'Heiti TC' not found.\n",
      "findfont: Font family 'Heiti TC' not found.\n",
      "findfont: Font family 'Heiti TC' not found.\n",
      "findfont: Font family 'Heiti TC' not found.\n",
      "findfont: Font family 'Heiti TC' not found.\n",
      "findfont: Font family 'Heiti TC' not found.\n",
      "findfont: Font family 'Heiti TC' not found.\n",
      "findfont: Font family 'Heiti TC' not found.\n",
      "findfont: Font family 'Heiti TC' not found.\n",
      "findfont: Font family 'Heiti TC' not found.\n",
      "findfont: Font family 'Heiti TC' not found.\n",
      "findfont: Font family 'Heiti TC' not found.\n",
      "findfont: Font family 'Heiti TC' not found.\n",
      "findfont: Font family 'Heiti TC' not found.\n",
      "findfont: Font family 'Heiti TC' not found.\n",
      "findfont: Font family 'Heiti TC' not found.\n",
      "findfont: Font family 'Heiti TC' not found.\n",
      "findfont: Font family 'Heiti TC' not found.\n",
      "findfont: Font family 'Heiti TC' not found.\n",
      "findfont: Font family 'Heiti TC' not found.\n",
      "findfont: Font family 'Heiti TC' not found.\n",
      "findfont: Font family 'Heiti TC' not found.\n",
      "findfont: Font family 'Heiti TC' not found.\n",
      "findfont: Font family 'Heiti TC' not found.\n",
      "findfont: Font family 'Heiti TC' not found.\n",
      "findfont: Font family 'Heiti TC' not found.\n",
      "findfont: Font family 'Heiti TC' not found.\n",
      "findfont: Font family 'Heiti TC' not found.\n",
      "findfont: Font family 'Heiti TC' not found.\n",
      "findfont: Font family 'Heiti TC' not found.\n",
      "findfont: Font family 'Heiti TC' not found.\n",
      "findfont: Font family 'Heiti TC' not found.\n",
      "findfont: Font family 'Heiti TC' not found.\n",
      "findfont: Font family 'Heiti TC' not found.\n",
      "findfont: Font family 'Heiti TC' not found.\n",
      "findfont: Font family 'Heiti TC' not found.\n",
      "findfont: Font family 'Heiti TC' not found.\n",
      "findfont: Font family 'Heiti TC' not found.\n",
      "findfont: Font family 'Heiti TC' not found.\n",
      "findfont: Font family 'Heiti TC' not found.\n",
      "findfont: Font family 'Heiti TC' not found.\n",
      "findfont: Font family 'Heiti TC' not found.\n",
      "findfont: Font family 'Heiti TC' not found.\n",
      "findfont: Font family 'Heiti TC' not found.\n",
      "findfont: Font family 'Heiti TC' not found.\n",
      "findfont: Font family 'Heiti TC' not found.\n",
      "findfont: Font family 'Heiti TC' not found.\n",
      "findfont: Font family 'Heiti TC' not found.\n",
      "findfont: Font family 'Heiti TC' not found.\n",
      "findfont: Font family 'Heiti TC' not found.\n",
      "findfont: Font family 'Heiti TC' not found.\n",
      "findfont: Font family 'Heiti TC' not found.\n",
      "findfont: Font family 'Heiti TC' not found.\n",
      "findfont: Font family 'Heiti TC' not found.\n",
      "findfont: Font family 'Heiti TC' not found.\n",
      "findfont: Font family 'Heiti TC' not found.\n",
      "findfont: Font family 'Heiti TC' not found.\n",
      "findfont: Font family 'Heiti TC' not found.\n",
      "findfont: Font family 'Heiti TC' not found.\n"
     ]
    },
    {
     "data": {
      "application/vnd.jupyter.widget-view+json": {
       "model_id": "4f2019632aec4d3398b1260afb64e1fe",
       "version_major": 2,
       "version_minor": 0
      },
      "text/plain": [
       "Generate report structure:   0%|          | 0/1 [00:00<?, ?it/s]"
      ]
     },
     "metadata": {},
     "output_type": "display_data"
    },
    {
     "data": {
      "application/vnd.jupyter.widget-view+json": {
       "model_id": "e5bec046bc5d49d0b2e641cc9c3ad696",
       "version_major": 2,
       "version_minor": 0
      },
      "text/plain": [
       "Render HTML:   0%|          | 0/1 [00:00<?, ?it/s]"
      ]
     },
     "metadata": {},
     "output_type": "display_data"
    }
   ],
   "source": [
    "profile = ProfileReport(data, title=\"Wine Pandas Profiling Report\")\n",
    "profile"
   ]
  },
  {
   "cell_type": "code",
   "execution_count": null,
   "metadata": {},
   "outputs": [
    {
     "name": "stderr",
     "output_type": "stream",
     "text": [
      "Done! Use 'show' commands to display/save.   |██████████| [100%]   00:01 -> (00:00 left)\n"
     ]
    },
    {
     "name": "stdout",
     "output_type": "stream",
     "text": [
      "Report SWEETVIZ_REPORT.html was generated! NOTEBOOK/COLAB USERS: the web browser MAY not pop up, regardless, the report IS saved in your notebook/colab files.\n"
     ]
    }
   ],
   "source": [
    "# report = sv.analyze(df)\n",
    "# report.show_html()"
   ]
  },
  {
   "cell_type": "code",
   "execution_count": null,
   "metadata": {},
   "outputs": [],
   "source": [
    "# d = dtale.show(df)\n",
    "# d"
   ]
  },
  {
   "cell_type": "code",
   "execution_count": null,
   "metadata": {},
   "outputs": [],
   "source": []
  }
 ],
 "metadata": {
  "kernelspec": {
   "display_name": "Python 3.9.13 64-bit",
   "language": "python",
   "name": "python3"
  },
  "language_info": {
   "codemirror_mode": {
    "name": "ipython",
    "version": 3
   },
   "file_extension": ".py",
   "mimetype": "text/x-python",
   "name": "python",
   "nbconvert_exporter": "python",
   "pygments_lexer": "ipython3",
   "version": "3.9.13"
  },
  "orig_nbformat": 4,
  "vscode": {
   "interpreter": {
    "hash": "841fb9dcd8d71a3ab0e8a544d7eb62a731d40cc58abbc1dfb38aa7fab067409b"
   }
  }
 },
 "nbformat": 4,
 "nbformat_minor": 2
}
