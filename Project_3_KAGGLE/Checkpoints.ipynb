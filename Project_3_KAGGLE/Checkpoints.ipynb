{
 "cells": [
  {
   "cell_type": "code",
   "execution_count": 1,
   "metadata": {},
   "outputs": [],
   "source": [
    "# Импорт библиотек\n",
    "import numpy as np\n",
    "import pandas as pd\n",
    "import matplotlib.pyplot as plt\n",
    "import seaborn as sns\n",
    "\n",
    "from collections import Counter\n",
    "\n",
    "import geopy.distance\n",
    "\n",
    "import category_encoders as ce\n",
    "\n",
    "from sklearn import preprocessing\n",
    "from sklearn.feature_selection import f_classif\n",
    "\n",
    "from sklearn.ensemble import RandomForestRegressor  \n",
    "from sklearn import metrics\n",
    "\n",
    "from sklearn.metrics import mean_absolute_error\n",
    "from sklearn.model_selection import train_test_split"
   ]
  },
  {
   "cell_type": "code",
   "execution_count": 2,
   "metadata": {},
   "outputs": [
    {
     "name": "stderr",
     "output_type": "stream",
     "text": [
      "[nltk_data] Downloading package vader_lexicon to\n",
      "[nltk_data]     C:\\Users\\79265\\AppData\\Roaming\\nltk_data...\n",
      "[nltk_data]   Package vader_lexicon is already up-to-date!\n"
     ]
    },
    {
     "data": {
      "text/plain": [
       "True"
      ]
     },
     "execution_count": 2,
     "metadata": {},
     "output_type": "execute_result"
    }
   ],
   "source": [
    "# инструменты для лингвистического анализа:\n",
    "import nltk  \n",
    "from nltk.corpus import stopwords\n",
    "from nltk.sentiment.vader import SentimentIntensityAnalyzer  \n",
    "nltk.download('vader_lexicon')"
   ]
  },
  {
   "cell_type": "code",
   "execution_count": 3,
   "metadata": {},
   "outputs": [],
   "source": [
    "# фиксация RANDOM_SEED для воспроизводимости экспериментов\n",
    "RANDOM_SEED = 42"
   ]
  },
  {
   "cell_type": "code",
   "execution_count": 4,
   "metadata": {},
   "outputs": [
    {
     "name": "stderr",
     "output_type": "stream",
     "text": [
      "WARNING: Ignoring invalid distribution -atplotlib (c:\\users\\79265\\appdata\\local\\programs\\python\\python39\\lib\\site-packages)\n"
     ]
    }
   ],
   "source": [
    "# фиксация версии пакетов для воспроизводимости экспериментов\n",
    "!pip freeze > requirements.txt"
   ]
  },
  {
   "cell_type": "markdown",
   "metadata": {},
   "source": [
    "## Загрузка данных для выполнения заданий из юнита 4 модуля \"PROJECT-3. EDA + Feature Engineering. Соревнование на Kaggle\""
   ]
  },
  {
   "cell_type": "code",
   "execution_count": 5,
   "metadata": {},
   "outputs": [
    {
     "data": {
      "text/html": [
       "<div>\n",
       "<style scoped>\n",
       "    .dataframe tbody tr th:only-of-type {\n",
       "        vertical-align: middle;\n",
       "    }\n",
       "\n",
       "    .dataframe tbody tr th {\n",
       "        vertical-align: top;\n",
       "    }\n",
       "\n",
       "    .dataframe thead th {\n",
       "        text-align: right;\n",
       "    }\n",
       "</style>\n",
       "<table border=\"1\" class=\"dataframe\">\n",
       "  <thead>\n",
       "    <tr style=\"text-align: right;\">\n",
       "      <th></th>\n",
       "      <th>hotel_address</th>\n",
       "      <th>additional_number_of_scoring</th>\n",
       "      <th>review_date</th>\n",
       "      <th>average_score</th>\n",
       "      <th>hotel_name</th>\n",
       "      <th>reviewer_nationality</th>\n",
       "      <th>negative_review</th>\n",
       "      <th>review_total_negative_word_counts</th>\n",
       "      <th>total_number_of_reviews</th>\n",
       "      <th>positive_review</th>\n",
       "      <th>review_total_positive_word_counts</th>\n",
       "      <th>total_number_of_reviews_reviewer_has_given</th>\n",
       "      <th>reviewer_score</th>\n",
       "      <th>tags</th>\n",
       "      <th>days_since_review</th>\n",
       "      <th>lat</th>\n",
       "      <th>lng</th>\n",
       "    </tr>\n",
       "  </thead>\n",
       "  <tbody>\n",
       "    <tr>\n",
       "      <th>0</th>\n",
       "      <td>Stratton Street Mayfair Westminster Borough Lo...</td>\n",
       "      <td>581</td>\n",
       "      <td>2/19/2016</td>\n",
       "      <td>8.4</td>\n",
       "      <td>The May Fair Hotel</td>\n",
       "      <td>United Kingdom</td>\n",
       "      <td>Leaving</td>\n",
       "      <td>3</td>\n",
       "      <td>1994</td>\n",
       "      <td>Staff were amazing</td>\n",
       "      <td>4</td>\n",
       "      <td>7</td>\n",
       "      <td>10.0</td>\n",
       "      <td>[' Leisure trip ', ' Couple ', ' Studio Suite ...</td>\n",
       "      <td>531 day</td>\n",
       "      <td>51.507894</td>\n",
       "      <td>-0.143671</td>\n",
       "    </tr>\n",
       "    <tr>\n",
       "      <th>1</th>\n",
       "      <td>130 134 Southampton Row Camden London WC1B 5AF...</td>\n",
       "      <td>299</td>\n",
       "      <td>1/12/2017</td>\n",
       "      <td>8.3</td>\n",
       "      <td>Mercure London Bloomsbury Hotel</td>\n",
       "      <td>United Kingdom</td>\n",
       "      <td>poor breakfast</td>\n",
       "      <td>3</td>\n",
       "      <td>1361</td>\n",
       "      <td>location</td>\n",
       "      <td>2</td>\n",
       "      <td>14</td>\n",
       "      <td>6.3</td>\n",
       "      <td>[' Business trip ', ' Couple ', ' Standard Dou...</td>\n",
       "      <td>203 day</td>\n",
       "      <td>51.521009</td>\n",
       "      <td>-0.123097</td>\n",
       "    </tr>\n",
       "  </tbody>\n",
       "</table>\n",
       "</div>"
      ],
      "text/plain": [
       "                                       hotel_address  \\\n",
       "0  Stratton Street Mayfair Westminster Borough Lo...   \n",
       "1  130 134 Southampton Row Camden London WC1B 5AF...   \n",
       "\n",
       "   additional_number_of_scoring review_date  average_score  \\\n",
       "0                           581   2/19/2016            8.4   \n",
       "1                           299   1/12/2017            8.3   \n",
       "\n",
       "                        hotel_name reviewer_nationality  negative_review  \\\n",
       "0               The May Fair Hotel      United Kingdom          Leaving    \n",
       "1  Mercure London Bloomsbury Hotel      United Kingdom    poor breakfast   \n",
       "\n",
       "   review_total_negative_word_counts  total_number_of_reviews  \\\n",
       "0                                  3                     1994   \n",
       "1                                  3                     1361   \n",
       "\n",
       "       positive_review  review_total_positive_word_counts  \\\n",
       "0   Staff were amazing                                  4   \n",
       "1             location                                  2   \n",
       "\n",
       "   total_number_of_reviews_reviewer_has_given  reviewer_score  \\\n",
       "0                                           7            10.0   \n",
       "1                                          14             6.3   \n",
       "\n",
       "                                                tags days_since_review  \\\n",
       "0  [' Leisure trip ', ' Couple ', ' Studio Suite ...           531 day   \n",
       "1  [' Business trip ', ' Couple ', ' Standard Dou...           203 day   \n",
       "\n",
       "         lat       lng  \n",
       "0  51.507894 -0.143671  \n",
       "1  51.521009 -0.123097  "
      ]
     },
     "execution_count": 5,
     "metadata": {},
     "output_type": "execute_result"
    }
   ],
   "source": [
    "df = pd.read_csv('data/hotels.csv')\n",
    "df.head(2)"
   ]
  },
  {
   "cell_type": "code",
   "execution_count": 6,
   "metadata": {},
   "outputs": [
    {
     "name": "stdout",
     "output_type": "stream",
     "text": [
      "<class 'pandas.core.frame.DataFrame'>\n",
      "RangeIndex: 386803 entries, 0 to 386802\n",
      "Data columns (total 17 columns):\n",
      " #   Column                                      Non-Null Count   Dtype  \n",
      "---  ------                                      --------------   -----  \n",
      " 0   hotel_address                               386803 non-null  object \n",
      " 1   additional_number_of_scoring                386803 non-null  int64  \n",
      " 2   review_date                                 386803 non-null  object \n",
      " 3   average_score                               386803 non-null  float64\n",
      " 4   hotel_name                                  386803 non-null  object \n",
      " 5   reviewer_nationality                        386803 non-null  object \n",
      " 6   negative_review                             386803 non-null  object \n",
      " 7   review_total_negative_word_counts           386803 non-null  int64  \n",
      " 8   total_number_of_reviews                     386803 non-null  int64  \n",
      " 9   positive_review                             386803 non-null  object \n",
      " 10  review_total_positive_word_counts           386803 non-null  int64  \n",
      " 11  total_number_of_reviews_reviewer_has_given  386803 non-null  int64  \n",
      " 12  reviewer_score                              386803 non-null  float64\n",
      " 13  tags                                        386803 non-null  object \n",
      " 14  days_since_review                           386803 non-null  object \n",
      " 15  lat                                         384355 non-null  float64\n",
      " 16  lng                                         384355 non-null  float64\n",
      "dtypes: float64(4), int64(5), object(8)\n",
      "memory usage: 50.2+ MB\n"
     ]
    }
   ],
   "source": [
    "df.info()"
   ]
  },
  {
   "cell_type": "markdown",
   "metadata": {},
   "source": [
    "### 4.1 Дополнить списки num_cols и cat_cols для оценки значимости всех признаков"
   ]
  },
  {
   "cell_type": "code",
   "execution_count": 7,
   "metadata": {},
   "outputs": [
    {
     "data": {
      "text/plain": [
       "['additional_number_of_scoring',\n",
       " 'average_score',\n",
       " 'review_total_negative_word_counts',\n",
       " 'total_number_of_reviews',\n",
       " 'review_total_positive_word_counts',\n",
       " 'total_number_of_reviews_reviewer_has_given',\n",
       " 'reviewer_score',\n",
       " 'lat',\n",
       " 'lng']"
      ]
     },
     "execution_count": 7,
     "metadata": {},
     "output_type": "execute_result"
    }
   ],
   "source": [
    "num_cols = list(df.select_dtypes(['int64','float64']).columns)\n",
    "num_cols"
   ]
  },
  {
   "cell_type": "code",
   "execution_count": 8,
   "metadata": {},
   "outputs": [
    {
     "data": {
      "text/plain": [
       "['hotel_address',\n",
       " 'review_date',\n",
       " 'hotel_name',\n",
       " 'reviewer_nationality',\n",
       " 'negative_review',\n",
       " 'positive_review',\n",
       " 'tags',\n",
       " 'days_since_review']"
      ]
     },
     "execution_count": 8,
     "metadata": {},
     "output_type": "execute_result"
    }
   ],
   "source": [
    "cat_cols = list(df.select_dtypes('object').columns)\n",
    "cat_cols"
   ]
  },
  {
   "cell_type": "markdown",
   "metadata": {},
   "source": [
    "### 4.2 Сколько отелей представлено в наборе данных?"
   ]
  },
  {
   "cell_type": "code",
   "execution_count": 9,
   "metadata": {},
   "outputs": [
    {
     "data": {
      "text/plain": [
       "1492"
      ]
     },
     "execution_count": 9,
     "metadata": {},
     "output_type": "execute_result"
    }
   ],
   "source": [
    "df['hotel_name'].nunique()"
   ]
  },
  {
   "cell_type": "markdown",
   "metadata": {},
   "source": [
    "### 4.3 Даты размещения отзывов"
   ]
  },
  {
   "cell_type": "code",
   "execution_count": 10,
   "metadata": {},
   "outputs": [
    {
     "name": "stdout",
     "output_type": "stream",
     "text": [
      "2017-08-03 00:00:00\n",
      "\n",
      "2015-08-04 00:00:00\n"
     ]
    }
   ],
   "source": [
    "# преобразование типа признака 'review_date' к формату datetime\n",
    "df['review_date'] = pd.to_datetime(df['review_date'], dayfirst=False)\n",
    "\n",
    "# Самый свежий отзыв оставлен:\n",
    "print(df['review_date'].max())\n",
    "print()\n",
    "\n",
    "# Самый первый отзыв оставлен:\n",
    "print(df['review_date'].min())"
   ]
  },
  {
   "cell_type": "markdown",
   "metadata": {},
   "source": [
    "### 4.4 Сколько уникальных тегов представлено в наборе данных?"
   ]
  },
  {
   "cell_type": "code",
   "execution_count": 11,
   "metadata": {},
   "outputs": [],
   "source": [
    "# Дано ментором как пример. На основании данной информации дальше напиcала свою функцию\n",
    "# def rev_func(num_tags):\n",
    "#     num_tags = num_tags[2:-2]\n",
    "#     res = num_tags.strip().split(' \\', \\' ')\n",
    "#     return res\n",
    "\n",
    "# df['tags_n'] = df['tags'].apply(rev_func)\n",
    "\n",
    "# df = df.explode('tags_n')\n",
    "# len(df['tags_n'].unique())"
   ]
  },
  {
   "cell_type": "code",
   "execution_count": 12,
   "metadata": {},
   "outputs": [],
   "source": [
    "def get_unique_tags(tags):\n",
    "    unique_tags = []\n",
    "    for tag_list in tags:\n",
    "        for tag in tag_list[2:-2].split('\\', \\''):\n",
    "            if tag.strip() not in unique_tags:\n",
    "                unique_tags.append(tag.strip())\n",
    "    print(f'Число уникальных тегов: {len(unique_tags)}')\n",
    "    return"
   ]
  },
  {
   "cell_type": "code",
   "execution_count": 13,
   "metadata": {},
   "outputs": [
    {
     "name": "stdout",
     "output_type": "stream",
     "text": [
      "Число уникальных тегов: 2368\n"
     ]
    }
   ],
   "source": [
    "unique_tags = get_unique_tags(df['tags'])\n",
    "unique_tags"
   ]
  },
  {
   "cell_type": "markdown",
   "metadata": {},
   "source": [
    "### 4.5 Какой тег представлен в наибольшем числе отзывов?"
   ]
  },
  {
   "cell_type": "code",
   "execution_count": 14,
   "metadata": {},
   "outputs": [
    {
     "data": {
      "text/plain": [
       "'Leisure trip'"
      ]
     },
     "execution_count": 14,
     "metadata": {},
     "output_type": "execute_result"
    }
   ],
   "source": [
    "tags = []\n",
    "for tag_list in df['tags']:\n",
    "    for tag in tag_list[2:-2].split('\\', \\''):\n",
    "        tags.append(tag.strip())\n",
    "\n",
    "cnt = Counter(tags)\n",
    "list(cnt.most_common()[0])[0]"
   ]
  },
  {
   "cell_type": "markdown",
   "metadata": {},
   "source": [
    "### 4.6 Выяснить из тегов, на сколько ночей чаще всего останавливаются путешественники в отелях."
   ]
  },
  {
   "cell_type": "code",
   "execution_count": 15,
   "metadata": {},
   "outputs": [
    {
     "name": "stdout",
     "output_type": "stream",
     "text": [
      "Stayed 1 night: 145373\n",
      "Stayed 2 nights: 100263\n",
      "Stayed 3 nights: 72000\n",
      "Stayed 4 nights: 35748\n",
      "Stayed 5 nights: 15611\n",
      "Stayed 6 nights: 7399\n",
      "Stayed 7 nights: 5549\n",
      "Stayed 8 nights: 1910\n",
      "Stayed 9 nights: 966\n",
      "Stayed 10 nights: 663\n",
      "Stayed 11 nights: 306\n",
      "Stayed 12 nights: 217\n",
      "Stayed 14 nights: 184\n",
      "Stayed 13 nights: 174\n",
      "Stayed 15 nights: 87\n",
      "Stayed 16 nights: 38\n",
      "Stayed 17 nights: 27\n",
      "Stayed 18 nights: 24\n",
      "Stayed 19 nights: 23\n",
      "Stayed 21 nights: 19\n",
      "Stayed 20 nights: 17\n",
      "Stayed 27 nights: 10\n",
      "Stayed 30 nights: 10\n",
      "Stayed 22 nights: 8\n",
      "Stayed 28 nights: 7\n",
      "Stayed 26 nights: 6\n",
      "Special Offer Double Room 3 nights minimum: 6\n",
      "Stayed 23 nights: 6\n",
      "Stayed 24 nights: 5\n",
      "Junior Suite Give me the night: 4\n",
      "Stayed 25 nights: 4\n",
      "Stayed 29 nights: 3\n"
     ]
    }
   ],
   "source": [
    "for i in cnt.most_common():\n",
    "    tag = i[0]\n",
    "    cnt = i[1]\n",
    "    if ' night' in i[0]:\n",
    "        print(f'{tag}: {cnt}')"
   ]
  },
  {
   "cell_type": "markdown",
   "metadata": {},
   "source": [
    "### 4.7 значение метрики MAPE на этом этапе"
   ]
  },
  {
   "cell_type": "code",
   "execution_count": 16,
   "metadata": {},
   "outputs": [],
   "source": [
    "# убираем категориальные признаки и признак даты\n",
    "object_columns = [s for s in df.columns if df[s].dtypes == 'object']\n",
    "df.drop(object_columns, axis = 1, inplace=True)\n",
    "df.drop('review_date', axis = 1, inplace=True)\n",
    "\n",
    "# заполняем пропуски нулями\n",
    "df = df.fillna(0)"
   ]
  },
  {
   "cell_type": "code",
   "execution_count": 17,
   "metadata": {},
   "outputs": [],
   "source": [
    "# Разбиваем датафрейм на части, необходимые для обучения и тестирования модели  \n",
    "# Х - данные с информацией об отелях, у - целевая переменная (рейтинги отелей)  \n",
    "X = df.drop(['reviewer_score'], axis = 1)  \n",
    "y = df['reviewer_score']"
   ]
  },
  {
   "cell_type": "code",
   "execution_count": 18,
   "metadata": {},
   "outputs": [],
   "source": [
    "# Наборы данных с меткой \"train\" будут использоваться для обучения модели, \"test\" - для тестирования.  \n",
    "# Для тестирования мы будем использовать 25% от исходного датасета.  \n",
    "X_train, X_test, y_train, y_test = train_test_split(X, y, test_size=0.25, random_state=42)"
   ]
  },
  {
   "cell_type": "code",
   "execution_count": 19,
   "metadata": {},
   "outputs": [],
   "source": [
    "# Создаём модель  \n",
    "regr = RandomForestRegressor(n_estimators=100)  \n",
    "      \n",
    "# Обучаем модель на тестовом наборе данных  \n",
    "regr.fit(X_train, y_train)  \n",
    "      \n",
    "# Используем обученную модель для предсказания рейтинга отелей в тестовой выборке.  \n",
    "# Предсказанные значения записываем в переменную y_pred  \n",
    "y_pred = regr.predict(X_test)  "
   ]
  },
  {
   "cell_type": "code",
   "execution_count": 20,
   "metadata": {},
   "outputs": [
    {
     "name": "stdout",
     "output_type": "stream",
     "text": [
      "MAPE: 0.1413910658348179\n"
     ]
    }
   ],
   "source": [
    "# Сравниваем предсказанные значения (y_pred) с реальными (y_test), и смотрим насколько они отличаются  \n",
    "# Метрика называется Mean Absolute Percentage Error (MAPE) и показывает среднюю абсолютную процентную ошибку предсказанных значений от фактических.  \n",
    "print('MAPE:', metrics.mean_absolute_percentage_error(y_test, y_pred))"
   ]
  },
  {
   "cell_type": "markdown",
   "metadata": {},
   "source": [
    "## Загрузка данных для соревнования на Kaggle"
   ]
  },
  {
   "cell_type": "code",
   "execution_count": 21,
   "metadata": {},
   "outputs": [
    {
     "data": {
      "text/html": [
       "<div>\n",
       "<style scoped>\n",
       "    .dataframe tbody tr th:only-of-type {\n",
       "        vertical-align: middle;\n",
       "    }\n",
       "\n",
       "    .dataframe tbody tr th {\n",
       "        vertical-align: top;\n",
       "    }\n",
       "\n",
       "    .dataframe thead th {\n",
       "        text-align: right;\n",
       "    }\n",
       "</style>\n",
       "<table border=\"1\" class=\"dataframe\">\n",
       "  <thead>\n",
       "    <tr style=\"text-align: right;\">\n",
       "      <th></th>\n",
       "      <th>hotel_address</th>\n",
       "      <th>additional_number_of_scoring</th>\n",
       "      <th>review_date</th>\n",
       "      <th>average_score</th>\n",
       "      <th>hotel_name</th>\n",
       "      <th>reviewer_nationality</th>\n",
       "      <th>negative_review</th>\n",
       "      <th>review_total_negative_word_counts</th>\n",
       "      <th>total_number_of_reviews</th>\n",
       "      <th>positive_review</th>\n",
       "      <th>review_total_positive_word_counts</th>\n",
       "      <th>total_number_of_reviews_reviewer_has_given</th>\n",
       "      <th>reviewer_score</th>\n",
       "      <th>tags</th>\n",
       "      <th>days_since_review</th>\n",
       "      <th>lat</th>\n",
       "      <th>lng</th>\n",
       "    </tr>\n",
       "  </thead>\n",
       "  <tbody>\n",
       "    <tr>\n",
       "      <th>0</th>\n",
       "      <td>Stratton Street Mayfair Westminster Borough Lo...</td>\n",
       "      <td>581</td>\n",
       "      <td>2/19/2016</td>\n",
       "      <td>8.4</td>\n",
       "      <td>The May Fair Hotel</td>\n",
       "      <td>United Kingdom</td>\n",
       "      <td>Leaving</td>\n",
       "      <td>3</td>\n",
       "      <td>1994</td>\n",
       "      <td>Staff were amazing</td>\n",
       "      <td>4</td>\n",
       "      <td>7</td>\n",
       "      <td>10.0</td>\n",
       "      <td>[' Leisure trip ', ' Couple ', ' Studio Suite ...</td>\n",
       "      <td>531 day</td>\n",
       "      <td>51.507894</td>\n",
       "      <td>-0.143671</td>\n",
       "    </tr>\n",
       "    <tr>\n",
       "      <th>1</th>\n",
       "      <td>130 134 Southampton Row Camden London WC1B 5AF...</td>\n",
       "      <td>299</td>\n",
       "      <td>1/12/2017</td>\n",
       "      <td>8.3</td>\n",
       "      <td>Mercure London Bloomsbury Hotel</td>\n",
       "      <td>United Kingdom</td>\n",
       "      <td>poor breakfast</td>\n",
       "      <td>3</td>\n",
       "      <td>1361</td>\n",
       "      <td>location</td>\n",
       "      <td>2</td>\n",
       "      <td>14</td>\n",
       "      <td>6.3</td>\n",
       "      <td>[' Business trip ', ' Couple ', ' Standard Dou...</td>\n",
       "      <td>203 day</td>\n",
       "      <td>51.521009</td>\n",
       "      <td>-0.123097</td>\n",
       "    </tr>\n",
       "    <tr>\n",
       "      <th>2</th>\n",
       "      <td>151 bis Rue de Rennes 6th arr 75006 Paris France</td>\n",
       "      <td>32</td>\n",
       "      <td>10/18/2016</td>\n",
       "      <td>8.9</td>\n",
       "      <td>Legend Saint Germain by Elegancia</td>\n",
       "      <td>China</td>\n",
       "      <td>No kettle in room</td>\n",
       "      <td>6</td>\n",
       "      <td>406</td>\n",
       "      <td>No Positive</td>\n",
       "      <td>0</td>\n",
       "      <td>14</td>\n",
       "      <td>7.5</td>\n",
       "      <td>[' Leisure trip ', ' Solo traveler ', ' Modern...</td>\n",
       "      <td>289 day</td>\n",
       "      <td>48.845377</td>\n",
       "      <td>2.325643</td>\n",
       "    </tr>\n",
       "  </tbody>\n",
       "</table>\n",
       "</div>"
      ],
      "text/plain": [
       "                                       hotel_address  \\\n",
       "0  Stratton Street Mayfair Westminster Borough Lo...   \n",
       "1  130 134 Southampton Row Camden London WC1B 5AF...   \n",
       "2   151 bis Rue de Rennes 6th arr 75006 Paris France   \n",
       "\n",
       "   additional_number_of_scoring review_date  average_score  \\\n",
       "0                           581   2/19/2016            8.4   \n",
       "1                           299   1/12/2017            8.3   \n",
       "2                            32  10/18/2016            8.9   \n",
       "\n",
       "                          hotel_name reviewer_nationality  \\\n",
       "0                 The May Fair Hotel      United Kingdom    \n",
       "1    Mercure London Bloomsbury Hotel      United Kingdom    \n",
       "2  Legend Saint Germain by Elegancia               China    \n",
       "\n",
       "       negative_review  review_total_negative_word_counts  \\\n",
       "0             Leaving                                   3   \n",
       "1       poor breakfast                                  3   \n",
       "2   No kettle in room                                   6   \n",
       "\n",
       "   total_number_of_reviews      positive_review  \\\n",
       "0                     1994   Staff were amazing   \n",
       "1                     1361             location   \n",
       "2                      406          No Positive   \n",
       "\n",
       "   review_total_positive_word_counts  \\\n",
       "0                                  4   \n",
       "1                                  2   \n",
       "2                                  0   \n",
       "\n",
       "   total_number_of_reviews_reviewer_has_given  reviewer_score  \\\n",
       "0                                           7            10.0   \n",
       "1                                          14             6.3   \n",
       "2                                          14             7.5   \n",
       "\n",
       "                                                tags days_since_review  \\\n",
       "0  [' Leisure trip ', ' Couple ', ' Studio Suite ...           531 day   \n",
       "1  [' Business trip ', ' Couple ', ' Standard Dou...           203 day   \n",
       "2  [' Leisure trip ', ' Solo traveler ', ' Modern...           289 day   \n",
       "\n",
       "         lat       lng  \n",
       "0  51.507894 -0.143671  \n",
       "1  51.521009 -0.123097  \n",
       "2  48.845377  2.325643  "
      ]
     },
     "execution_count": 21,
     "metadata": {},
     "output_type": "execute_result"
    }
   ],
   "source": [
    "train_data = pd.read_csv('data/hotels_train.csv')\n",
    "train_data.head(3)"
   ]
  },
  {
   "cell_type": "code",
   "execution_count": 22,
   "metadata": {},
   "outputs": [
    {
     "data": {
      "text/html": [
       "<div>\n",
       "<style scoped>\n",
       "    .dataframe tbody tr th:only-of-type {\n",
       "        vertical-align: middle;\n",
       "    }\n",
       "\n",
       "    .dataframe tbody tr th {\n",
       "        vertical-align: top;\n",
       "    }\n",
       "\n",
       "    .dataframe thead th {\n",
       "        text-align: right;\n",
       "    }\n",
       "</style>\n",
       "<table border=\"1\" class=\"dataframe\">\n",
       "  <thead>\n",
       "    <tr style=\"text-align: right;\">\n",
       "      <th></th>\n",
       "      <th>hotel_address</th>\n",
       "      <th>additional_number_of_scoring</th>\n",
       "      <th>review_date</th>\n",
       "      <th>average_score</th>\n",
       "      <th>hotel_name</th>\n",
       "      <th>reviewer_nationality</th>\n",
       "      <th>negative_review</th>\n",
       "      <th>review_total_negative_word_counts</th>\n",
       "      <th>total_number_of_reviews</th>\n",
       "      <th>positive_review</th>\n",
       "      <th>review_total_positive_word_counts</th>\n",
       "      <th>total_number_of_reviews_reviewer_has_given</th>\n",
       "      <th>tags</th>\n",
       "      <th>days_since_review</th>\n",
       "      <th>lat</th>\n",
       "      <th>lng</th>\n",
       "    </tr>\n",
       "  </thead>\n",
       "  <tbody>\n",
       "    <tr>\n",
       "      <th>0</th>\n",
       "      <td>Via Senigallia 6 20161 Milan Italy</td>\n",
       "      <td>904</td>\n",
       "      <td>7/21/2017</td>\n",
       "      <td>8.1</td>\n",
       "      <td>Hotel Da Vinci</td>\n",
       "      <td>United Kingdom</td>\n",
       "      <td>Would have appreciated a shop in the hotel th...</td>\n",
       "      <td>52</td>\n",
       "      <td>16670</td>\n",
       "      <td>Hotel was great clean friendly staff free bre...</td>\n",
       "      <td>62</td>\n",
       "      <td>1</td>\n",
       "      <td>[' Leisure trip ', ' Couple ', ' Double Room '...</td>\n",
       "      <td>13 days</td>\n",
       "      <td>45.533137</td>\n",
       "      <td>9.171102</td>\n",
       "    </tr>\n",
       "    <tr>\n",
       "      <th>1</th>\n",
       "      <td>Arlandaweg 10 Westpoort 1043 EW Amsterdam Neth...</td>\n",
       "      <td>612</td>\n",
       "      <td>12/12/2016</td>\n",
       "      <td>8.6</td>\n",
       "      <td>Urban Lodge Hotel</td>\n",
       "      <td>Belgium</td>\n",
       "      <td>No tissue paper box was present at the room</td>\n",
       "      <td>10</td>\n",
       "      <td>5018</td>\n",
       "      <td>No Positive</td>\n",
       "      <td>0</td>\n",
       "      <td>7</td>\n",
       "      <td>[' Leisure trip ', ' Group ', ' Triple Room ',...</td>\n",
       "      <td>234 day</td>\n",
       "      <td>52.385649</td>\n",
       "      <td>4.834443</td>\n",
       "    </tr>\n",
       "    <tr>\n",
       "      <th>2</th>\n",
       "      <td>Mallorca 251 Eixample 08008 Barcelona Spain</td>\n",
       "      <td>46</td>\n",
       "      <td>11/26/2015</td>\n",
       "      <td>8.3</td>\n",
       "      <td>Alexandra Barcelona A DoubleTree by Hilton</td>\n",
       "      <td>Sweden</td>\n",
       "      <td>Pillows</td>\n",
       "      <td>3</td>\n",
       "      <td>351</td>\n",
       "      <td>Nice welcoming and service</td>\n",
       "      <td>5</td>\n",
       "      <td>15</td>\n",
       "      <td>[' Business trip ', ' Solo traveler ', ' Twin ...</td>\n",
       "      <td>616 day</td>\n",
       "      <td>41.393192</td>\n",
       "      <td>2.161520</td>\n",
       "    </tr>\n",
       "  </tbody>\n",
       "</table>\n",
       "</div>"
      ],
      "text/plain": [
       "                                       hotel_address  \\\n",
       "0                 Via Senigallia 6 20161 Milan Italy   \n",
       "1  Arlandaweg 10 Westpoort 1043 EW Amsterdam Neth...   \n",
       "2        Mallorca 251 Eixample 08008 Barcelona Spain   \n",
       "\n",
       "   additional_number_of_scoring review_date  average_score  \\\n",
       "0                           904   7/21/2017            8.1   \n",
       "1                           612  12/12/2016            8.6   \n",
       "2                            46  11/26/2015            8.3   \n",
       "\n",
       "                                   hotel_name reviewer_nationality  \\\n",
       "0                              Hotel Da Vinci      United Kingdom    \n",
       "1                           Urban Lodge Hotel             Belgium    \n",
       "2  Alexandra Barcelona A DoubleTree by Hilton              Sweden    \n",
       "\n",
       "                                     negative_review  \\\n",
       "0   Would have appreciated a shop in the hotel th...   \n",
       "1        No tissue paper box was present at the room   \n",
       "2                                           Pillows    \n",
       "\n",
       "   review_total_negative_word_counts  total_number_of_reviews  \\\n",
       "0                                 52                    16670   \n",
       "1                                 10                     5018   \n",
       "2                                  3                      351   \n",
       "\n",
       "                                     positive_review  \\\n",
       "0   Hotel was great clean friendly staff free bre...   \n",
       "1                                        No Positive   \n",
       "2                         Nice welcoming and service   \n",
       "\n",
       "   review_total_positive_word_counts  \\\n",
       "0                                 62   \n",
       "1                                  0   \n",
       "2                                  5   \n",
       "\n",
       "   total_number_of_reviews_reviewer_has_given  \\\n",
       "0                                           1   \n",
       "1                                           7   \n",
       "2                                          15   \n",
       "\n",
       "                                                tags days_since_review  \\\n",
       "0  [' Leisure trip ', ' Couple ', ' Double Room '...           13 days   \n",
       "1  [' Leisure trip ', ' Group ', ' Triple Room ',...           234 day   \n",
       "2  [' Business trip ', ' Solo traveler ', ' Twin ...           616 day   \n",
       "\n",
       "         lat       lng  \n",
       "0  45.533137  9.171102  \n",
       "1  52.385649  4.834443  \n",
       "2  41.393192  2.161520  "
      ]
     },
     "execution_count": 22,
     "metadata": {},
     "output_type": "execute_result"
    }
   ],
   "source": [
    "test_data = pd.read_csv('data/hotels_test.csv')\n",
    "test_data.head(3)"
   ]
  },
  {
   "cell_type": "code",
   "execution_count": 23,
   "metadata": {},
   "outputs": [
    {
     "data": {
      "text/html": [
       "<div>\n",
       "<style scoped>\n",
       "    .dataframe tbody tr th:only-of-type {\n",
       "        vertical-align: middle;\n",
       "    }\n",
       "\n",
       "    .dataframe tbody tr th {\n",
       "        vertical-align: top;\n",
       "    }\n",
       "\n",
       "    .dataframe thead th {\n",
       "        text-align: right;\n",
       "    }\n",
       "</style>\n",
       "<table border=\"1\" class=\"dataframe\">\n",
       "  <thead>\n",
       "    <tr style=\"text-align: right;\">\n",
       "      <th></th>\n",
       "      <th>reviewer_score</th>\n",
       "      <th>id</th>\n",
       "    </tr>\n",
       "  </thead>\n",
       "  <tbody>\n",
       "    <tr>\n",
       "      <th>0</th>\n",
       "      <td>1</td>\n",
       "      <td>488440</td>\n",
       "    </tr>\n",
       "    <tr>\n",
       "      <th>1</th>\n",
       "      <td>10</td>\n",
       "      <td>274649</td>\n",
       "    </tr>\n",
       "    <tr>\n",
       "      <th>2</th>\n",
       "      <td>3</td>\n",
       "      <td>374688</td>\n",
       "    </tr>\n",
       "  </tbody>\n",
       "</table>\n",
       "</div>"
      ],
      "text/plain": [
       "   reviewer_score      id\n",
       "0               1  488440\n",
       "1              10  274649\n",
       "2               3  374688"
      ]
     },
     "execution_count": 23,
     "metadata": {},
     "output_type": "execute_result"
    }
   ],
   "source": [
    "submission = pd.read_csv('data/submission.csv')\n",
    "submission.head(3)"
   ]
  },
  {
   "cell_type": "code",
   "execution_count": 24,
   "metadata": {},
   "outputs": [
    {
     "name": "stdout",
     "output_type": "stream",
     "text": [
      "Размер тренировочной выборки: (386803, 17).    \n",
      "Размер тестовой выборки: (128935, 16).        \n",
      "Размер сабмита: (128935, 2).\n"
     ]
    }
   ],
   "source": [
    "print(f'Размер тренировочной выборки: {train_data.shape}.\\\n",
    "    \\nРазмер тестовой выборки: {test_data.shape}.\\\n",
    "        \\nРазмер сабмита: {submission.shape}.')"
   ]
  },
  {
   "cell_type": "code",
   "execution_count": 25,
   "metadata": {},
   "outputs": [
    {
     "name": "stderr",
     "output_type": "stream",
     "text": [
      "C:\\Users\\79265\\AppData\\Local\\Temp\\ipykernel_1300\\93398174.py:6: FutureWarning: The frame.append method is deprecated and will be removed from pandas in a future version. Use pandas.concat instead.\n",
      "  data = test_data.append(train_data, sort=False).reset_index(drop=True) # объединяем\n"
     ]
    }
   ],
   "source": [
    "# для корректной обработки признаков объединяем трейн и тест в один датасет\n",
    "train_data['sample'] = 1 # помечаем трейн\n",
    "test_data['sample'] = 0 # помечаем тест\n",
    "test_data['reviewer_score'] = 0 # в тесте нет значения reviewer_score, мы его должны предсказать, поэтому пока просто заполняем нулями\n",
    "\n",
    "data = test_data.append(train_data, sort=False).reset_index(drop=True) # объединяем"
   ]
  },
  {
   "cell_type": "code",
   "execution_count": 26,
   "metadata": {},
   "outputs": [
    {
     "name": "stdout",
     "output_type": "stream",
     "text": [
      "<class 'pandas.core.frame.DataFrame'>\n",
      "RangeIndex: 515738 entries, 0 to 515737\n",
      "Data columns (total 18 columns):\n",
      " #   Column                                      Non-Null Count   Dtype  \n",
      "---  ------                                      --------------   -----  \n",
      " 0   hotel_address                               515738 non-null  object \n",
      " 1   additional_number_of_scoring                515738 non-null  int64  \n",
      " 2   review_date                                 515738 non-null  object \n",
      " 3   average_score                               515738 non-null  float64\n",
      " 4   hotel_name                                  515738 non-null  object \n",
      " 5   reviewer_nationality                        515738 non-null  object \n",
      " 6   negative_review                             515738 non-null  object \n",
      " 7   review_total_negative_word_counts           515738 non-null  int64  \n",
      " 8   total_number_of_reviews                     515738 non-null  int64  \n",
      " 9   positive_review                             515738 non-null  object \n",
      " 10  review_total_positive_word_counts           515738 non-null  int64  \n",
      " 11  total_number_of_reviews_reviewer_has_given  515738 non-null  int64  \n",
      " 12  tags                                        515738 non-null  object \n",
      " 13  days_since_review                           515738 non-null  object \n",
      " 14  lat                                         512470 non-null  float64\n",
      " 15  lng                                         512470 non-null  float64\n",
      " 16  sample                                      515738 non-null  int64  \n",
      " 17  reviewer_score                              515738 non-null  float64\n",
      "dtypes: float64(4), int64(6), object(8)\n",
      "memory usage: 70.8+ MB\n"
     ]
    }
   ],
   "source": [
    "# основная информация о данных, кол-вах пропусков, типах данных\n",
    "data.info()"
   ]
  },
  {
   "cell_type": "markdown",
   "metadata": {},
   "source": [
    "## Создание признаков"
   ]
  },
  {
   "cell_type": "code",
   "execution_count": 27,
   "metadata": {},
   "outputs": [
    {
     "name": "stdout",
     "output_type": "stream",
     "text": [
      "Размерность таблицы: (515738, 18)\n"
     ]
    }
   ],
   "source": [
    "# в целях избежания ошибок на каждом этапе будем проводить сверку размерности таблицы\n",
    "print(f'Размерность таблицы: {data.shape}')"
   ]
  },
  {
   "cell_type": "markdown",
   "metadata": {},
   "source": [
    "### Работа с признаком адреса"
   ]
  },
  {
   "cell_type": "code",
   "execution_count": 28,
   "metadata": {},
   "outputs": [
    {
     "data": {
      "text/plain": [
       "array(['Via Senigallia 6 20161 Milan Italy',\n",
       "       'Arlandaweg 10 Westpoort 1043 EW Amsterdam Netherlands',\n",
       "       'Mallorca 251 Eixample 08008 Barcelona Spain',\n",
       "       'Piazza Della Repubblica 17 Central Station 20124 Milan Italy',\n",
       "       'Singel 303 309 Amsterdam City Center 1012 WJ Amsterdam Netherlands',\n",
       "       'Coram Street Camden London WC1N 1HT United Kingdom',\n",
       "       'Empire Way Wembley Brent London HA9 8DS United Kingdom',\n",
       "       '1 Shortlands Hammersmith and Fulham London W6 8DR United Kingdom',\n",
       "       '35 Rue Caumartin 9th arr 75009 Paris France',\n",
       "       '49 Gloucester Place Marble Arch Westminster Borough London W1U 8JE United Kingdom',\n",
       "       'Via Giorgio Stephenson 55 20157 Milan Italy',\n",
       "       'Spaarndammerdijk 304 Westerpark 1013 ZX Amsterdam Netherlands',\n",
       "       'Damrak 1 5 Amsterdam City Center 1012 LG Amsterdam Netherlands',\n",
       "       'Caspe 103 Eixample 08013 Barcelona Spain',\n",
       "       'Via Napo Torriani 24 Central Station 20124 Milan Italy',\n",
       "       'Oudeschans 75 Amsterdam City Center 1011 KW Amsterdam Netherlands',\n",
       "       '101 Buckingham Palace Road Westminster Borough London SW1W 0SJ United Kingdom',\n",
       "       '30 Portman Square Westminster Borough London W1H 7BH United Kingdom',\n",
       "       '81 103 Euston Street Camden London NW1 2EZ United Kingdom',\n",
       "       'Pla a de Llevant s n Sant Mart 08019 Barcelona Spain'],\n",
       "      dtype=object)"
      ]
     },
     "execution_count": 28,
     "metadata": {},
     "output_type": "execute_result"
    }
   ],
   "source": [
    "# в целях создания признаков страны и города смотрим написание адресов\n",
    "data.iloc[0:20]['hotel_address'].values"
   ]
  },
  {
   "cell_type": "code",
   "execution_count": 29,
   "metadata": {},
   "outputs": [],
   "source": [
    "# Если страна - UK, написание адреса отличается, при чем количество элементов в строке - разное.\n",
    "\n",
    "# функция создания признака страны из признака адреса\n",
    "def get_country(address):\n",
    "    #разделяем строку на слова, создаем список слов\n",
    "    address_list = address.split(' ')\n",
    "    # проверка, является ли страна UK\n",
    "    if address_list[-1] == 'Kingdom':\n",
    "        country = 'United Kingdom' # если да, прописываем название\n",
    "    else:\n",
    "        country = address_list[-1] # если нет, оставляем последний элемент\n",
    "\n",
    "    return country"
   ]
  },
  {
   "cell_type": "code",
   "execution_count": 30,
   "metadata": {},
   "outputs": [],
   "source": [
    "# функция создания признака города из признака адреса\n",
    "def get_city(address):\n",
    "    #разделяем строку на слова, создаем список слов\n",
    "    address_list = address.split(' ')\n",
    "    # проверка, является ли страна UK\n",
    "    if address_list[-1] == 'Kingdom':\n",
    "        city = address_list[-5] # если да, обрезаем список, оставляя 5й элемент с конца - Лондон\n",
    "    else:\n",
    "        city = address_list[-2] #если нет, обрезаем список, оставляя предпоследний элемент - город\n",
    "    \n",
    "    return city"
   ]
  },
  {
   "cell_type": "code",
   "execution_count": 31,
   "metadata": {},
   "outputs": [],
   "source": [
    "# признак страны\n",
    "data['country'] = data['hotel_address'].apply(get_country)\n",
    "\n",
    "# признак города\n",
    "data['city'] = data['hotel_address'].apply(get_city)"
   ]
  },
  {
   "cell_type": "code",
   "execution_count": 32,
   "metadata": {},
   "outputs": [
    {
     "name": "stdout",
     "output_type": "stream",
     "text": [
      "['Italy', 'Netherlands', 'Spain', 'United Kingdom', 'France', 'Austria']\n",
      "6\n"
     ]
    }
   ],
   "source": [
    "# анализ созданных признаков: уникальные значения, их количество\n",
    "print(data['country'].unique().tolist(), data['country'].nunique(), sep='\\n')"
   ]
  },
  {
   "cell_type": "code",
   "execution_count": 33,
   "metadata": {},
   "outputs": [
    {
     "name": "stdout",
     "output_type": "stream",
     "text": [
      "['Milan', 'Amsterdam', 'Barcelona', 'London', 'Paris', 'Vienna']\n",
      "6\n"
     ]
    }
   ],
   "source": [
    "print(data['city'].unique().tolist(), data['city'].nunique(), sep='\\n')"
   ]
  },
  {
   "cell_type": "code",
   "execution_count": 34,
   "metadata": {},
   "outputs": [],
   "source": [
    "# удаление признака адреса\n",
    "data.drop('hotel_address', axis=1, inplace=True)"
   ]
  },
  {
   "cell_type": "code",
   "execution_count": 35,
   "metadata": {},
   "outputs": [
    {
     "name": "stdout",
     "output_type": "stream",
     "text": [
      "Размерность таблицы: (515738, 19)\n"
     ]
    }
   ],
   "source": [
    "print(f'Размерность таблицы: {data.shape}')"
   ]
  },
  {
   "cell_type": "markdown",
   "metadata": {},
   "source": [
    "### Работа с признаками географических координат"
   ]
  },
  {
   "cell_type": "code",
   "execution_count": 36,
   "metadata": {},
   "outputs": [
    {
     "data": {
      "text/plain": [
       "lat    0.633655\n",
       "lng    0.633655\n",
       "dtype: float64"
      ]
     },
     "execution_count": 36,
     "metadata": {},
     "output_type": "execute_result"
    }
   ],
   "source": [
    "# из вывода общей информации выше знаем, что пропуски есть только в признаках с координатами. их доля:\n",
    "data[['lat', 'lng']].isnull().mean() * 100"
   ]
  },
  {
   "cell_type": "code",
   "execution_count": 37,
   "metadata": {},
   "outputs": [],
   "source": [
    "# учитывая незначительную долю пропусков (менее 1%), заполним их константами для последующего создания признака \n",
    "# удаленности отеля от центра города\n",
    "\n",
    "# создаем словари для замены константами (данные с сайта https://anyroad.ru/city/coordinates)\n",
    "values_lat = {\n",
    "    'London': 51.5073500, \n",
    "    'Barcelona': 41.3850600,\n",
    "    'Paris': 48.8534100,\n",
    "    'Amsterdam': 52.3702200,\n",
    "    'Vienna': 48.2081700,\n",
    "    'Milan': 45.4654200  \n",
    "}\n",
    "\n",
    "values_lng = {\n",
    "    'London': -0.1277600, \n",
    "    'Barcelona': 2.173400,\n",
    "    'Paris': 2.3488000,\n",
    "    'Amsterdam': 4.8951700,\n",
    "    'Vienna': 16.3738200,\n",
    "    'Milan': 9.1859200  \n",
    "}\n",
    "\n",
    "#заполняем пропуски в соответствии с заявленным словарем\n",
    "data['lat'] = data[['city','lat']].apply(lambda x: values_lat[x.city] if np.isnan(x.lat) else x.lat, axis=1)\n",
    "data['lng'] = data[['city','lng']].apply(lambda x: values_lng[x.city] if np.isnan(x.lng) else x.lng, axis=1)"
   ]
  },
  {
   "cell_type": "code",
   "execution_count": 38,
   "metadata": {},
   "outputs": [
    {
     "data": {
      "text/plain": [
       "lat    0.0\n",
       "lng    0.0\n",
       "dtype: float64"
      ]
     },
     "execution_count": 38,
     "metadata": {},
     "output_type": "execute_result"
    }
   ],
   "source": [
    "# результирующая доля пропусков\n",
    "data[['lat', 'lng']].isnull().mean() * 100"
   ]
  },
  {
   "cell_type": "code",
   "execution_count": 39,
   "metadata": {},
   "outputs": [],
   "source": [
    "# данные с координатами центров горoдов (с сайта https://dateandtime.info/)\n",
    "centers = pd.DataFrame(\n",
    "    data = [\n",
    "        ['United Kingdom', 'London', 51.5085300, -0.1257400],\n",
    "        ['France', 'Paris', 48.8534100, 2.3488000],\n",
    "        ['Spain', 'Barcelona', 41.3887900, 2.1589900],\n",
    "        ['Italy', 'Milan', 45.4642700, 9.1895100],\n",
    "        ['Austria', 'Vienna', 48.2084900, 16.3720800],\n",
    "        ['Netherlands', 'Amsterdam', 52.3740300, 4.8896900],\n",
    "    ],\n",
    "    columns= ['country', 'city', 'center_lat', 'center_lng']\n",
    ").set_index('country')"
   ]
  },
  {
   "cell_type": "code",
   "execution_count": 40,
   "metadata": {},
   "outputs": [],
   "source": [
    "# функция вычисления расстояния между отелем и центром города\n",
    "def get_dist_to_center(country, lng, lat):\n",
    "    center_lat = centers['center_lat'][country]  \n",
    "    center_lng = centers['center_lng'][country]\n",
    "\n",
    "    return geopy.distance.geodesic([center_lng, center_lat], [lng, lat]).km"
   ]
  },
  {
   "cell_type": "code",
   "execution_count": 41,
   "metadata": {},
   "outputs": [],
   "source": [
    "# признак удаленности отеля от центра города\n",
    "data['distance_to_center'] = data[['hotel_name', 'country', 'lng', 'lat']].apply(\n",
    "    lambda row: get_dist_to_center(row['country'], row['lng'], row['lat']), axis=1\n",
    "    )"
   ]
  },
  {
   "cell_type": "code",
   "execution_count": 42,
   "metadata": {},
   "outputs": [],
   "source": [
    "# удаление столбцов с координатами\n",
    "data.drop(['lng', 'lat'], axis=1, inplace=True) "
   ]
  },
  {
   "cell_type": "code",
   "execution_count": 43,
   "metadata": {},
   "outputs": [
    {
     "name": "stdout",
     "output_type": "stream",
     "text": [
      "Размерность таблицы: (515738, 18)\n"
     ]
    }
   ],
   "source": [
    "print(f'Размерность таблицы: {data.shape}')"
   ]
  },
  {
   "cell_type": "markdown",
   "metadata": {},
   "source": [
    "### Работа с признаком даты"
   ]
  },
  {
   "cell_type": "code",
   "execution_count": 44,
   "metadata": {},
   "outputs": [],
   "source": [
    "# преобразование типа признака даты в формат datetime\n",
    "data['review_date'] = pd.to_datetime(data['review_date'], dayfirst=False)"
   ]
  },
  {
   "cell_type": "code",
   "execution_count": 45,
   "metadata": {},
   "outputs": [],
   "source": [
    "# создание признака месяца\n",
    "data['month'] = data['review_date'].dt.month"
   ]
  },
  {
   "cell_type": "code",
   "execution_count": 46,
   "metadata": {},
   "outputs": [
    {
     "data": {
      "text/plain": [
       "8     50672\n",
       "7     49318\n",
       "5     46490\n",
       "10    43843\n",
       "6     42896\n",
       "Name: month, dtype: int64"
      ]
     },
     "execution_count": 46,
     "metadata": {},
     "output_type": "execute_result"
    }
   ],
   "source": [
    "# поиск \"высокого сезона\"\n",
    "data['month'].value_counts().nlargest(5)"
   ]
  },
  {
   "cell_type": "code",
   "execution_count": 47,
   "metadata": {},
   "outputs": [],
   "source": [
    "# к \"высокому сезону\" отнесем 8й, 7й, 5й месяцы (между 3м \"местом\" и 4м заметный разрыв)\n",
    "# создадим признак-мигалку, относится ли день написания отзыва к \"высокому сезону\"\n",
    "data['high_season'] = data['month'].apply(lambda x: 1 if x in [5, 7, 8] else 0)"
   ]
  },
  {
   "cell_type": "code",
   "execution_count": 48,
   "metadata": {},
   "outputs": [],
   "source": [
    "# функция определения сезона, когда создан отзыв\n",
    "def get_season(month):\n",
    "    if month in [1, 2, 12]:\n",
    "        return 1\n",
    "    elif month in [3, 4, 5]:\n",
    "        return 2\n",
    "    elif month in [6, 7, 8]:\n",
    "        return 3\n",
    "    elif month in [9, 10, 11]:\n",
    "        return 4"
   ]
  },
  {
   "cell_type": "code",
   "execution_count": 49,
   "metadata": {},
   "outputs": [],
   "source": [
    "# создание признака сезона\n",
    "data['season'] = data['month'].apply(get_season)"
   ]
  },
  {
   "cell_type": "code",
   "execution_count": 50,
   "metadata": {},
   "outputs": [],
   "source": [
    "day_of_week = data['review_date'].dt.dayofweek"
   ]
  },
  {
   "cell_type": "code",
   "execution_count": 51,
   "metadata": {},
   "outputs": [],
   "source": [
    "# функция определения, был ли день, когда оставили отзыв, выходным\n",
    "def get_day_of_week(weekday):\n",
    "    if weekday == 5 or weekday == 6:\n",
    "        return 1\n",
    "    else:\n",
    "        return 0"
   ]
  },
  {
   "cell_type": "code",
   "execution_count": 52,
   "metadata": {},
   "outputs": [],
   "source": [
    "# признак - мигалка, был ли день, когла оставили отзыв, выходным\n",
    "data['weekend'] = day_of_week.apply(get_day_of_week)"
   ]
  },
  {
   "cell_type": "code",
   "execution_count": 53,
   "metadata": {},
   "outputs": [],
   "source": [
    "# удаление признака даты\n",
    "data.drop('review_date', axis=1, inplace=True) "
   ]
  },
  {
   "cell_type": "code",
   "execution_count": 54,
   "metadata": {},
   "outputs": [
    {
     "name": "stdout",
     "output_type": "stream",
     "text": [
      "Размерность таблицы: (515738, 21)\n"
     ]
    }
   ],
   "source": [
    "print(f'Размерность таблицы: {data.shape}')"
   ]
  },
  {
   "cell_type": "markdown",
   "metadata": {},
   "source": [
    "### Работа с признаком страны рецензента"
   ]
  },
  {
   "cell_type": "code",
   "execution_count": 55,
   "metadata": {},
   "outputs": [],
   "source": [
    "# удаление начальных и конечных символов\n",
    "data['reviewer_nationality'] = data['reviewer_nationality'].apply(lambda x: x.strip())"
   ]
  },
  {
   "cell_type": "code",
   "execution_count": 56,
   "metadata": {},
   "outputs": [
    {
     "data": {
      "text/plain": [
       "227"
      ]
     },
     "execution_count": 56,
     "metadata": {},
     "output_type": "execute_result"
    }
   ],
   "source": [
    "# количество стран, из которых едут туристы\n",
    "data[\"reviewer_nationality\"].nunique()"
   ]
  },
  {
   "cell_type": "code",
   "execution_count": 57,
   "metadata": {},
   "outputs": [
    {
     "data": {
      "text/plain": [
       "United Kingdom              245246\n",
       "United States of America     35437\n",
       "Australia                    21686\n",
       "Ireland                      14827\n",
       "United Arab Emirates         10235\n",
       "Saudi Arabia                  8951\n",
       "Netherlands                   8772\n",
       "Switzerland                   8678\n",
       "Germany                       7941\n",
       "Canada                        7894\n",
       "France                        7296\n",
       "Israel                        6610\n",
       "Italy                         6114\n",
       "Belgium                       6031\n",
       "Turkey                        5444\n",
       "Kuwait                        4920\n",
       "Spain                         4737\n",
       "Romania                       4552\n",
       "Russia                        3900\n",
       "South Africa                  3821\n",
       "India                         3437\n",
       "Greece                        3406\n",
       "China                         3400\n",
       "Sweden                        3368\n",
       "New Zealand                   3237\n",
       "Name: reviewer_nationality, dtype: int64"
      ]
     },
     "execution_count": 57,
     "metadata": {},
     "output_type": "execute_result"
    }
   ],
   "source": [
    "# слишком много. выведем 25 наиболее популярных\n",
    "data[\"reviewer_nationality\"].value_counts().nlargest(25)"
   ]
  },
  {
   "cell_type": "code",
   "execution_count": 58,
   "metadata": {},
   "outputs": [],
   "source": [
    "# анализ 25 наиболее популярных - непоказателен. \n",
    "# возьмем первые 20 (после не такие большие разрывы), остальные - \"other\":\n",
    "popular_nations = list(data['reviewer_nationality'].value_counts()[:20].index)\n",
    "data['reviewer_nationality'] = data['reviewer_nationality'].apply(lambda x: x if x in popular_nations else 'other')"
   ]
  },
  {
   "cell_type": "code",
   "execution_count": 59,
   "metadata": {},
   "outputs": [
    {
     "name": "stdout",
     "output_type": "stream",
     "text": [
      "Размерность таблицы: (515738, 21)\n"
     ]
    }
   ],
   "source": [
    "# признак страны рецензента пока удалять не будем для дальнейшего его кодирования\n",
    "\n",
    "print(f'Размерность таблицы: {data.shape}')"
   ]
  },
  {
   "cell_type": "markdown",
   "metadata": {},
   "source": [
    "### Работа с признаком негативных отзывов"
   ]
  },
  {
   "cell_type": "code",
   "execution_count": 60,
   "metadata": {},
   "outputs": [
    {
     "data": {
      "text/plain": [
       "no negative                  127890\n",
       "nothing                       21185\n",
       "n a                            1815\n",
       "none                           1501\n",
       "                                849\n",
       "nothing really                  656\n",
       "small room                      570\n",
       "all good                        545\n",
       "breakfast                       545\n",
       "no complaints                   523\n",
       "location                        502\n",
       "nothing at all                  467\n",
       "everything                      420\n",
       "nothing to dislike              373\n",
       "price                           348\n",
       "nil                             332\n",
       "small rooms                     307\n",
       "everything was perfect          276\n",
       "na                              272\n",
       "can t think of anything         250\n",
       "leaving                         244\n",
       "absolutely nothing              242\n",
       "everything was great            222\n",
       "expensive                       206\n",
       "nothing to complain about       205\n",
       "Name: negative_review, dtype: int64"
      ]
     },
     "execution_count": 60,
     "metadata": {},
     "output_type": "execute_result"
    }
   ],
   "source": [
    "# приведем строки в признаке к единообразию\n",
    "data['negative_review'] = data['negative_review'].apply(lambda x: x.strip().lower())\n",
    "# выведем 50 самых популярных отзывов (1я половина)\n",
    "data['negative_review'].value_counts().nlargest(50).head(25)"
   ]
  },
  {
   "cell_type": "code",
   "execution_count": 61,
   "metadata": {},
   "outputs": [
    {
     "data": {
      "text/plain": [
       "no                                200\n",
       "very small room                   200\n",
       "room size                         200\n",
       "nothing not to like               185\n",
       "nothing all good                  181\n",
       "staff                             181\n",
       "having to leave                   176\n",
       "not much                          159\n",
       "i liked everything                153\n",
       "everything was good               153\n",
       "liked everything                  148\n",
       "see above                         141\n",
       "expensive breakfast               138\n",
       "nothing it was perfect            136\n",
       "non                               134\n",
       "nothing everything was perfect    133\n",
       "the price                         132\n",
       "room too small                    127\n",
       "room was very small               126\n",
       "nothing in particular             121\n",
       "everything was fine               120\n",
       "nothing everything was great      120\n",
       "not applicable                    115\n",
       "all was good                      114\n",
       "wifi                              112\n",
       "Name: negative_review, dtype: int64"
      ]
     },
     "execution_count": 61,
     "metadata": {},
     "output_type": "execute_result"
    }
   ],
   "source": [
    "# выведем 50 самых популярных отзывов (2я половина)\n",
    "data['negative_review'].value_counts().nlargest(50).tail(25)"
   ]
  },
  {
   "cell_type": "code",
   "execution_count": 62,
   "metadata": {},
   "outputs": [],
   "source": [
    "# в признаке есть \"ложноотрицательные\" отзывы. создадим из них список \n",
    "# (из тех, которые встречаются более 150 раз, остальное - незначительно)\n",
    "no_negative_review = ['no negative', 'nothing', 'n a', 'none', '', ' ', 'all good', 'no complaints', 'everything was perfect', \\\n",
    "    'na', 'everything was great', 'nothing to complain about', 'no', 'i liked everything', 'everything was good']\n",
    "\n",
    "# создадим признак того, является ли отзыв отрицательным\n",
    "data['is_negative'] = data['negative_review'].apply(lambda x: 0 if x in no_negative_review else 1)"
   ]
  },
  {
   "cell_type": "code",
   "execution_count": 63,
   "metadata": {},
   "outputs": [
    {
     "data": {
      "text/plain": [
       "0.6979299566834323"
      ]
     },
     "execution_count": 63,
     "metadata": {},
     "output_type": "execute_result"
    }
   ],
   "source": [
    "data['is_negative'].mean()"
   ]
  },
  {
   "cell_type": "code",
   "execution_count": 64,
   "metadata": {},
   "outputs": [
    {
     "name": "stdout",
     "output_type": "stream",
     "text": [
      "Размерность таблицы: (515738, 22)\n"
     ]
    }
   ],
   "source": [
    "# на данном этапе признак оставим для дальнейшей обработки с помощью SentimentIntensityAnalyzer библиотеки VADER\n",
    "\n",
    "print(f'Размерность таблицы: {data.shape}')"
   ]
  },
  {
   "cell_type": "markdown",
   "metadata": {},
   "source": [
    "### Работа с признаком положительных отзывов"
   ]
  },
  {
   "cell_type": "code",
   "execution_count": 65,
   "metadata": {},
   "outputs": [
    {
     "data": {
      "text/plain": [
       "no positive                   35946\n",
       "location                      11945\n",
       "everything                     3314\n",
       "nothing                        1731\n",
       "great location                 1687\n",
       "the location                   1606\n",
       "good location                  1496\n",
       "breakfast                       795\n",
       "friendly staff                  733\n",
       "excellent location              639\n",
       "staff                           553\n",
       "location and staff              452\n",
       "location staff                  432\n",
       "location location location      345\n",
       "location was great              328\n",
       "good breakfast                  316\n",
       "everything was perfect          316\n",
       "location was good               312\n",
       "comfy bed                       303\n",
       "perfect location                287\n",
       "the staff                       281\n",
       "location is great               280\n",
       "location is good                256\n",
       "all                             250\n",
       "clean                           237\n",
       "Name: positive_review, dtype: int64"
      ]
     },
     "execution_count": 65,
     "metadata": {},
     "output_type": "execute_result"
    }
   ],
   "source": [
    "# приведем строки в признаки к единообразию\n",
    "data['positive_review'] = data['positive_review'].apply(lambda x: x.strip().lower())\n",
    "# выведем 50 самых популярных отзывов (1я половина)\n",
    "data['positive_review'].value_counts().nlargest(50).head(25)"
   ]
  },
  {
   "cell_type": "code",
   "execution_count": 66,
   "metadata": {},
   "outputs": [
    {
     "data": {
      "text/plain": [
       "every thing                      235\n",
       "very friendly staff              233\n",
       "great breakfast                  222\n",
       "breakfast was good               220\n",
       "excellent breakfast              218\n",
       "location was excellent           205\n",
       "comfortable bed                  202\n",
       "very good location               198\n",
       "cleanliness                      193\n",
       "location breakfast               188\n",
       "                                 183\n",
       "location is perfect              175\n",
       "helpful staff                    172\n",
       "great location friendly staff    172\n",
       "location only                    168\n",
       "great staff                      167\n",
       "everything was great             163\n",
       "location is excellent            163\n",
       "central location                 157\n",
       "staff and location               156\n",
       "friendly helpful staff           156\n",
       "the bed                          155\n",
       "convenient location              151\n",
       "position                         149\n",
       "location and breakfast           148\n",
       "Name: positive_review, dtype: int64"
      ]
     },
     "execution_count": 66,
     "metadata": {},
     "output_type": "execute_result"
    }
   ],
   "source": [
    "# выведем 50 самых популярных отзывов (2я половина)\n",
    "data['positive_review'].value_counts().nlargest(50).tail(25)"
   ]
  },
  {
   "cell_type": "code",
   "execution_count": 67,
   "metadata": {},
   "outputs": [],
   "source": [
    "# в признаке есть \"ложноположительные\" отзывы. создадим из них список \n",
    "no_positive_review = ['no positive', 'nothing', '', ' ']\n",
    "\n",
    "# создадим признак того, является ли отзыв положительным\n",
    "data['is_positive'] = data['positive_review'].apply(lambda x: 0 if x in no_positive_review else 1)"
   ]
  },
  {
   "cell_type": "code",
   "execution_count": 68,
   "metadata": {},
   "outputs": [
    {
     "data": {
      "text/plain": [
       "0.9265906332284998"
      ]
     },
     "execution_count": 68,
     "metadata": {},
     "output_type": "execute_result"
    }
   ],
   "source": [
    "data['is_positive'].mean()"
   ]
  },
  {
   "cell_type": "code",
   "execution_count": 69,
   "metadata": {},
   "outputs": [
    {
     "name": "stdout",
     "output_type": "stream",
     "text": [
      "Размерность таблицы: (515738, 23)\n"
     ]
    }
   ],
   "source": [
    "# на данном этапе признак оставим для дальнейшей обработки с помощью SentimentIntensityAnalyzer библиотеки VADER\n",
    "\n",
    "print(f'Размерность таблицы: {data.shape}')"
   ]
  },
  {
   "cell_type": "markdown",
   "metadata": {},
   "source": [
    "### Анализ настроений с помощью SentimentIntensityAnalyzer библиотеки VADER"
   ]
  },
  {
   "cell_type": "code",
   "execution_count": 70,
   "metadata": {},
   "outputs": [],
   "source": [
    "# реализация анализа взята у Eco 189 https://www.kaggle.com/code/eco189/project-3-1/notebook?scriptVersionId=105582270\n",
    "\n",
    "# создаем два экземпляра анализатора, чтобы разделить лексикон \n",
    "# для разной системы оценки положительных и отрицательных отзывов:\n",
    "sia_pos = SentimentIntensityAnalyzer()\n",
    "sia_neg = SentimentIntensityAnalyzer()"
   ]
  },
  {
   "cell_type": "code",
   "execution_count": 71,
   "metadata": {},
   "outputs": [
    {
     "name": "stdout",
     "output_type": "stream",
     "text": [
      "Словарь оценок слова \"nothing\" до преобразований:\n",
      "{'neg': 0.0, 'neu': 1.0, 'pos': 0.0, 'compound': 0.0} \n",
      "\n"
     ]
    }
   ],
   "source": [
    "# посмотрим как изменится характеристика слова 'nothing':\n",
    "example = 'nothing'\n",
    "print(f'Словарь оценок слова \"{example}\" до преобразований:')\n",
    "print(sia_neg.polarity_scores(example), '\\n')"
   ]
  },
  {
   "cell_type": "code",
   "execution_count": 72,
   "metadata": {},
   "outputs": [
    {
     "name": "stdout",
     "output_type": "stream",
     "text": [
      " - после преобразований (для негативного контекста):\n",
      "{'neg': 0.0, 'neu': 0.0, 'pos': 1.0, 'compound': 0.9325}\n",
      " - после преобразований (для позитивного контекста):\n",
      "{'neg': 1.0, 'neu': 0.0, 'pos': 0.0, 'compound': -0.9325}\n"
     ]
    }
   ],
   "source": [
    "# добавим контекст:\n",
    "neg_words = {'small': -1, 'nothing': 10}\n",
    "pos_words = {'nothing': -10, 'everything': 10}\n",
    "sia_neg.lexicon.update(neg_words)\n",
    "sia_pos.lexicon.update(pos_words)\n",
    "\n",
    "print(f' - после преобразований (для негативного контекста):')\n",
    "print(sia_neg.polarity_scores(example))\n",
    "print(f' - после преобразований (для позитивного контекста):')\n",
    "print(sia_pos.polarity_scores(example))"
   ]
  },
  {
   "cell_type": "code",
   "execution_count": 73,
   "metadata": {},
   "outputs": [
    {
     "name": "stdout",
     "output_type": "stream",
     "text": [
      "\n",
      "Словарь оценок фразы \"No Negative\":\n",
      "{'neg': 1.0, 'neu': 0.0, 'pos': 0.0, 'compound': -0.7096}\n",
      "Словарь оценок фразы \"Positive\":\n",
      "{'neg': 0.0, 'neu': 0.0, 'pos': 1.0, 'compound': 0.5574}\n"
     ]
    }
   ],
   "source": [
    "# фразы \"No Negative\" тонально будет нести негативную окраску:\n",
    "example = 'No Negative'\n",
    "print(f'\\nСловарь оценок фразы \"{example}\":')\n",
    "print(sia_neg.polarity_scores(example))\n",
    "example = 'Positive'\n",
    "print(f'Словарь оценок фразы \"{example}\":')\n",
    "print(sia_neg.polarity_scores(example))"
   ]
  },
  {
   "cell_type": "code",
   "execution_count": 74,
   "metadata": {},
   "outputs": [],
   "source": [
    "# меняем метки отсутствия частей отзыва:\n",
    "data['negative_review_temp'] = data['negative_review'].apply(lambda x: x.replace('No Negative', 'Positive'))\n",
    "data['positive_review_temp'] = data['positive_review'].apply(lambda x: x.replace('No Positive', 'Negative'))"
   ]
  },
  {
   "cell_type": "code",
   "execution_count": 75,
   "metadata": {},
   "outputs": [],
   "source": [
    "data['negative_review_sentiments'] = data['negative_review_temp'].apply(lambda x: sia_neg.polarity_scores(x))\n",
    "data['positive_review_sentiments'] = data['positive_review_temp'].apply(lambda x: sia_pos.polarity_scores(x))\n",
    "\n",
    "# формируем новые признаки:\n",
    "data['n_review_sentiments_neg'] = data['negative_review_sentiments'].apply(lambda x: x['neg'])\n",
    "data['n_review_sentiments_neu'] = data['negative_review_sentiments'].apply(lambda x: x['neu'])\n",
    "data['n_review_sentiments_pos'] = data['negative_review_sentiments'].apply(lambda x: x['pos'])\n",
    "data['n_review_sentiments_compound'] = data['negative_review_sentiments'].apply(lambda x: x['compound'])\n",
    "\n",
    "data['p_review_sentiments_neg'] = data['positive_review_sentiments'].apply(lambda x: x['neg'])\n",
    "data['p_review_sentiments_neu'] = data['positive_review_sentiments'].apply(lambda x: x['neu'])\n",
    "data['p_review_sentiments_pos'] = data['positive_review_sentiments'].apply(lambda x: x['pos'])\n",
    "data['p_review_sentiments_compound'] = data['positive_review_sentiments'].apply(lambda x: x['compound'])"
   ]
  },
  {
   "cell_type": "code",
   "execution_count": 76,
   "metadata": {},
   "outputs": [
    {
     "name": "stdout",
     "output_type": "stream",
     "text": [
      "Размерность таблицы: (515738, 35)\n"
     ]
    }
   ],
   "source": [
    "print(f'Размерность таблицы: {data.shape}')"
   ]
  },
  {
   "cell_type": "code",
   "execution_count": 77,
   "metadata": {},
   "outputs": [],
   "source": [
    "# удaление столбцов \n",
    "cols_to_delete = ['negative_review', 'negative_review_temp','negative_review_sentiments',\n",
    "                  'positive_review', 'positive_review_temp', 'positive_review_sentiments']\n",
    "data.drop(cols_to_delete, axis=1, inplace=True) "
   ]
  },
  {
   "cell_type": "code",
   "execution_count": 78,
   "metadata": {},
   "outputs": [
    {
     "name": "stdout",
     "output_type": "stream",
     "text": [
      "Размерность таблицы: (515738, 29)\n"
     ]
    }
   ],
   "source": [
    "print(f'Размерность таблицы: {data.shape}')"
   ]
  },
  {
   "cell_type": "markdown",
   "metadata": {},
   "source": [
    "### Работа с признаком тэгов"
   ]
  },
  {
   "cell_type": "code",
   "execution_count": 79,
   "metadata": {},
   "outputs": [],
   "source": [
    "# очистка признака тэгов от лишних символов, переход к спискам\n",
    "def rev_func(tags):\n",
    "    tags = tags[2:-2].strip().split(' \\', \\' ')\n",
    "    return tags\n",
    "\n",
    "data['formatted_tags'] = data['tags'].apply(rev_func)"
   ]
  },
  {
   "cell_type": "code",
   "execution_count": 80,
   "metadata": {},
   "outputs": [
    {
     "data": {
      "text/plain": [
       "[('Leisure trip', 417778),\n",
       " ('Submitted from a mobile device', 307640),\n",
       " ('Couple', 252294),\n",
       " ('Stayed 1 night', 193645),\n",
       " ('Stayed 2 nights', 133937),\n",
       " ('Solo traveler', 108545),\n",
       " ('Stayed 3 nights', 95821),\n",
       " ('Business trip', 82939),\n",
       " ('Group', 65392),\n",
       " ('Family with young children', 61015),\n",
       " ('Stayed 4 nights', 47817),\n",
       " ('Double Room', 35207),\n",
       " ('Standard Double Room', 32248),\n",
       " ('Superior Double Room', 31393),\n",
       " ('Family with older children', 26349),\n",
       " ('Deluxe Double Room', 24823),\n",
       " ('Double or Twin Room', 22393),\n",
       " ('Stayed 5 nights', 20845),\n",
       " ('Standard Double or Twin Room', 17483),\n",
       " ('Classic Double Room', 16989)]"
      ]
     },
     "execution_count": 80,
     "metadata": {},
     "output_type": "execute_result"
    }
   ],
   "source": [
    "# анализ тэгов\n",
    "# 40 самых популярных. первая половина\n",
    "tags_list = []\n",
    "for x in data['formatted_tags']:\n",
    "    for tag in x:\n",
    "        tags_list.append(tag)\n",
    "        \n",
    "tags_count = Counter(tags_list)\n",
    "tags_count.most_common(40)[:20]"
   ]
  },
  {
   "cell_type": "code",
   "execution_count": 81,
   "metadata": {},
   "outputs": [
    {
     "data": {
      "text/plain": [
       "[('Superior Double or Twin Room', 13570),\n",
       " ('2 rooms', 12393),\n",
       " ('Stayed 6 nights', 9776),\n",
       " ('Standard Twin Room', 9745),\n",
       " ('Single Room', 9670),\n",
       " ('Twin Room', 8321),\n",
       " ('Stayed 7 nights', 7399),\n",
       " ('Executive Double Room', 6425),\n",
       " ('Classic Double or Twin Room', 6107),\n",
       " ('Superior Twin Room', 6064),\n",
       " ('Deluxe Double or Twin Room', 5998),\n",
       " ('Club Double Room', 5908),\n",
       " ('Queen Room', 5472),\n",
       " ('Deluxe King Room', 5357),\n",
       " ('Superior Queen Room', 4898),\n",
       " ('Standard Single Room', 4615),\n",
       " ('Junior Suite', 4559),\n",
       " ('Triple Room', 4493),\n",
       " ('Superior Room', 4417),\n",
       " ('Classic Room', 4416)]"
      ]
     },
     "execution_count": 81,
     "metadata": {},
     "output_type": "execute_result"
    }
   ],
   "source": [
    "# 40 самых популярных. вторая половина\n",
    "tags_count.most_common(40)[20:]"
   ]
  },
  {
   "cell_type": "code",
   "execution_count": 82,
   "metadata": {},
   "outputs": [],
   "source": [
    "# списки выявленных категорий\n",
    "status_trip = ['Leisure trip', 'Business trip']\n",
    "\n",
    "status_group = ['Couple','Family with older children',\n",
    "                'Family with young children','Group', \n",
    "                'Solo traveler', 'Travelers with friends', \n",
    "                'With a pet'] \n",
    "\n",
    "rooms = ['Single Room', \n",
    "        'Double Room', 'Double or Twin Room', '2 rooms', 'Twin Room',\n",
    "        'Triple Room']"
   ]
  },
  {
   "cell_type": "code",
   "execution_count": 83,
   "metadata": {},
   "outputs": [],
   "source": [
    "# функция определения цели поездки - досуг/бизнес\n",
    "def trip_status(tag):\n",
    "    if status_trip[0] in tag:\n",
    "        return 1\n",
    "    elif status_trip[1] in tag:\n",
    "        return 2\n",
    "    else: \n",
    "        return 0"
   ]
  },
  {
   "cell_type": "code",
   "execution_count": 84,
   "metadata": {},
   "outputs": [],
   "source": [
    "# создание признака цели поездки             \n",
    "data['trip_status'] = data['formatted_tags'].apply(trip_status)"
   ]
  },
  {
   "cell_type": "code",
   "execution_count": 85,
   "metadata": {},
   "outputs": [
    {
     "data": {
      "text/plain": [
       "1    417778\n",
       "2     82939\n",
       "0     15021\n",
       "Name: trip_status, dtype: int64"
      ]
     },
     "execution_count": 85,
     "metadata": {},
     "output_type": "execute_result"
    }
   ],
   "source": [
    "# проверка корректности работы функции\n",
    "data['trip_status'].value_counts()"
   ]
  },
  {
   "cell_type": "code",
   "execution_count": 86,
   "metadata": {},
   "outputs": [],
   "source": [
    "# функция определения типа группы путешествующих\n",
    "def group_status(tag):\n",
    "    if status_group[0] in tag:\n",
    "        return 1\n",
    "    elif status_group[1] in tag:\n",
    "        return 2\n",
    "    elif status_group[2] in tag:\n",
    "        return 3\n",
    "    elif status_group[3] in tag:\n",
    "        return 4\n",
    "    elif status_group[4] in tag:\n",
    "        return 5\n",
    "    elif status_group[5] in tag:\n",
    "        return 6\n",
    "    elif status_group[6] in tag:\n",
    "        return 7\n",
    "    else:\n",
    "        return 0 "
   ]
  },
  {
   "cell_type": "code",
   "execution_count": 87,
   "metadata": {},
   "outputs": [],
   "source": [
    "# создание признака типа группы            \n",
    "data['group_status'] = data['formatted_tags'].apply(group_status)"
   ]
  },
  {
   "cell_type": "code",
   "execution_count": 88,
   "metadata": {},
   "outputs": [
    {
     "data": {
      "text/plain": [
       "1    252294\n",
       "5    108545\n",
       "4     65392\n",
       "3     61015\n",
       "2     26349\n",
       "6      2143\n",
       "Name: group_status, dtype: int64"
      ]
     },
     "execution_count": 88,
     "metadata": {},
     "output_type": "execute_result"
    }
   ],
   "source": [
    "# проверка корректности работы функции\n",
    "data['group_status'].value_counts()"
   ]
  },
  {
   "cell_type": "code",
   "execution_count": 89,
   "metadata": {},
   "outputs": [],
   "source": [
    "# функция определения количества ночей\n",
    "def get_nights(tag):\n",
    "    for elem in tag:\n",
    "        if 'night' in elem:\n",
    "            for i in elem.split():\n",
    "                if i.isdigit():\n",
    "                    return i"
   ]
  },
  {
   "cell_type": "code",
   "execution_count": 90,
   "metadata": {},
   "outputs": [],
   "source": [
    "# создание признака количества ночей, проведенных в отелей\n",
    "data['nights_in_hotel'] = data['formatted_tags'].apply(get_nights)"
   ]
  },
  {
   "cell_type": "code",
   "execution_count": 91,
   "metadata": {},
   "outputs": [
    {
     "data": {
      "text/plain": [
       "1     193644\n",
       "2     133936\n",
       "3      95825\n",
       "4      47817\n",
       "5      20843\n",
       "6       9776\n",
       "7       7399\n",
       "8       2502\n",
       "9       1293\n",
       "10       889\n",
       "Name: nights_in_hotel, dtype: int64"
      ]
     },
     "execution_count": 91,
     "metadata": {},
     "output_type": "execute_result"
    }
   ],
   "source": [
    "# проверка корректности работы функции\n",
    "data['nights_in_hotel'].value_counts().nlargest(10)"
   ]
  },
  {
   "cell_type": "code",
   "execution_count": 92,
   "metadata": {},
   "outputs": [],
   "source": [
    "# функция определения количества комнат в номере\n",
    "def number_of_rooms(tag):\n",
    "    if rooms[0] in tag:\n",
    "        return 1\n",
    "    # сделаем допущение, что если путешествует один человек, то он остановливается в однокомнатном номере\n",
    "    elif 'Solo traveler' in tag:\n",
    "        return 1\n",
    "    elif rooms[1] in tag or rooms[2] in tag or rooms[3] in tag or rooms[4] in tag:\n",
    "        return 2\n",
    "    elif rooms[5] in tag:\n",
    "        return 3 \n",
    "    else: \n",
    "        return 0"
   ]
  },
  {
   "cell_type": "code",
   "execution_count": 93,
   "metadata": {},
   "outputs": [],
   "source": [
    "# создание признака количества комнат в номере (из неотформатированного признака тэгов в целях поиска словосочетаний в строке)\n",
    "data['rooms'] = data['tags'].apply(number_of_rooms)"
   ]
  },
  {
   "cell_type": "code",
   "execution_count": 94,
   "metadata": {},
   "outputs": [
    {
     "data": {
      "text/plain": [
       "2    277528\n",
       "0    118051\n",
       "1    111301\n",
       "3      8858\n",
       "Name: rooms, dtype: int64"
      ]
     },
     "execution_count": 94,
     "metadata": {},
     "output_type": "execute_result"
    }
   ],
   "source": [
    "# проверка корректности работы функции\n",
    "data['rooms'].value_counts()"
   ]
  },
  {
   "cell_type": "code",
   "execution_count": 95,
   "metadata": {},
   "outputs": [],
   "source": [
    "# создание признака использования мобильного телефона при отправке отзывов\n",
    "data['is_mobile'] = data['formatted_tags'].apply(lambda x: 1 if 'Submitted from a mobile device' in x else 0)"
   ]
  },
  {
   "cell_type": "code",
   "execution_count": 96,
   "metadata": {},
   "outputs": [
    {
     "data": {
      "text/plain": [
       "1    307640\n",
       "0    208098\n",
       "Name: is_mobile, dtype: int64"
      ]
     },
     "execution_count": 96,
     "metadata": {},
     "output_type": "execute_result"
    }
   ],
   "source": [
    "# проверка корректности работы функции\n",
    "data['is_mobile'].value_counts()"
   ]
  },
  {
   "cell_type": "code",
   "execution_count": 97,
   "metadata": {},
   "outputs": [
    {
     "data": {
      "text/html": [
       "<div>\n",
       "<style scoped>\n",
       "    .dataframe tbody tr th:only-of-type {\n",
       "        vertical-align: middle;\n",
       "    }\n",
       "\n",
       "    .dataframe tbody tr th {\n",
       "        vertical-align: top;\n",
       "    }\n",
       "\n",
       "    .dataframe thead th {\n",
       "        text-align: right;\n",
       "    }\n",
       "</style>\n",
       "<table border=\"1\" class=\"dataframe\">\n",
       "  <thead>\n",
       "    <tr style=\"text-align: right;\">\n",
       "      <th></th>\n",
       "      <th>formatted_tags</th>\n",
       "      <th>trip_status</th>\n",
       "      <th>group_status</th>\n",
       "      <th>nights_in_hotel</th>\n",
       "      <th>rooms</th>\n",
       "      <th>is_mobile</th>\n",
       "    </tr>\n",
       "  </thead>\n",
       "  <tbody>\n",
       "    <tr>\n",
       "      <th>0</th>\n",
       "      <td>[Leisure trip, Couple, Double Room, Stayed 2 n...</td>\n",
       "      <td>1</td>\n",
       "      <td>1</td>\n",
       "      <td>2</td>\n",
       "      <td>2</td>\n",
       "      <td>0</td>\n",
       "    </tr>\n",
       "    <tr>\n",
       "      <th>1</th>\n",
       "      <td>[Leisure trip, Group, Triple Room, Stayed 1 ni...</td>\n",
       "      <td>1</td>\n",
       "      <td>4</td>\n",
       "      <td>1</td>\n",
       "      <td>3</td>\n",
       "      <td>0</td>\n",
       "    </tr>\n",
       "    <tr>\n",
       "      <th>2</th>\n",
       "      <td>[Business trip, Solo traveler, Twin Room, Stay...</td>\n",
       "      <td>2</td>\n",
       "      <td>5</td>\n",
       "      <td>1</td>\n",
       "      <td>1</td>\n",
       "      <td>1</td>\n",
       "    </tr>\n",
       "    <tr>\n",
       "      <th>3</th>\n",
       "      <td>[Leisure trip, Couple, Ambassador Junior Suite...</td>\n",
       "      <td>1</td>\n",
       "      <td>1</td>\n",
       "      <td>1</td>\n",
       "      <td>0</td>\n",
       "      <td>0</td>\n",
       "    </tr>\n",
       "    <tr>\n",
       "      <th>4</th>\n",
       "      <td>[Business trip, Solo traveler, Classic Double ...</td>\n",
       "      <td>2</td>\n",
       "      <td>5</td>\n",
       "      <td>2</td>\n",
       "      <td>1</td>\n",
       "      <td>1</td>\n",
       "    </tr>\n",
       "    <tr>\n",
       "      <th>5</th>\n",
       "      <td>[Business trip, Solo traveler, Standard Double...</td>\n",
       "      <td>2</td>\n",
       "      <td>5</td>\n",
       "      <td>1</td>\n",
       "      <td>1</td>\n",
       "      <td>0</td>\n",
       "    </tr>\n",
       "    <tr>\n",
       "      <th>6</th>\n",
       "      <td>[Leisure trip, Couple, Queen Room, Stayed 1 ni...</td>\n",
       "      <td>1</td>\n",
       "      <td>1</td>\n",
       "      <td>1</td>\n",
       "      <td>0</td>\n",
       "      <td>0</td>\n",
       "    </tr>\n",
       "    <tr>\n",
       "      <th>7</th>\n",
       "      <td>[Business trip, Solo traveler, Executive Room,...</td>\n",
       "      <td>2</td>\n",
       "      <td>5</td>\n",
       "      <td>3</td>\n",
       "      <td>1</td>\n",
       "      <td>1</td>\n",
       "    </tr>\n",
       "    <tr>\n",
       "      <th>8</th>\n",
       "      <td>[Group, Double or Twin Room, Stayed 1 night]</td>\n",
       "      <td>0</td>\n",
       "      <td>4</td>\n",
       "      <td>1</td>\n",
       "      <td>2</td>\n",
       "      <td>0</td>\n",
       "    </tr>\n",
       "    <tr>\n",
       "      <th>9</th>\n",
       "      <td>[Couple, Standard Triple Room, Stayed 2 nights...</td>\n",
       "      <td>0</td>\n",
       "      <td>1</td>\n",
       "      <td>2</td>\n",
       "      <td>3</td>\n",
       "      <td>1</td>\n",
       "    </tr>\n",
       "    <tr>\n",
       "      <th>10</th>\n",
       "      <td>[Leisure trip, Couple, Superior Double Room, S...</td>\n",
       "      <td>1</td>\n",
       "      <td>1</td>\n",
       "      <td>1</td>\n",
       "      <td>2</td>\n",
       "      <td>0</td>\n",
       "    </tr>\n",
       "    <tr>\n",
       "      <th>11</th>\n",
       "      <td>[Leisure trip, Group, Large Room, Stayed 4 nig...</td>\n",
       "      <td>1</td>\n",
       "      <td>4</td>\n",
       "      <td>4</td>\n",
       "      <td>0</td>\n",
       "      <td>0</td>\n",
       "    </tr>\n",
       "    <tr>\n",
       "      <th>12</th>\n",
       "      <td>[Leisure trip, Group, Superior King Room, Stay...</td>\n",
       "      <td>1</td>\n",
       "      <td>4</td>\n",
       "      <td>2</td>\n",
       "      <td>0</td>\n",
       "      <td>0</td>\n",
       "    </tr>\n",
       "    <tr>\n",
       "      <th>13</th>\n",
       "      <td>[Leisure trip, Couple, Double or Twin Room, St...</td>\n",
       "      <td>1</td>\n",
       "      <td>1</td>\n",
       "      <td>3</td>\n",
       "      <td>2</td>\n",
       "      <td>0</td>\n",
       "    </tr>\n",
       "    <tr>\n",
       "      <th>14</th>\n",
       "      <td>[Leisure trip, Couple, Junior Suite, Stayed 2 ...</td>\n",
       "      <td>1</td>\n",
       "      <td>1</td>\n",
       "      <td>2</td>\n",
       "      <td>0</td>\n",
       "      <td>0</td>\n",
       "    </tr>\n",
       "  </tbody>\n",
       "</table>\n",
       "</div>"
      ],
      "text/plain": [
       "                                       formatted_tags  trip_status  \\\n",
       "0   [Leisure trip, Couple, Double Room, Stayed 2 n...            1   \n",
       "1   [Leisure trip, Group, Triple Room, Stayed 1 ni...            1   \n",
       "2   [Business trip, Solo traveler, Twin Room, Stay...            2   \n",
       "3   [Leisure trip, Couple, Ambassador Junior Suite...            1   \n",
       "4   [Business trip, Solo traveler, Classic Double ...            2   \n",
       "5   [Business trip, Solo traveler, Standard Double...            2   \n",
       "6   [Leisure trip, Couple, Queen Room, Stayed 1 ni...            1   \n",
       "7   [Business trip, Solo traveler, Executive Room,...            2   \n",
       "8        [Group, Double or Twin Room, Stayed 1 night]            0   \n",
       "9   [Couple, Standard Triple Room, Stayed 2 nights...            0   \n",
       "10  [Leisure trip, Couple, Superior Double Room, S...            1   \n",
       "11  [Leisure trip, Group, Large Room, Stayed 4 nig...            1   \n",
       "12  [Leisure trip, Group, Superior King Room, Stay...            1   \n",
       "13  [Leisure trip, Couple, Double or Twin Room, St...            1   \n",
       "14  [Leisure trip, Couple, Junior Suite, Stayed 2 ...            1   \n",
       "\n",
       "    group_status nights_in_hotel  rooms  is_mobile  \n",
       "0              1               2      2          0  \n",
       "1              4               1      3          0  \n",
       "2              5               1      1          1  \n",
       "3              1               1      0          0  \n",
       "4              5               2      1          1  \n",
       "5              5               1      1          0  \n",
       "6              1               1      0          0  \n",
       "7              5               3      1          1  \n",
       "8              4               1      2          0  \n",
       "9              1               2      3          1  \n",
       "10             1               1      2          0  \n",
       "11             4               4      0          0  \n",
       "12             4               2      0          0  \n",
       "13             1               3      2          0  \n",
       "14             1               2      0          0  "
      ]
     },
     "execution_count": 97,
     "metadata": {},
     "output_type": "execute_result"
    }
   ],
   "source": [
    "# проверка новых признаков\n",
    "data[['formatted_tags', 'trip_status', 'group_status', 'nights_in_hotel', 'rooms', 'is_mobile']].head(15)"
   ]
  },
  {
   "cell_type": "code",
   "execution_count": 98,
   "metadata": {},
   "outputs": [],
   "source": [
    "# удаление признаков тэгов (исходных и форматированных)\n",
    "data.drop(['formatted_tags', 'tags'], axis=1, inplace=True)"
   ]
  },
  {
   "cell_type": "code",
   "execution_count": 99,
   "metadata": {},
   "outputs": [
    {
     "name": "stdout",
     "output_type": "stream",
     "text": [
      "Размерность таблицы: (515738, 33)\n"
     ]
    }
   ],
   "source": [
    "print(f'Размерность таблицы: {data.shape}')"
   ]
  },
  {
   "cell_type": "markdown",
   "metadata": {},
   "source": [
    "### Визуализация взаимосвязи средней оценки и различных признаков"
   ]
  },
  {
   "cell_type": "code",
   "execution_count": 100,
   "metadata": {},
   "outputs": [
    {
     "data": {
      "image/png": "[encoded data removed]",
      "text/plain": [
       "<Figure size 1080x360 with 1 Axes>"
      ]
     },
     "metadata": {
      "needs_background": "light"
     },
     "output_type": "display_data"
    }
   ],
   "source": [
    "# визуализация зависимости средней оценки отеля от месяца (по данным из изначально тренировочного датасета)\n",
    "pivot_month = data[data['sample'] == 1][['month', 'reviewer_score']].groupby('month', as_index=False).mean()\n",
    "\n",
    "fig = plt.figure(figsize=(15, 5))\n",
    "barplot1 = sns.barplot(\n",
    "    data=pivot_month,\n",
    "    x='month',\n",
    "    y='reviewer_score'\n",
    ")\n",
    "barplot1.set_title('Зависимость средней оценки отеля от месяца')\n",
    "barplot1.set_xlabel('Месяцы')\n",
    "barplot1.set_ylabel('Средняя оценка')\n",
    "\n",
    "for p in barplot1.patches:\n",
    "    barplot1.annotate(\n",
    "        '{:.2f}'.format(p.get_height()), (p.get_x()+0.4, p.get_height()),\n",
    "    ha='center', va='bottom', fontsize=14)\n",
    "\n",
    "plt.ylim(8.2, 8.6);"
   ]
  },
  {
   "cell_type": "code",
   "execution_count": 101,
   "metadata": {},
   "outputs": [
    {
     "data": {
      "image/png": "[encoded data removed]",
      "text/plain": [
       "<Figure size 432x360 with 1 Axes>"
      ]
     },
     "metadata": {
      "needs_background": "light"
     },
     "output_type": "display_data"
    }
   ],
   "source": [
    "# визуализация зависимости средней оценки отеля от \"высокого сезона\" (по данным из изначально тренировочного датасета)\n",
    "pivot_h_season = data[data['sample'] == 1][['high_season', 'reviewer_score']].groupby('high_season', as_index=False).mean()\n",
    "\n",
    "fig = plt.figure(figsize=(6, 5))\n",
    "barplot2 = sns.barplot(\n",
    "    data=pivot_h_season,\n",
    "    x='high_season',\n",
    "    y='reviewer_score'\n",
    ")\n",
    "barplot2.set_title('Зависимость средней оценки от \"высокого сезона\"')\n",
    "barplot2.set_xlabel('Высокий сезон')\n",
    "barplot2.set_ylabel('Средняя оценка')\n",
    "\n",
    "for p in barplot2.patches:\n",
    "    barplot2.annotate(\n",
    "        '{:.2f}'.format(p.get_height()), (p.get_x()+0.4, p.get_height()),\n",
    "    ha='center', va='bottom', fontsize=14)\n",
    "\n",
    "plt.ylim(8.3, 8.45);"
   ]
  },
  {
   "cell_type": "code",
   "execution_count": 102,
   "metadata": {},
   "outputs": [
    {
     "data": {
      "image/png": "[encoded data removed]",
      "text/plain": [
       "<Figure size 432x360 with 1 Axes>"
      ]
     },
     "metadata": {
      "needs_background": "light"
     },
     "output_type": "display_data"
    }
   ],
   "source": [
    "# визуализация зависимости средней оценки отеля от выходных (по данным из изначально тренировочного датасета)\n",
    "pivot_weekend = data[data['sample'] == 1][['weekend', 'reviewer_score']].groupby('weekend', as_index=False).mean()\n",
    "\n",
    "fig = plt.figure(figsize=(6, 5))\n",
    "barplot3 = sns.barplot(\n",
    "    data=pivot_weekend,\n",
    "    x='weekend',\n",
    "    y='reviewer_score'\n",
    ")\n",
    "barplot3.set_title('Зависимость средней оценки отеля от выходных')\n",
    "barplot3.set_xlabel('Высокий сезон')\n",
    "barplot3.set_ylabel('Средняя оценка')\n",
    "\n",
    "for p in barplot3.patches:\n",
    "    barplot3.annotate(\n",
    "        '{:.2f}'.format(p.get_height()), (p.get_x()+0.4, p.get_height()),\n",
    "    ha='center', va='bottom', fontsize=14)\n",
    "\n",
    "plt.ylim(8.3, 8.45);"
   ]
  },
  {
   "cell_type": "code",
   "execution_count": 103,
   "metadata": {},
   "outputs": [
    {
     "data": {
      "image/png": "[encoded data removed]",
      "text/plain": [
       "<Figure size 1440x360 with 1 Axes>"
      ]
     },
     "metadata": {
      "needs_background": "light"
     },
     "output_type": "display_data"
    }
   ],
   "source": [
    "# визуализация зависимости средней оценки отеля от национальности рецензента (по данным из изначально тренировочного датасета)\n",
    "pivot_natio = data[data['sample'] == 1][['reviewer_nationality', 'reviewer_score']].groupby('reviewer_nationality', as_index=False).mean()\n",
    "\n",
    "fig = plt.figure(figsize=(20, 5))\n",
    "ax = fig.add_axes([1, 1, 1, 1])\n",
    "\n",
    "barplot4 = sns.barplot(\n",
    "    data=pivot_natio,\n",
    "    x='reviewer_nationality',\n",
    "    y='reviewer_score'\n",
    ")\n",
    "barplot4.set_title('Зависимость средней оценки отеля от национальности рецензента')\n",
    "barplot4.set_xlabel('Высокий сезон')\n",
    "barplot4.set_ylabel('Средняя оценка')\n",
    "\n",
    "ax.xaxis.set_tick_params(rotation = 45)\n",
    "\n",
    "for p in barplot4.patches:\n",
    "    barplot4.annotate(\n",
    "        '{:.2f}'.format(p.get_height()), (p.get_x()+0.4, p.get_height()),\n",
    "    ha='center', va='bottom', fontsize=14)\n",
    "\n",
    "plt.ylim(7.7, 8.9);"
   ]
  },
  {
   "cell_type": "markdown",
   "metadata": {},
   "source": [
    "## Кодирование признаков"
   ]
  },
  {
   "cell_type": "code",
   "execution_count": 104,
   "metadata": {},
   "outputs": [
    {
     "name": "stdout",
     "output_type": "stream",
     "text": [
      "Размерность таблицы до кодирования признаков: (515738, 33)\n"
     ]
    }
   ],
   "source": [
    "print(f'Размерность таблицы до кодирования признаков: {data.shape}')"
   ]
  },
  {
   "cell_type": "code",
   "execution_count": 105,
   "metadata": {},
   "outputs": [],
   "source": [
    "# кодирование признаков методом однократного кодирования OneHotEncoder\n",
    "encoder = ce.OneHotEncoder(cols=['country', 'city', 'month', 'season']) \n",
    "type_bin = encoder.fit_transform(data[['country', 'city', 'month', 'season']])\n",
    "data = pd.concat([data, type_bin], axis=1)"
   ]
  },
  {
   "cell_type": "code",
   "execution_count": 106,
   "metadata": {},
   "outputs": [],
   "source": [
    "# кодирование признака национальности рецензента методом двоичного кодирования\n",
    "bin_encoder = ce.BinaryEncoder(cols=['reviewer_nationality']) \n",
    "type_bin = bin_encoder.fit_transform(data['reviewer_nationality'])\n",
    "data = pd.concat([data, type_bin], axis=1)"
   ]
  },
  {
   "cell_type": "code",
   "execution_count": 107,
   "metadata": {},
   "outputs": [],
   "source": [
    "# удаление преобразованных признаков\n",
    "cols_to_delete_1 = ['country', 'city', 'month', 'season', 'reviewer_nationality']\n",
    "\n",
    "data.drop(cols_to_delete_1, axis=1, inplace=True)"
   ]
  },
  {
   "cell_type": "code",
   "execution_count": 108,
   "metadata": {},
   "outputs": [
    {
     "name": "stdout",
     "output_type": "stream",
     "text": [
      "Размерность таблицы после кодирования признаков: (515738, 61)\n"
     ]
    }
   ],
   "source": [
    "print(f'Размерность таблицы после кодирования признаков: {data.shape}')"
   ]
  },
  {
   "cell_type": "markdown",
   "metadata": {},
   "source": [
    "## Преобразование признаков"
   ]
  },
  {
   "cell_type": "code",
   "execution_count": 109,
   "metadata": {},
   "outputs": [
    {
     "name": "stdout",
     "output_type": "stream",
     "text": [
      "<class 'pandas.core.frame.DataFrame'>\n",
      "RangeIndex: 515738 entries, 0 to 515737\n",
      "Data columns (total 61 columns):\n",
      " #   Column                                      Non-Null Count   Dtype  \n",
      "---  ------                                      --------------   -----  \n",
      " 0   additional_number_of_scoring                515738 non-null  int64  \n",
      " 1   average_score                               515738 non-null  float64\n",
      " 2   hotel_name                                  515738 non-null  object \n",
      " 3   review_total_negative_word_counts           515738 non-null  int64  \n",
      " 4   total_number_of_reviews                     515738 non-null  int64  \n",
      " 5   review_total_positive_word_counts           515738 non-null  int64  \n",
      " 6   total_number_of_reviews_reviewer_has_given  515738 non-null  int64  \n",
      " 7   days_since_review                           515738 non-null  object \n",
      " 8   sample                                      515738 non-null  int64  \n",
      " 9   reviewer_score                              515738 non-null  float64\n",
      " 10  distance_to_center                          515738 non-null  float64\n",
      " 11  high_season                                 515738 non-null  int64  \n",
      " 12  weekend                                     515738 non-null  int64  \n",
      " 13  is_negative                                 515738 non-null  int64  \n",
      " 14  is_positive                                 515738 non-null  int64  \n",
      " 15  n_review_sentiments_neg                     515738 non-null  float64\n",
      " 16  n_review_sentiments_neu                     515738 non-null  float64\n",
      " 17  n_review_sentiments_pos                     515738 non-null  float64\n",
      " 18  n_review_sentiments_compound                515738 non-null  float64\n",
      " 19  p_review_sentiments_neg                     515738 non-null  float64\n",
      " 20  p_review_sentiments_neu                     515738 non-null  float64\n",
      " 21  p_review_sentiments_pos                     515738 non-null  float64\n",
      " 22  p_review_sentiments_compound                515738 non-null  float64\n",
      " 23  trip_status                                 515738 non-null  int64  \n",
      " 24  group_status                                515738 non-null  int64  \n",
      " 25  nights_in_hotel                             515546 non-null  object \n",
      " 26  rooms                                       515738 non-null  int64  \n",
      " 27  is_mobile                                   515738 non-null  int64  \n",
      " 28  country_1                                   515738 non-null  int64  \n",
      " 29  country_2                                   515738 non-null  int64  \n",
      " 30  country_3                                   515738 non-null  int64  \n",
      " 31  country_4                                   515738 non-null  int64  \n",
      " 32  country_5                                   515738 non-null  int64  \n",
      " 33  country_6                                   515738 non-null  int64  \n",
      " 34  city_1                                      515738 non-null  int64  \n",
      " 35  city_2                                      515738 non-null  int64  \n",
      " 36  city_3                                      515738 non-null  int64  \n",
      " 37  city_4                                      515738 non-null  int64  \n",
      " 38  city_5                                      515738 non-null  int64  \n",
      " 39  city_6                                      515738 non-null  int64  \n",
      " 40  month_1                                     515738 non-null  int64  \n",
      " 41  month_2                                     515738 non-null  int64  \n",
      " 42  month_3                                     515738 non-null  int64  \n",
      " 43  month_4                                     515738 non-null  int64  \n",
      " 44  month_5                                     515738 non-null  int64  \n",
      " 45  month_6                                     515738 non-null  int64  \n",
      " 46  month_7                                     515738 non-null  int64  \n",
      " 47  month_8                                     515738 non-null  int64  \n",
      " 48  month_9                                     515738 non-null  int64  \n",
      " 49  month_10                                    515738 non-null  int64  \n",
      " 50  month_11                                    515738 non-null  int64  \n",
      " 51  month_12                                    515738 non-null  int64  \n",
      " 52  season_1                                    515738 non-null  int64  \n",
      " 53  season_2                                    515738 non-null  int64  \n",
      " 54  season_3                                    515738 non-null  int64  \n",
      " 55  season_4                                    515738 non-null  int64  \n",
      " 56  reviewer_nationality_0                      515738 non-null  int64  \n",
      " 57  reviewer_nationality_1                      515738 non-null  int64  \n",
      " 58  reviewer_nationality_2                      515738 non-null  int64  \n",
      " 59  reviewer_nationality_3                      515738 non-null  int64  \n",
      " 60  reviewer_nationality_4                      515738 non-null  int64  \n",
      "dtypes: float64(11), int64(47), object(3)\n",
      "memory usage: 240.0+ MB\n"
     ]
    }
   ],
   "source": [
    "data.info()"
   ]
  },
  {
   "cell_type": "code",
   "execution_count": 110,
   "metadata": {},
   "outputs": [],
   "source": [
    "obj_cols = list(data.select_dtypes('object').columns)\n",
    "num_cols = list(data.select_dtypes(['int64','float64']).columns)\n",
    "num_cols.remove('sample')\n",
    "num_cols.remove('reviewer_score')"
   ]
  },
  {
   "cell_type": "code",
   "execution_count": 111,
   "metadata": {},
   "outputs": [
    {
     "data": {
      "text/plain": [
       "56"
      ]
     },
     "execution_count": 111,
     "metadata": {},
     "output_type": "execute_result"
    }
   ],
   "source": [
    "len(num_cols)"
   ]
  },
  {
   "cell_type": "code",
   "execution_count": 112,
   "metadata": {},
   "outputs": [
    {
     "data": {
      "text/html": [
       "<div>\n",
       "<style scoped>\n",
       "    .dataframe tbody tr th:only-of-type {\n",
       "        vertical-align: middle;\n",
       "    }\n",
       "\n",
       "    .dataframe tbody tr th {\n",
       "        vertical-align: top;\n",
       "    }\n",
       "\n",
       "    .dataframe thead th {\n",
       "        text-align: right;\n",
       "    }\n",
       "</style>\n",
       "<table border=\"1\" class=\"dataframe\">\n",
       "  <thead>\n",
       "    <tr style=\"text-align: right;\">\n",
       "      <th></th>\n",
       "      <th>additional_number_of_scoring</th>\n",
       "      <th>average_score</th>\n",
       "      <th>review_total_negative_word_counts</th>\n",
       "      <th>total_number_of_reviews</th>\n",
       "      <th>review_total_positive_word_counts</th>\n",
       "      <th>total_number_of_reviews_reviewer_has_given</th>\n",
       "      <th>distance_to_center</th>\n",
       "      <th>high_season</th>\n",
       "      <th>weekend</th>\n",
       "      <th>is_negative</th>\n",
       "      <th>...</th>\n",
       "      <th>month_12</th>\n",
       "      <th>season_1</th>\n",
       "      <th>season_2</th>\n",
       "      <th>season_3</th>\n",
       "      <th>season_4</th>\n",
       "      <th>reviewer_nationality_0</th>\n",
       "      <th>reviewer_nationality_1</th>\n",
       "      <th>reviewer_nationality_2</th>\n",
       "      <th>reviewer_nationality_3</th>\n",
       "      <th>reviewer_nationality_4</th>\n",
       "    </tr>\n",
       "  </thead>\n",
       "  <tbody>\n",
       "    <tr>\n",
       "      <th>count</th>\n",
       "      <td>515738.000000</td>\n",
       "      <td>515738.000000</td>\n",
       "      <td>515738.000000</td>\n",
       "      <td>515738.000000</td>\n",
       "      <td>515738.000000</td>\n",
       "      <td>515738.000000</td>\n",
       "      <td>515738.000000</td>\n",
       "      <td>515738.000000</td>\n",
       "      <td>515738.000000</td>\n",
       "      <td>515738.000000</td>\n",
       "      <td>...</td>\n",
       "      <td>515738.000000</td>\n",
       "      <td>515738.000000</td>\n",
       "      <td>515738.000000</td>\n",
       "      <td>515738.000000</td>\n",
       "      <td>515738.000000</td>\n",
       "      <td>515738.000000</td>\n",
       "      <td>515738.000000</td>\n",
       "      <td>515738.000000</td>\n",
       "      <td>515738.000000</td>\n",
       "      <td>515738.000000</td>\n",
       "    </tr>\n",
       "    <tr>\n",
       "      <th>mean</th>\n",
       "      <td>498.081836</td>\n",
       "      <td>8.397487</td>\n",
       "      <td>18.539450</td>\n",
       "      <td>2743.743944</td>\n",
       "      <td>17.776458</td>\n",
       "      <td>7.166001</td>\n",
       "      <td>4.423649</td>\n",
       "      <td>0.284020</td>\n",
       "      <td>0.263339</td>\n",
       "      <td>0.697930</td>\n",
       "      <td>...</td>\n",
       "      <td>0.074398</td>\n",
       "      <td>0.277052</td>\n",
       "      <td>0.232924</td>\n",
       "      <td>0.237022</td>\n",
       "      <td>0.253002</td>\n",
       "      <td>0.065772</td>\n",
       "      <td>0.137597</td>\n",
       "      <td>0.202962</td>\n",
       "      <td>0.312909</td>\n",
       "      <td>0.819329</td>\n",
       "    </tr>\n",
       "    <tr>\n",
       "      <th>std</th>\n",
       "      <td>500.538467</td>\n",
       "      <td>0.548048</td>\n",
       "      <td>29.690831</td>\n",
       "      <td>2317.464868</td>\n",
       "      <td>21.804185</td>\n",
       "      <td>11.040228</td>\n",
       "      <td>3.941234</td>\n",
       "      <td>0.450947</td>\n",
       "      <td>0.440445</td>\n",
       "      <td>0.459156</td>\n",
       "      <td>...</td>\n",
       "      <td>0.262418</td>\n",
       "      <td>0.447543</td>\n",
       "      <td>0.422695</td>\n",
       "      <td>0.425256</td>\n",
       "      <td>0.434733</td>\n",
       "      <td>0.247883</td>\n",
       "      <td>0.344477</td>\n",
       "      <td>0.402205</td>\n",
       "      <td>0.463678</td>\n",
       "      <td>0.384746</td>\n",
       "    </tr>\n",
       "    <tr>\n",
       "      <th>min</th>\n",
       "      <td>1.000000</td>\n",
       "      <td>5.200000</td>\n",
       "      <td>0.000000</td>\n",
       "      <td>43.000000</td>\n",
       "      <td>0.000000</td>\n",
       "      <td>1.000000</td>\n",
       "      <td>0.000000</td>\n",
       "      <td>0.000000</td>\n",
       "      <td>0.000000</td>\n",
       "      <td>0.000000</td>\n",
       "      <td>...</td>\n",
       "      <td>0.000000</td>\n",
       "      <td>0.000000</td>\n",
       "      <td>0.000000</td>\n",
       "      <td>0.000000</td>\n",
       "      <td>0.000000</td>\n",
       "      <td>0.000000</td>\n",
       "      <td>0.000000</td>\n",
       "      <td>0.000000</td>\n",
       "      <td>0.000000</td>\n",
       "      <td>0.000000</td>\n",
       "    </tr>\n",
       "    <tr>\n",
       "      <th>25%</th>\n",
       "      <td>169.000000</td>\n",
       "      <td>8.100000</td>\n",
       "      <td>2.000000</td>\n",
       "      <td>1161.000000</td>\n",
       "      <td>5.000000</td>\n",
       "      <td>1.000000</td>\n",
       "      <td>1.618990</td>\n",
       "      <td>0.000000</td>\n",
       "      <td>0.000000</td>\n",
       "      <td>0.000000</td>\n",
       "      <td>...</td>\n",
       "      <td>0.000000</td>\n",
       "      <td>0.000000</td>\n",
       "      <td>0.000000</td>\n",
       "      <td>0.000000</td>\n",
       "      <td>0.000000</td>\n",
       "      <td>0.000000</td>\n",
       "      <td>0.000000</td>\n",
       "      <td>0.000000</td>\n",
       "      <td>0.000000</td>\n",
       "      <td>1.000000</td>\n",
       "    </tr>\n",
       "    <tr>\n",
       "      <th>50%</th>\n",
       "      <td>341.000000</td>\n",
       "      <td>8.400000</td>\n",
       "      <td>9.000000</td>\n",
       "      <td>2134.000000</td>\n",
       "      <td>11.000000</td>\n",
       "      <td>3.000000</td>\n",
       "      <td>3.150166</td>\n",
       "      <td>0.000000</td>\n",
       "      <td>0.000000</td>\n",
       "      <td>1.000000</td>\n",
       "      <td>...</td>\n",
       "      <td>0.000000</td>\n",
       "      <td>0.000000</td>\n",
       "      <td>0.000000</td>\n",
       "      <td>0.000000</td>\n",
       "      <td>0.000000</td>\n",
       "      <td>0.000000</td>\n",
       "      <td>0.000000</td>\n",
       "      <td>0.000000</td>\n",
       "      <td>0.000000</td>\n",
       "      <td>1.000000</td>\n",
       "    </tr>\n",
       "    <tr>\n",
       "      <th>75%</th>\n",
       "      <td>660.000000</td>\n",
       "      <td>8.800000</td>\n",
       "      <td>23.000000</td>\n",
       "      <td>3613.000000</td>\n",
       "      <td>22.000000</td>\n",
       "      <td>8.000000</td>\n",
       "      <td>6.111753</td>\n",
       "      <td>1.000000</td>\n",
       "      <td>1.000000</td>\n",
       "      <td>1.000000</td>\n",
       "      <td>...</td>\n",
       "      <td>0.000000</td>\n",
       "      <td>1.000000</td>\n",
       "      <td>0.000000</td>\n",
       "      <td>0.000000</td>\n",
       "      <td>1.000000</td>\n",
       "      <td>0.000000</td>\n",
       "      <td>0.000000</td>\n",
       "      <td>0.000000</td>\n",
       "      <td>1.000000</td>\n",
       "      <td>1.000000</td>\n",
       "    </tr>\n",
       "    <tr>\n",
       "      <th>max</th>\n",
       "      <td>2682.000000</td>\n",
       "      <td>9.800000</td>\n",
       "      <td>408.000000</td>\n",
       "      <td>16670.000000</td>\n",
       "      <td>395.000000</td>\n",
       "      <td>355.000000</td>\n",
       "      <td>27.214280</td>\n",
       "      <td>1.000000</td>\n",
       "      <td>1.000000</td>\n",
       "      <td>1.000000</td>\n",
       "      <td>...</td>\n",
       "      <td>1.000000</td>\n",
       "      <td>1.000000</td>\n",
       "      <td>1.000000</td>\n",
       "      <td>1.000000</td>\n",
       "      <td>1.000000</td>\n",
       "      <td>1.000000</td>\n",
       "      <td>1.000000</td>\n",
       "      <td>1.000000</td>\n",
       "      <td>1.000000</td>\n",
       "      <td>1.000000</td>\n",
       "    </tr>\n",
       "  </tbody>\n",
       "</table>\n",
       "<p>8 rows × 56 columns</p>\n",
       "</div>"
      ],
      "text/plain": [
       "       additional_number_of_scoring  average_score  \\\n",
       "count                 515738.000000  515738.000000   \n",
       "mean                     498.081836       8.397487   \n",
       "std                      500.538467       0.548048   \n",
       "min                        1.000000       5.200000   \n",
       "25%                      169.000000       8.100000   \n",
       "50%                      341.000000       8.400000   \n",
       "75%                      660.000000       8.800000   \n",
       "max                     2682.000000       9.800000   \n",
       "\n",
       "       review_total_negative_word_counts  total_number_of_reviews  \\\n",
       "count                      515738.000000            515738.000000   \n",
       "mean                           18.539450              2743.743944   \n",
       "std                            29.690831              2317.464868   \n",
       "min                             0.000000                43.000000   \n",
       "25%                             2.000000              1161.000000   \n",
       "50%                             9.000000              2134.000000   \n",
       "75%                            23.000000              3613.000000   \n",
       "max                           408.000000             16670.000000   \n",
       "\n",
       "       review_total_positive_word_counts  \\\n",
       "count                      515738.000000   \n",
       "mean                           17.776458   \n",
       "std                            21.804185   \n",
       "min                             0.000000   \n",
       "25%                             5.000000   \n",
       "50%                            11.000000   \n",
       "75%                            22.000000   \n",
       "max                           395.000000   \n",
       "\n",
       "       total_number_of_reviews_reviewer_has_given  distance_to_center  \\\n",
       "count                               515738.000000       515738.000000   \n",
       "mean                                     7.166001            4.423649   \n",
       "std                                     11.040228            3.941234   \n",
       "min                                      1.000000            0.000000   \n",
       "25%                                      1.000000            1.618990   \n",
       "50%                                      3.000000            3.150166   \n",
       "75%                                      8.000000            6.111753   \n",
       "max                                    355.000000           27.214280   \n",
       "\n",
       "         high_season        weekend    is_negative  ...       month_12  \\\n",
       "count  515738.000000  515738.000000  515738.000000  ...  515738.000000   \n",
       "mean        0.284020       0.263339       0.697930  ...       0.074398   \n",
       "std         0.450947       0.440445       0.459156  ...       0.262418   \n",
       "min         0.000000       0.000000       0.000000  ...       0.000000   \n",
       "25%         0.000000       0.000000       0.000000  ...       0.000000   \n",
       "50%         0.000000       0.000000       1.000000  ...       0.000000   \n",
       "75%         1.000000       1.000000       1.000000  ...       0.000000   \n",
       "max         1.000000       1.000000       1.000000  ...       1.000000   \n",
       "\n",
       "            season_1       season_2       season_3       season_4  \\\n",
       "count  515738.000000  515738.000000  515738.000000  515738.000000   \n",
       "mean        0.277052       0.232924       0.237022       0.253002   \n",
       "std         0.447543       0.422695       0.425256       0.434733   \n",
       "min         0.000000       0.000000       0.000000       0.000000   \n",
       "25%         0.000000       0.000000       0.000000       0.000000   \n",
       "50%         0.000000       0.000000       0.000000       0.000000   \n",
       "75%         1.000000       0.000000       0.000000       1.000000   \n",
       "max         1.000000       1.000000       1.000000       1.000000   \n",
       "\n",
       "       reviewer_nationality_0  reviewer_nationality_1  reviewer_nationality_2  \\\n",
       "count           515738.000000           515738.000000           515738.000000   \n",
       "mean                 0.065772                0.137597                0.202962   \n",
       "std                  0.247883                0.344477                0.402205   \n",
       "min                  0.000000                0.000000                0.000000   \n",
       "25%                  0.000000                0.000000                0.000000   \n",
       "50%                  0.000000                0.000000                0.000000   \n",
       "75%                  0.000000                0.000000                0.000000   \n",
       "max                  1.000000                1.000000                1.000000   \n",
       "\n",
       "       reviewer_nationality_3  reviewer_nationality_4  \n",
       "count           515738.000000           515738.000000  \n",
       "mean                 0.312909                0.819329  \n",
       "std                  0.463678                0.384746  \n",
       "min                  0.000000                0.000000  \n",
       "25%                  0.000000                1.000000  \n",
       "50%                  0.000000                1.000000  \n",
       "75%                  1.000000                1.000000  \n",
       "max                  1.000000                1.000000  \n",
       "\n",
       "[8 rows x 56 columns]"
      ]
     },
     "execution_count": 112,
     "metadata": {},
     "output_type": "execute_result"
    }
   ],
   "source": [
    "data[num_cols].describe()"
   ]
  },
  {
   "cell_type": "code",
   "execution_count": 113,
   "metadata": {},
   "outputs": [
    {
     "data": {
      "text/html": [
       "<div>\n",
       "<style scoped>\n",
       "    .dataframe tbody tr th:only-of-type {\n",
       "        vertical-align: middle;\n",
       "    }\n",
       "\n",
       "    .dataframe tbody tr th {\n",
       "        vertical-align: top;\n",
       "    }\n",
       "\n",
       "    .dataframe thead th {\n",
       "        text-align: right;\n",
       "    }\n",
       "</style>\n",
       "<table border=\"1\" class=\"dataframe\">\n",
       "  <thead>\n",
       "    <tr style=\"text-align: right;\">\n",
       "      <th></th>\n",
       "      <th>additional_number_of_scoring</th>\n",
       "      <th>average_score</th>\n",
       "      <th>review_total_negative_word_counts</th>\n",
       "      <th>total_number_of_reviews</th>\n",
       "      <th>review_total_positive_word_counts</th>\n",
       "      <th>total_number_of_reviews_reviewer_has_given</th>\n",
       "      <th>distance_to_center</th>\n",
       "      <th>high_season</th>\n",
       "      <th>weekend</th>\n",
       "      <th>is_negative</th>\n",
       "      <th>...</th>\n",
       "      <th>month_12</th>\n",
       "      <th>season_1</th>\n",
       "      <th>season_2</th>\n",
       "      <th>season_3</th>\n",
       "      <th>season_4</th>\n",
       "      <th>reviewer_nationality_0</th>\n",
       "      <th>reviewer_nationality_1</th>\n",
       "      <th>reviewer_nationality_2</th>\n",
       "      <th>reviewer_nationality_3</th>\n",
       "      <th>reviewer_nationality_4</th>\n",
       "    </tr>\n",
       "  </thead>\n",
       "  <tbody>\n",
       "    <tr>\n",
       "      <th>0</th>\n",
       "      <td>904</td>\n",
       "      <td>8.1</td>\n",
       "      <td>52</td>\n",
       "      <td>16670</td>\n",
       "      <td>62</td>\n",
       "      <td>1</td>\n",
       "      <td>7.837768</td>\n",
       "      <td>1</td>\n",
       "      <td>0</td>\n",
       "      <td>1</td>\n",
       "      <td>...</td>\n",
       "      <td>0</td>\n",
       "      <td>1</td>\n",
       "      <td>0</td>\n",
       "      <td>0</td>\n",
       "      <td>0</td>\n",
       "      <td>0</td>\n",
       "      <td>0</td>\n",
       "      <td>0</td>\n",
       "      <td>0</td>\n",
       "      <td>1</td>\n",
       "    </tr>\n",
       "    <tr>\n",
       "      <th>1</th>\n",
       "      <td>612</td>\n",
       "      <td>8.6</td>\n",
       "      <td>10</td>\n",
       "      <td>5018</td>\n",
       "      <td>0</td>\n",
       "      <td>7</td>\n",
       "      <td>6.243807</td>\n",
       "      <td>0</td>\n",
       "      <td>0</td>\n",
       "      <td>1</td>\n",
       "      <td>...</td>\n",
       "      <td>0</td>\n",
       "      <td>0</td>\n",
       "      <td>1</td>\n",
       "      <td>0</td>\n",
       "      <td>0</td>\n",
       "      <td>0</td>\n",
       "      <td>0</td>\n",
       "      <td>0</td>\n",
       "      <td>1</td>\n",
       "      <td>0</td>\n",
       "    </tr>\n",
       "    <tr>\n",
       "      <th>2</th>\n",
       "      <td>46</td>\n",
       "      <td>8.3</td>\n",
       "      <td>3</td>\n",
       "      <td>351</td>\n",
       "      <td>5</td>\n",
       "      <td>15</td>\n",
       "      <td>0.563942</td>\n",
       "      <td>0</td>\n",
       "      <td>0</td>\n",
       "      <td>1</td>\n",
       "      <td>...</td>\n",
       "      <td>0</td>\n",
       "      <td>0</td>\n",
       "      <td>0</td>\n",
       "      <td>1</td>\n",
       "      <td>0</td>\n",
       "      <td>0</td>\n",
       "      <td>0</td>\n",
       "      <td>0</td>\n",
       "      <td>1</td>\n",
       "      <td>1</td>\n",
       "    </tr>\n",
       "    <tr>\n",
       "      <th>3</th>\n",
       "      <td>241</td>\n",
       "      <td>9.1</td>\n",
       "      <td>0</td>\n",
       "      <td>1543</td>\n",
       "      <td>27</td>\n",
       "      <td>9</td>\n",
       "      <td>1.873428</td>\n",
       "      <td>0</td>\n",
       "      <td>1</td>\n",
       "      <td>0</td>\n",
       "      <td>...</td>\n",
       "      <td>0</td>\n",
       "      <td>0</td>\n",
       "      <td>0</td>\n",
       "      <td>1</td>\n",
       "      <td>0</td>\n",
       "      <td>0</td>\n",
       "      <td>0</td>\n",
       "      <td>1</td>\n",
       "      <td>0</td>\n",
       "      <td>0</td>\n",
       "    </tr>\n",
       "    <tr>\n",
       "      <th>4</th>\n",
       "      <td>834</td>\n",
       "      <td>9.1</td>\n",
       "      <td>0</td>\n",
       "      <td>4687</td>\n",
       "      <td>7</td>\n",
       "      <td>2</td>\n",
       "      <td>0.403517</td>\n",
       "      <td>1</td>\n",
       "      <td>0</td>\n",
       "      <td>0</td>\n",
       "      <td>...</td>\n",
       "      <td>0</td>\n",
       "      <td>0</td>\n",
       "      <td>0</td>\n",
       "      <td>0</td>\n",
       "      <td>1</td>\n",
       "      <td>0</td>\n",
       "      <td>0</td>\n",
       "      <td>0</td>\n",
       "      <td>0</td>\n",
       "      <td>1</td>\n",
       "    </tr>\n",
       "  </tbody>\n",
       "</table>\n",
       "<p>5 rows × 56 columns</p>\n",
       "</div>"
      ],
      "text/plain": [
       "   additional_number_of_scoring  average_score  \\\n",
       "0                           904            8.1   \n",
       "1                           612            8.6   \n",
       "2                            46            8.3   \n",
       "3                           241            9.1   \n",
       "4                           834            9.1   \n",
       "\n",
       "   review_total_negative_word_counts  total_number_of_reviews  \\\n",
       "0                                 52                    16670   \n",
       "1                                 10                     5018   \n",
       "2                                  3                      351   \n",
       "3                                  0                     1543   \n",
       "4                                  0                     4687   \n",
       "\n",
       "   review_total_positive_word_counts  \\\n",
       "0                                 62   \n",
       "1                                  0   \n",
       "2                                  5   \n",
       "3                                 27   \n",
       "4                                  7   \n",
       "\n",
       "   total_number_of_reviews_reviewer_has_given  distance_to_center  \\\n",
       "0                                           1            7.837768   \n",
       "1                                           7            6.243807   \n",
       "2                                          15            0.563942   \n",
       "3                                           9            1.873428   \n",
       "4                                           2            0.403517   \n",
       "\n",
       "   high_season  weekend  is_negative  ...  month_12  season_1  season_2  \\\n",
       "0            1        0            1  ...         0         1         0   \n",
       "1            0        0            1  ...         0         0         1   \n",
       "2            0        0            1  ...         0         0         0   \n",
       "3            0        1            0  ...         0         0         0   \n",
       "4            1        0            0  ...         0         0         0   \n",
       "\n",
       "   season_3  season_4  reviewer_nationality_0  reviewer_nationality_1  \\\n",
       "0         0         0                       0                       0   \n",
       "1         0         0                       0                       0   \n",
       "2         1         0                       0                       0   \n",
       "3         1         0                       0                       0   \n",
       "4         0         1                       0                       0   \n",
       "\n",
       "   reviewer_nationality_2  reviewer_nationality_3  reviewer_nationality_4  \n",
       "0                       0                       0                       1  \n",
       "1                       0                       1                       0  \n",
       "2                       0                       1                       1  \n",
       "3                       1                       0                       0  \n",
       "4                       0                       0                       1  \n",
       "\n",
       "[5 rows x 56 columns]"
      ]
     },
     "execution_count": 113,
     "metadata": {},
     "output_type": "execute_result"
    }
   ],
   "source": [
    "# признаки для нормализации\n",
    "data_for_norm = data[num_cols]\n",
    "\n",
    "data_for_norm.head()"
   ]
  },
  {
   "cell_type": "code",
   "execution_count": 114,
   "metadata": {},
   "outputs": [],
   "source": [
    "# в связи со значительным количеством числовых признаков провести анализ на наличие в них выбросов не представляется возможным\n",
    "# поэтому нормализовать признаки будем с помощью нормализатора RobustScaler\n",
    "\n",
    "# инициализируем нормализатор RobustScaler\n",
    "r_scaler = preprocessing.RobustScaler()\n",
    "\n",
    "# копируем исходный датасет\n",
    "data_r = r_scaler.fit_transform(data_for_norm)\n",
    "\n",
    "# преобразуем промежуточный датасет в полноценный датафрейм\n",
    "data_r = pd.DataFrame(data_r, columns=num_cols)"
   ]
  },
  {
   "cell_type": "code",
   "execution_count": 115,
   "metadata": {},
   "outputs": [
    {
     "data": {
      "text/html": [
       "<div>\n",
       "<style scoped>\n",
       "    .dataframe tbody tr th:only-of-type {\n",
       "        vertical-align: middle;\n",
       "    }\n",
       "\n",
       "    .dataframe tbody tr th {\n",
       "        vertical-align: top;\n",
       "    }\n",
       "\n",
       "    .dataframe thead th {\n",
       "        text-align: right;\n",
       "    }\n",
       "</style>\n",
       "<table border=\"1\" class=\"dataframe\">\n",
       "  <thead>\n",
       "    <tr style=\"text-align: right;\">\n",
       "      <th></th>\n",
       "      <th>additional_number_of_scoring</th>\n",
       "      <th>average_score</th>\n",
       "      <th>review_total_negative_word_counts</th>\n",
       "      <th>total_number_of_reviews</th>\n",
       "      <th>review_total_positive_word_counts</th>\n",
       "      <th>total_number_of_reviews_reviewer_has_given</th>\n",
       "      <th>distance_to_center</th>\n",
       "      <th>high_season</th>\n",
       "      <th>weekend</th>\n",
       "      <th>is_negative</th>\n",
       "      <th>...</th>\n",
       "      <th>month_12</th>\n",
       "      <th>season_1</th>\n",
       "      <th>season_2</th>\n",
       "      <th>season_3</th>\n",
       "      <th>season_4</th>\n",
       "      <th>reviewer_nationality_0</th>\n",
       "      <th>reviewer_nationality_1</th>\n",
       "      <th>reviewer_nationality_2</th>\n",
       "      <th>reviewer_nationality_3</th>\n",
       "      <th>reviewer_nationality_4</th>\n",
       "    </tr>\n",
       "  </thead>\n",
       "  <tbody>\n",
       "    <tr>\n",
       "      <th>count</th>\n",
       "      <td>515738.000000</td>\n",
       "      <td>515738.000000</td>\n",
       "      <td>515738.000000</td>\n",
       "      <td>515738.000000</td>\n",
       "      <td>515738.000000</td>\n",
       "      <td>515738.000000</td>\n",
       "      <td>515738.000000</td>\n",
       "      <td>515738.000000</td>\n",
       "      <td>515738.000000</td>\n",
       "      <td>515738.000000</td>\n",
       "      <td>...</td>\n",
       "      <td>515738.000000</td>\n",
       "      <td>515738.000000</td>\n",
       "      <td>515738.000000</td>\n",
       "      <td>515738.000000</td>\n",
       "      <td>515738.000000</td>\n",
       "      <td>515738.000000</td>\n",
       "      <td>515738.000000</td>\n",
       "      <td>515738.000000</td>\n",
       "      <td>515738.000000</td>\n",
       "      <td>515738.000000</td>\n",
       "    </tr>\n",
       "    <tr>\n",
       "      <th>mean</th>\n",
       "      <td>0.319922</td>\n",
       "      <td>-0.003590</td>\n",
       "      <td>0.454260</td>\n",
       "      <td>0.248672</td>\n",
       "      <td>0.398615</td>\n",
       "      <td>0.595143</td>\n",
       "      <td>0.283452</td>\n",
       "      <td>0.284020</td>\n",
       "      <td>0.263339</td>\n",
       "      <td>-0.302070</td>\n",
       "      <td>...</td>\n",
       "      <td>0.074398</td>\n",
       "      <td>0.277052</td>\n",
       "      <td>0.232924</td>\n",
       "      <td>0.237022</td>\n",
       "      <td>0.253002</td>\n",
       "      <td>0.065772</td>\n",
       "      <td>0.137597</td>\n",
       "      <td>0.202962</td>\n",
       "      <td>0.312909</td>\n",
       "      <td>-0.180671</td>\n",
       "    </tr>\n",
       "    <tr>\n",
       "      <th>std</th>\n",
       "      <td>1.019427</td>\n",
       "      <td>0.782926</td>\n",
       "      <td>1.413849</td>\n",
       "      <td>0.945132</td>\n",
       "      <td>1.282599</td>\n",
       "      <td>1.577175</td>\n",
       "      <td>0.877241</td>\n",
       "      <td>0.450947</td>\n",
       "      <td>0.440445</td>\n",
       "      <td>0.459156</td>\n",
       "      <td>...</td>\n",
       "      <td>0.262418</td>\n",
       "      <td>0.447543</td>\n",
       "      <td>0.422695</td>\n",
       "      <td>0.425256</td>\n",
       "      <td>0.434733</td>\n",
       "      <td>0.247883</td>\n",
       "      <td>0.344477</td>\n",
       "      <td>0.402205</td>\n",
       "      <td>0.463678</td>\n",
       "      <td>0.384746</td>\n",
       "    </tr>\n",
       "    <tr>\n",
       "      <th>min</th>\n",
       "      <td>-0.692464</td>\n",
       "      <td>-4.571429</td>\n",
       "      <td>-0.428571</td>\n",
       "      <td>-0.852773</td>\n",
       "      <td>-0.647059</td>\n",
       "      <td>-0.285714</td>\n",
       "      <td>-0.701165</td>\n",
       "      <td>0.000000</td>\n",
       "      <td>0.000000</td>\n",
       "      <td>-1.000000</td>\n",
       "      <td>...</td>\n",
       "      <td>0.000000</td>\n",
       "      <td>0.000000</td>\n",
       "      <td>0.000000</td>\n",
       "      <td>0.000000</td>\n",
       "      <td>0.000000</td>\n",
       "      <td>0.000000</td>\n",
       "      <td>0.000000</td>\n",
       "      <td>0.000000</td>\n",
       "      <td>0.000000</td>\n",
       "      <td>-1.000000</td>\n",
       "    </tr>\n",
       "    <tr>\n",
       "      <th>25%</th>\n",
       "      <td>-0.350305</td>\n",
       "      <td>-0.428571</td>\n",
       "      <td>-0.333333</td>\n",
       "      <td>-0.396819</td>\n",
       "      <td>-0.352941</td>\n",
       "      <td>-0.285714</td>\n",
       "      <td>-0.340809</td>\n",
       "      <td>0.000000</td>\n",
       "      <td>0.000000</td>\n",
       "      <td>-1.000000</td>\n",
       "      <td>...</td>\n",
       "      <td>0.000000</td>\n",
       "      <td>0.000000</td>\n",
       "      <td>0.000000</td>\n",
       "      <td>0.000000</td>\n",
       "      <td>0.000000</td>\n",
       "      <td>0.000000</td>\n",
       "      <td>0.000000</td>\n",
       "      <td>0.000000</td>\n",
       "      <td>0.000000</td>\n",
       "      <td>0.000000</td>\n",
       "    </tr>\n",
       "    <tr>\n",
       "      <th>50%</th>\n",
       "      <td>0.000000</td>\n",
       "      <td>0.000000</td>\n",
       "      <td>0.000000</td>\n",
       "      <td>0.000000</td>\n",
       "      <td>0.000000</td>\n",
       "      <td>0.000000</td>\n",
       "      <td>0.000000</td>\n",
       "      <td>0.000000</td>\n",
       "      <td>0.000000</td>\n",
       "      <td>0.000000</td>\n",
       "      <td>...</td>\n",
       "      <td>0.000000</td>\n",
       "      <td>0.000000</td>\n",
       "      <td>0.000000</td>\n",
       "      <td>0.000000</td>\n",
       "      <td>0.000000</td>\n",
       "      <td>0.000000</td>\n",
       "      <td>0.000000</td>\n",
       "      <td>0.000000</td>\n",
       "      <td>0.000000</td>\n",
       "      <td>0.000000</td>\n",
       "    </tr>\n",
       "    <tr>\n",
       "      <th>75%</th>\n",
       "      <td>0.649695</td>\n",
       "      <td>0.571429</td>\n",
       "      <td>0.666667</td>\n",
       "      <td>0.603181</td>\n",
       "      <td>0.647059</td>\n",
       "      <td>0.714286</td>\n",
       "      <td>0.659191</td>\n",
       "      <td>1.000000</td>\n",
       "      <td>1.000000</td>\n",
       "      <td>0.000000</td>\n",
       "      <td>...</td>\n",
       "      <td>0.000000</td>\n",
       "      <td>1.000000</td>\n",
       "      <td>0.000000</td>\n",
       "      <td>0.000000</td>\n",
       "      <td>1.000000</td>\n",
       "      <td>0.000000</td>\n",
       "      <td>0.000000</td>\n",
       "      <td>0.000000</td>\n",
       "      <td>1.000000</td>\n",
       "      <td>0.000000</td>\n",
       "    </tr>\n",
       "    <tr>\n",
       "      <th>max</th>\n",
       "      <td>4.767821</td>\n",
       "      <td>2.000000</td>\n",
       "      <td>19.000000</td>\n",
       "      <td>5.928222</td>\n",
       "      <td>22.588235</td>\n",
       "      <td>50.285714</td>\n",
       "      <td>5.356195</td>\n",
       "      <td>1.000000</td>\n",
       "      <td>1.000000</td>\n",
       "      <td>0.000000</td>\n",
       "      <td>...</td>\n",
       "      <td>1.000000</td>\n",
       "      <td>1.000000</td>\n",
       "      <td>1.000000</td>\n",
       "      <td>1.000000</td>\n",
       "      <td>1.000000</td>\n",
       "      <td>1.000000</td>\n",
       "      <td>1.000000</td>\n",
       "      <td>1.000000</td>\n",
       "      <td>1.000000</td>\n",
       "      <td>0.000000</td>\n",
       "    </tr>\n",
       "  </tbody>\n",
       "</table>\n",
       "<p>8 rows × 56 columns</p>\n",
       "</div>"
      ],
      "text/plain": [
       "       additional_number_of_scoring  average_score  \\\n",
       "count                 515738.000000  515738.000000   \n",
       "mean                       0.319922      -0.003590   \n",
       "std                        1.019427       0.782926   \n",
       "min                       -0.692464      -4.571429   \n",
       "25%                       -0.350305      -0.428571   \n",
       "50%                        0.000000       0.000000   \n",
       "75%                        0.649695       0.571429   \n",
       "max                        4.767821       2.000000   \n",
       "\n",
       "       review_total_negative_word_counts  total_number_of_reviews  \\\n",
       "count                      515738.000000            515738.000000   \n",
       "mean                            0.454260                 0.248672   \n",
       "std                             1.413849                 0.945132   \n",
       "min                            -0.428571                -0.852773   \n",
       "25%                            -0.333333                -0.396819   \n",
       "50%                             0.000000                 0.000000   \n",
       "75%                             0.666667                 0.603181   \n",
       "max                            19.000000                 5.928222   \n",
       "\n",
       "       review_total_positive_word_counts  \\\n",
       "count                      515738.000000   \n",
       "mean                            0.398615   \n",
       "std                             1.282599   \n",
       "min                            -0.647059   \n",
       "25%                            -0.352941   \n",
       "50%                             0.000000   \n",
       "75%                             0.647059   \n",
       "max                            22.588235   \n",
       "\n",
       "       total_number_of_reviews_reviewer_has_given  distance_to_center  \\\n",
       "count                               515738.000000       515738.000000   \n",
       "mean                                     0.595143            0.283452   \n",
       "std                                      1.577175            0.877241   \n",
       "min                                     -0.285714           -0.701165   \n",
       "25%                                     -0.285714           -0.340809   \n",
       "50%                                      0.000000            0.000000   \n",
       "75%                                      0.714286            0.659191   \n",
       "max                                     50.285714            5.356195   \n",
       "\n",
       "         high_season        weekend    is_negative  ...       month_12  \\\n",
       "count  515738.000000  515738.000000  515738.000000  ...  515738.000000   \n",
       "mean        0.284020       0.263339      -0.302070  ...       0.074398   \n",
       "std         0.450947       0.440445       0.459156  ...       0.262418   \n",
       "min         0.000000       0.000000      -1.000000  ...       0.000000   \n",
       "25%         0.000000       0.000000      -1.000000  ...       0.000000   \n",
       "50%         0.000000       0.000000       0.000000  ...       0.000000   \n",
       "75%         1.000000       1.000000       0.000000  ...       0.000000   \n",
       "max         1.000000       1.000000       0.000000  ...       1.000000   \n",
       "\n",
       "            season_1       season_2       season_3       season_4  \\\n",
       "count  515738.000000  515738.000000  515738.000000  515738.000000   \n",
       "mean        0.277052       0.232924       0.237022       0.253002   \n",
       "std         0.447543       0.422695       0.425256       0.434733   \n",
       "min         0.000000       0.000000       0.000000       0.000000   \n",
       "25%         0.000000       0.000000       0.000000       0.000000   \n",
       "50%         0.000000       0.000000       0.000000       0.000000   \n",
       "75%         1.000000       0.000000       0.000000       1.000000   \n",
       "max         1.000000       1.000000       1.000000       1.000000   \n",
       "\n",
       "       reviewer_nationality_0  reviewer_nationality_1  reviewer_nationality_2  \\\n",
       "count           515738.000000           515738.000000           515738.000000   \n",
       "mean                 0.065772                0.137597                0.202962   \n",
       "std                  0.247883                0.344477                0.402205   \n",
       "min                  0.000000                0.000000                0.000000   \n",
       "25%                  0.000000                0.000000                0.000000   \n",
       "50%                  0.000000                0.000000                0.000000   \n",
       "75%                  0.000000                0.000000                0.000000   \n",
       "max                  1.000000                1.000000                1.000000   \n",
       "\n",
       "       reviewer_nationality_3  reviewer_nationality_4  \n",
       "count           515738.000000           515738.000000  \n",
       "mean                 0.312909               -0.180671  \n",
       "std                  0.463678                0.384746  \n",
       "min                  0.000000               -1.000000  \n",
       "25%                  0.000000                0.000000  \n",
       "50%                  0.000000                0.000000  \n",
       "75%                  1.000000                0.000000  \n",
       "max                  1.000000                0.000000  \n",
       "\n",
       "[8 rows x 56 columns]"
      ]
     },
     "execution_count": 115,
     "metadata": {},
     "output_type": "execute_result"
    }
   ],
   "source": [
    "data_r.describe()"
   ]
  },
  {
   "cell_type": "code",
   "execution_count": 116,
   "metadata": {},
   "outputs": [
    {
     "data": {
      "text/html": [
       "<div>\n",
       "<style scoped>\n",
       "    .dataframe tbody tr th:only-of-type {\n",
       "        vertical-align: middle;\n",
       "    }\n",
       "\n",
       "    .dataframe tbody tr th {\n",
       "        vertical-align: top;\n",
       "    }\n",
       "\n",
       "    .dataframe thead th {\n",
       "        text-align: right;\n",
       "    }\n",
       "</style>\n",
       "<table border=\"1\" class=\"dataframe\">\n",
       "  <thead>\n",
       "    <tr style=\"text-align: right;\">\n",
       "      <th></th>\n",
       "      <th>hotel_name</th>\n",
       "      <th>days_since_review</th>\n",
       "      <th>sample</th>\n",
       "      <th>reviewer_score</th>\n",
       "      <th>nights_in_hotel</th>\n",
       "      <th>additional_number_of_scoring</th>\n",
       "      <th>average_score</th>\n",
       "      <th>review_total_negative_word_counts</th>\n",
       "      <th>total_number_of_reviews</th>\n",
       "      <th>review_total_positive_word_counts</th>\n",
       "      <th>...</th>\n",
       "      <th>month_12</th>\n",
       "      <th>season_1</th>\n",
       "      <th>season_2</th>\n",
       "      <th>season_3</th>\n",
       "      <th>season_4</th>\n",
       "      <th>reviewer_nationality_0</th>\n",
       "      <th>reviewer_nationality_1</th>\n",
       "      <th>reviewer_nationality_2</th>\n",
       "      <th>reviewer_nationality_3</th>\n",
       "      <th>reviewer_nationality_4</th>\n",
       "    </tr>\n",
       "  </thead>\n",
       "  <tbody>\n",
       "    <tr>\n",
       "      <th>0</th>\n",
       "      <td>Hotel Da Vinci</td>\n",
       "      <td>13 days</td>\n",
       "      <td>0</td>\n",
       "      <td>0.0</td>\n",
       "      <td>2</td>\n",
       "      <td>1.146640</td>\n",
       "      <td>-0.428571</td>\n",
       "      <td>2.047619</td>\n",
       "      <td>5.928222</td>\n",
       "      <td>3.000000</td>\n",
       "      <td>...</td>\n",
       "      <td>0.0</td>\n",
       "      <td>1.0</td>\n",
       "      <td>0.0</td>\n",
       "      <td>0.0</td>\n",
       "      <td>0.0</td>\n",
       "      <td>0.0</td>\n",
       "      <td>0.0</td>\n",
       "      <td>0.0</td>\n",
       "      <td>0.0</td>\n",
       "      <td>0.0</td>\n",
       "    </tr>\n",
       "    <tr>\n",
       "      <th>1</th>\n",
       "      <td>Urban Lodge Hotel</td>\n",
       "      <td>234 day</td>\n",
       "      <td>0</td>\n",
       "      <td>0.0</td>\n",
       "      <td>1</td>\n",
       "      <td>0.551935</td>\n",
       "      <td>0.285714</td>\n",
       "      <td>0.047619</td>\n",
       "      <td>1.176183</td>\n",
       "      <td>-0.647059</td>\n",
       "      <td>...</td>\n",
       "      <td>0.0</td>\n",
       "      <td>0.0</td>\n",
       "      <td>1.0</td>\n",
       "      <td>0.0</td>\n",
       "      <td>0.0</td>\n",
       "      <td>0.0</td>\n",
       "      <td>0.0</td>\n",
       "      <td>0.0</td>\n",
       "      <td>1.0</td>\n",
       "      <td>-1.0</td>\n",
       "    </tr>\n",
       "    <tr>\n",
       "      <th>2</th>\n",
       "      <td>Alexandra Barcelona A DoubleTree by Hilton</td>\n",
       "      <td>616 day</td>\n",
       "      <td>0</td>\n",
       "      <td>0.0</td>\n",
       "      <td>1</td>\n",
       "      <td>-0.600815</td>\n",
       "      <td>-0.142857</td>\n",
       "      <td>-0.285714</td>\n",
       "      <td>-0.727162</td>\n",
       "      <td>-0.352941</td>\n",
       "      <td>...</td>\n",
       "      <td>0.0</td>\n",
       "      <td>0.0</td>\n",
       "      <td>0.0</td>\n",
       "      <td>1.0</td>\n",
       "      <td>0.0</td>\n",
       "      <td>0.0</td>\n",
       "      <td>0.0</td>\n",
       "      <td>0.0</td>\n",
       "      <td>1.0</td>\n",
       "      <td>0.0</td>\n",
       "    </tr>\n",
       "    <tr>\n",
       "      <th>3</th>\n",
       "      <td>Hotel Principe Di Savoia</td>\n",
       "      <td>656 day</td>\n",
       "      <td>0</td>\n",
       "      <td>0.0</td>\n",
       "      <td>1</td>\n",
       "      <td>-0.203666</td>\n",
       "      <td>1.000000</td>\n",
       "      <td>-0.428571</td>\n",
       "      <td>-0.241028</td>\n",
       "      <td>0.941176</td>\n",
       "      <td>...</td>\n",
       "      <td>0.0</td>\n",
       "      <td>0.0</td>\n",
       "      <td>0.0</td>\n",
       "      <td>1.0</td>\n",
       "      <td>0.0</td>\n",
       "      <td>0.0</td>\n",
       "      <td>0.0</td>\n",
       "      <td>1.0</td>\n",
       "      <td>0.0</td>\n",
       "      <td>-1.0</td>\n",
       "    </tr>\n",
       "    <tr>\n",
       "      <th>4</th>\n",
       "      <td>Hotel Esther a</td>\n",
       "      <td>444 day</td>\n",
       "      <td>0</td>\n",
       "      <td>0.0</td>\n",
       "      <td>2</td>\n",
       "      <td>1.004073</td>\n",
       "      <td>1.000000</td>\n",
       "      <td>-0.428571</td>\n",
       "      <td>1.041191</td>\n",
       "      <td>-0.235294</td>\n",
       "      <td>...</td>\n",
       "      <td>0.0</td>\n",
       "      <td>0.0</td>\n",
       "      <td>0.0</td>\n",
       "      <td>0.0</td>\n",
       "      <td>1.0</td>\n",
       "      <td>0.0</td>\n",
       "      <td>0.0</td>\n",
       "      <td>0.0</td>\n",
       "      <td>0.0</td>\n",
       "      <td>0.0</td>\n",
       "    </tr>\n",
       "  </tbody>\n",
       "</table>\n",
       "<p>5 rows × 61 columns</p>\n",
       "</div>"
      ],
      "text/plain": [
       "                                   hotel_name days_since_review  sample  \\\n",
       "0                              Hotel Da Vinci           13 days       0   \n",
       "1                           Urban Lodge Hotel           234 day       0   \n",
       "2  Alexandra Barcelona A DoubleTree by Hilton           616 day       0   \n",
       "3                    Hotel Principe Di Savoia           656 day       0   \n",
       "4                              Hotel Esther a           444 day       0   \n",
       "\n",
       "   reviewer_score nights_in_hotel  additional_number_of_scoring  \\\n",
       "0             0.0               2                      1.146640   \n",
       "1             0.0               1                      0.551935   \n",
       "2             0.0               1                     -0.600815   \n",
       "3             0.0               1                     -0.203666   \n",
       "4             0.0               2                      1.004073   \n",
       "\n",
       "   average_score  review_total_negative_word_counts  total_number_of_reviews  \\\n",
       "0      -0.428571                           2.047619                 5.928222   \n",
       "1       0.285714                           0.047619                 1.176183   \n",
       "2      -0.142857                          -0.285714                -0.727162   \n",
       "3       1.000000                          -0.428571                -0.241028   \n",
       "4       1.000000                          -0.428571                 1.041191   \n",
       "\n",
       "   review_total_positive_word_counts  ...  month_12  season_1  season_2  \\\n",
       "0                           3.000000  ...       0.0       1.0       0.0   \n",
       "1                          -0.647059  ...       0.0       0.0       1.0   \n",
       "2                          -0.352941  ...       0.0       0.0       0.0   \n",
       "3                           0.941176  ...       0.0       0.0       0.0   \n",
       "4                          -0.235294  ...       0.0       0.0       0.0   \n",
       "\n",
       "   season_3  season_4  reviewer_nationality_0  reviewer_nationality_1  \\\n",
       "0       0.0       0.0                     0.0                     0.0   \n",
       "1       0.0       0.0                     0.0                     0.0   \n",
       "2       1.0       0.0                     0.0                     0.0   \n",
       "3       1.0       0.0                     0.0                     0.0   \n",
       "4       0.0       1.0                     0.0                     0.0   \n",
       "\n",
       "   reviewer_nationality_2  reviewer_nationality_3  reviewer_nationality_4  \n",
       "0                     0.0                     0.0                     0.0  \n",
       "1                     0.0                     1.0                    -1.0  \n",
       "2                     0.0                     1.0                     0.0  \n",
       "3                     1.0                     0.0                    -1.0  \n",
       "4                     0.0                     0.0                     0.0  \n",
       "\n",
       "[5 rows x 61 columns]"
      ]
     },
     "execution_count": 116,
     "metadata": {},
     "output_type": "execute_result"
    }
   ],
   "source": [
    "# удаляем из исходного датафрейма (data) признаки до нормализации и добавляем нормализированные признаки\n",
    "data = data.drop(columns=num_cols)\n",
    "\n",
    "data = pd.concat([data, data_r], axis=1)\n",
    "\n",
    "data.head()"
   ]
  },
  {
   "cell_type": "code",
   "execution_count": 117,
   "metadata": {},
   "outputs": [
    {
     "name": "stdout",
     "output_type": "stream",
     "text": [
      "Размерность таблицы после нормализации признаков: (515738, 61)\n"
     ]
    }
   ],
   "source": [
    "print(f'Размерность таблицы после нормализации признаков: {data.shape}')"
   ]
  },
  {
   "cell_type": "markdown",
   "metadata": {},
   "source": [
    "## Отбор признаков"
   ]
  },
  {
   "cell_type": "code",
   "execution_count": 118,
   "metadata": {},
   "outputs": [],
   "source": [
    "# удаление нечисловых признаков, т.к. на них модель все равно обучаться не будет\n",
    "data.drop(obj_cols, axis=1, inplace=True)"
   ]
  },
  {
   "cell_type": "code",
   "execution_count": 119,
   "metadata": {},
   "outputs": [
    {
     "name": "stdout",
     "output_type": "stream",
     "text": [
      "Размерность таблицы: (515738, 58)\n"
     ]
    }
   ],
   "source": [
    "print(f'Размерность таблицы: {data.shape}')"
   ]
  },
  {
   "cell_type": "markdown",
   "metadata": {},
   "source": [
    "### Анализ мультиколлинеарности"
   ]
  },
  {
   "cell_type": "code",
   "execution_count": 120,
   "metadata": {},
   "outputs": [
    {
     "data": {
      "image/png": "[encoded data removed]",
      "text/plain": [
       "<Figure size 3960x3960 with 2 Axes>"
      ]
     },
     "metadata": {
      "needs_background": "light"
     },
     "output_type": "display_data"
    }
   ],
   "source": [
    "# в связи с тем, что оценка нормальности распределений не проводилась, для корреляции с непрерывными признаками \n",
    "# будем использовать метод Пирсона\n",
    "corr = data.corr(method = 'spearman')\n",
    "\n",
    "# выведем только данные с высоким уровнем корреляции\n",
    "mask_1 = np.abs(corr) >= 0.6\n",
    "mask_2 = np.abs(corr) <= -0.6\n",
    "\n",
    "corr_data = corr[mask_1 | mask_2]\n",
    "\n",
    "# проверка признака на мультиколлинеарность\n",
    "plt.rcParams['figure.figsize'] = (55,55)\n",
    "sns.heatmap(corr_data, annot=True, cmap='coolwarm', linewidth=0.3, linecolor='gray');"
   ]
  },
  {
   "cell_type": "code",
   "execution_count": 121,
   "metadata": {},
   "outputs": [
    {
     "name": "stdout",
     "output_type": "stream",
     "text": [
      "sample reviewer_score - 0.759\n",
      "reviewer_score sample - 0.759\n",
      "additional_number_of_scoring total_number_of_reviews - 0.859\n",
      "review_total_negative_word_counts is_negative - 0.797\n",
      "total_number_of_reviews additional_number_of_scoring - 0.859\n",
      "is_negative review_total_negative_word_counts - 0.797\n",
      "is_negative n_review_sentiments_neu - 0.789\n",
      "n_review_sentiments_neg n_review_sentiments_neu - 0.713\n",
      "n_review_sentiments_neg n_review_sentiments_compound - 0.829\n",
      "n_review_sentiments_neu is_negative - 0.789\n",
      "n_review_sentiments_neu n_review_sentiments_neg - 0.713\n",
      "n_review_sentiments_compound n_review_sentiments_neg - 0.829\n",
      "p_review_sentiments_neu p_review_sentiments_pos - 0.939\n",
      "p_review_sentiments_pos p_review_sentiments_neu - 0.939\n"
     ]
    }
   ],
   "source": [
    "# в связи с невозможностью детально проанализировать график, посмотрим корреляцию между признаками с помощью цикла\n",
    "# рассмотрим признаки, между которыми наблюдается сильная связь\n",
    "for row in corr_data.index:\n",
    "    for col in corr_data.columns:\n",
    "        if corr_data.loc[row, col] != 1 and abs(corr_data.loc[row, col]) >= 0.7:\n",
    "            print(row, col, '-', round(abs(corr_data.loc[row, col]), 3))"
   ]
  },
  {
   "cell_type": "code",
   "execution_count": 122,
   "metadata": {},
   "outputs": [],
   "source": [
    "# удалим признаки с сильной корреляцией\n",
    "data.drop(['additional_number_of_scoring', 'review_total_negative_word_counts'], axis=1, inplace=True)"
   ]
  },
  {
   "cell_type": "code",
   "execution_count": 123,
   "metadata": {},
   "outputs": [
    {
     "name": "stdout",
     "output_type": "stream",
     "text": [
      "Размерность таблицы: (515738, 56)\n"
     ]
    }
   ],
   "source": [
    "print(f'Размерность таблицы: {data.shape}')"
   ]
  },
  {
   "cell_type": "markdown",
   "metadata": {},
   "source": [
    "### Оценка значимости признаков"
   ]
  },
  {
   "cell_type": "code",
   "execution_count": 124,
   "metadata": {},
   "outputs": [
    {
     "data": {
      "image/png": "[encoded data removed]",
      "text/plain": [
       "<Figure size 1080x1440 with 1 Axes>"
      ]
     },
     "metadata": {
      "needs_background": "light"
     },
     "output_type": "display_data"
    }
   ],
   "source": [
    "# для оценки значимости непрерывных переменных будем использовать дисперсионным анализом ANOVA\n",
    "y = data.query('sample == 1').drop(['sample'], axis=1).reviewer_score.values\n",
    "X = data.query('sample == 1').drop(['sample', 'reviewer_score'], axis=1)\n",
    "\n",
    "# визуализируем результат анализа значимости:\n",
    "imp_num = pd.Series(f_classif(X[X.columns], y)[0], index = X.columns)\n",
    "imp_num.sort_values(inplace = True)\n",
    "\n",
    "fig, ax = plt.subplots(figsize=(15, 20))\n",
    "imp_num.plot(kind = 'barh', color='green');"
   ]
  },
  {
   "cell_type": "code",
   "execution_count": 125,
   "metadata": {},
   "outputs": [],
   "source": [
    "cols_to_delete_2 = ['city_1', 'country_1', 'rooms', 'month_9', 'city_5', 'country_5', 'month_10', 'month_3', 'season_4',\n",
    "                    'month_1', 'month_2', 'weekend', 'season_1', 'month_7', 'month_11', 'high_season', 'month_6', 'month_5']"
   ]
  },
  {
   "cell_type": "code",
   "execution_count": 126,
   "metadata": {},
   "outputs": [],
   "source": [
    "data.drop(cols_to_delete_2, axis = 1, inplace=True)"
   ]
  },
  {
   "cell_type": "code",
   "execution_count": 127,
   "metadata": {},
   "outputs": [
    {
     "name": "stdout",
     "output_type": "stream",
     "text": [
      "Размерность таблицы: (515738, 38)\n"
     ]
    }
   ],
   "source": [
    "print(f'Размерность таблицы: {data.shape}')"
   ]
  },
  {
   "cell_type": "markdown",
   "metadata": {},
   "source": [
    "## Удаление дубликатов"
   ]
  },
  {
   "cell_type": "code",
   "execution_count": 128,
   "metadata": {},
   "outputs": [
    {
     "name": "stdout",
     "output_type": "stream",
     "text": [
      "Число записей: 386803\n",
      "Число найденных дубликатов: 411\n"
     ]
    }
   ],
   "source": [
    "# отфильтруем тренировочный датасет\n",
    "mask = data['sample'] == 1\n",
    "print(f'Число записей: {data[mask].shape[0]}')\n",
    "\n",
    "# список столбцов для поиска совпадений\n",
    "dupl_columns = list(data[mask].columns)\n",
    "\n",
    "# маска дубликатов\n",
    "mask_d = data[mask].duplicated(subset=dupl_columns)\n",
    "\n",
    "data_duplicates = data[mask][mask_d]\n",
    "print(f'Число найденных дубликатов: {data_duplicates.shape[0]}')\n",
    "\n",
    "# Удаление дубликатов по индексу\n",
    "data.drop(data_duplicates.index, inplace=True)"
   ]
  },
  {
   "cell_type": "code",
   "execution_count": 129,
   "metadata": {},
   "outputs": [
    {
     "name": "stdout",
     "output_type": "stream",
     "text": [
      "Размерность таблицы: (515327, 38)\n"
     ]
    }
   ],
   "source": [
    "print(f'Размерность таблицы: {data.shape}')"
   ]
  },
  {
   "cell_type": "markdown",
   "metadata": {},
   "source": [
    "## Обучение модели и получение предсказания (Model Building)"
   ]
  },
  {
   "cell_type": "code",
   "execution_count": 130,
   "metadata": {},
   "outputs": [
    {
     "name": "stdout",
     "output_type": "stream",
     "text": [
      "0 38\n"
     ]
    }
   ],
   "source": [
    "# проверка на наличие нечисловых признаков\n",
    "obj_cols_1 = list(data.select_dtypes('object').columns)\n",
    "num_cols_1 = list(data.select_dtypes(['int64','float64']).columns)\n",
    "\n",
    "print(len(obj_cols_1), len(num_cols_1))"
   ]
  },
  {
   "cell_type": "code",
   "execution_count": 131,
   "metadata": {},
   "outputs": [],
   "source": [
    "# Теперь выделим тестовую часть\n",
    "train_data = data.query('sample == 1').drop(['sample'], axis=1)\n",
    "test_data = data.query('sample == 0').drop(['sample'], axis=1)"
   ]
  },
  {
   "cell_type": "code",
   "execution_count": 132,
   "metadata": {},
   "outputs": [],
   "source": [
    "y = train_data.reviewer_score.values            \n",
    "X = train_data.drop(['reviewer_score'], axis=1)"
   ]
  },
  {
   "cell_type": "code",
   "execution_count": 133,
   "metadata": {},
   "outputs": [],
   "source": [
    "# Воспользуемся специальной функцие train_test_split для разбивки тестовых данных\n",
    "# выделим 20% данных на валидацию (параметр test_size)\n",
    "X_train, X_test, y_train, y_test = train_test_split(X, y, test_size=0.2, random_state=RANDOM_SEED)"
   ]
  },
  {
   "cell_type": "code",
   "execution_count": 134,
   "metadata": {},
   "outputs": [
    {
     "data": {
      "text/plain": [
       "((128935, 37), (386392, 37), (386392, 36), (309113, 36), (77279, 36))"
      ]
     },
     "execution_count": 134,
     "metadata": {},
     "output_type": "execute_result"
    }
   ],
   "source": [
    "# проверяем\n",
    "test_data.shape, train_data.shape, X.shape, X_train.shape, X_test.shape"
   ]
  },
  {
   "cell_type": "code",
   "execution_count": 135,
   "metadata": {},
   "outputs": [],
   "source": [
    "# Создаём модель \n",
    "model = RandomForestRegressor(n_estimators=100, verbose=1, n_jobs=-1, random_state=RANDOM_SEED)"
   ]
  },
  {
   "cell_type": "code",
   "execution_count": 136,
   "metadata": {},
   "outputs": [
    {
     "name": "stderr",
     "output_type": "stream",
     "text": [
      "[Parallel(n_jobs=-1)]: Using backend ThreadingBackend with 8 concurrent workers.\n",
      "[Parallel(n_jobs=-1)]: Done  34 tasks      | elapsed:  1.8min\n",
      "[Parallel(n_jobs=-1)]: Done 100 out of 100 | elapsed:  4.9min finished\n",
      "[Parallel(n_jobs=8)]: Using backend ThreadingBackend with 8 concurrent workers.\n",
      "[Parallel(n_jobs=8)]: Done  34 tasks      | elapsed:    2.2s\n",
      "[Parallel(n_jobs=8)]: Done 100 out of 100 | elapsed:    3.7s finished\n"
     ]
    }
   ],
   "source": [
    "# Обучаем модель на тестовом наборе данных\n",
    "model.fit(X_train, y_train)\n",
    "\n",
    "# Используем обученную модель для предсказания рейтинга ресторанов в тестовой выборке.\n",
    "# Предсказанные значения записываем в переменную y_pred\n",
    "y_pred = model.predict(X_test)"
   ]
  },
  {
   "cell_type": "code",
   "execution_count": 137,
   "metadata": {},
   "outputs": [
    {
     "name": "stdout",
     "output_type": "stream",
     "text": [
      "MAE: 0.8651\n",
      "MAPE: 12.3038\n"
     ]
    }
   ],
   "source": [
    "# Сравниваем предсказанные значения (y_pred) с реальными (y_test), и смотрим насколько они в среднем отличаются\n",
    "# Метрика называется Mean Absolute Error (MAE) и показывает среднее отклонение предсказанных значений от фактических.\n",
    "print('MAE:', round(metrics.mean_absolute_error(y_test, y_pred), 4))\n",
    "\n",
    "def mean_absolute_percentage_error(y_tr, y_pr):\n",
    "    \"\"\"Получение средней абсолютной ошибки\"\"\"\n",
    "    y_tr, y_pr = np.array(y_tr), np.array(y_pr)\n",
    "    return np.mean(np.abs((y_tr - y_pr) / y_tr)) * 100\n",
    "\n",
    "print('MAPE:', round(mean_absolute_percentage_error(y_test, y_pred), 4))"
   ]
  },
  {
   "cell_type": "code",
   "execution_count": 138,
   "metadata": {},
   "outputs": [
    {
     "name": "stdout",
     "output_type": "stream",
     "text": [
      "MAPE: 0.1230384262942171\n"
     ]
    }
   ],
   "source": [
    "print('MAPE:', metrics.mean_absolute_percentage_error(y_test, y_pred))"
   ]
  },
  {
   "cell_type": "code",
   "execution_count": 139,
   "metadata": {},
   "outputs": [
    {
     "data": {
      "image/png": "[encoded data removed]",
      "text/plain": [
       "<Figure size 1440x3600 with 1 Axes>"
      ]
     },
     "metadata": {
      "needs_background": "light"
     },
     "output_type": "display_data"
    }
   ],
   "source": [
    "# в RandomForestRegressor есть возможность вывести самые важные признаки для модели\n",
    "plt.rcParams['figure.figsize'] = (20,50)\n",
    "feat_importances = pd.Series(model.feature_importances_, index=X.columns)\n",
    "feat_importances.nlargest(len(feat_importances)).plot(kind='barh');"
   ]
  },
  {
   "cell_type": "code",
   "execution_count": 140,
   "metadata": {},
   "outputs": [
    {
     "data": {
      "text/html": [
       "<div>\n",
       "<style scoped>\n",
       "    .dataframe tbody tr th:only-of-type {\n",
       "        vertical-align: middle;\n",
       "    }\n",
       "\n",
       "    .dataframe tbody tr th {\n",
       "        vertical-align: top;\n",
       "    }\n",
       "\n",
       "    .dataframe thead th {\n",
       "        text-align: right;\n",
       "    }\n",
       "</style>\n",
       "<table border=\"1\" class=\"dataframe\">\n",
       "  <thead>\n",
       "    <tr style=\"text-align: right;\">\n",
       "      <th></th>\n",
       "      <th>reviewer_score</th>\n",
       "      <th>average_score</th>\n",
       "      <th>total_number_of_reviews</th>\n",
       "      <th>review_total_positive_word_counts</th>\n",
       "      <th>total_number_of_reviews_reviewer_has_given</th>\n",
       "      <th>distance_to_center</th>\n",
       "      <th>is_negative</th>\n",
       "      <th>is_positive</th>\n",
       "      <th>n_review_sentiments_neg</th>\n",
       "      <th>n_review_sentiments_neu</th>\n",
       "      <th>...</th>\n",
       "      <th>month_4</th>\n",
       "      <th>month_8</th>\n",
       "      <th>month_12</th>\n",
       "      <th>season_2</th>\n",
       "      <th>season_3</th>\n",
       "      <th>reviewer_nationality_0</th>\n",
       "      <th>reviewer_nationality_1</th>\n",
       "      <th>reviewer_nationality_2</th>\n",
       "      <th>reviewer_nationality_3</th>\n",
       "      <th>reviewer_nationality_4</th>\n",
       "    </tr>\n",
       "  </thead>\n",
       "  <tbody>\n",
       "    <tr>\n",
       "      <th>43872</th>\n",
       "      <td>0.0</td>\n",
       "      <td>0.571429</td>\n",
       "      <td>-0.291191</td>\n",
       "      <td>2.823529</td>\n",
       "      <td>0.571429</td>\n",
       "      <td>-0.150425</td>\n",
       "      <td>0.0</td>\n",
       "      <td>0.0</td>\n",
       "      <td>-0.002</td>\n",
       "      <td>0.178409</td>\n",
       "      <td>...</td>\n",
       "      <td>0.0</td>\n",
       "      <td>0.0</td>\n",
       "      <td>0.0</td>\n",
       "      <td>0.0</td>\n",
       "      <td>0.0</td>\n",
       "      <td>0.0</td>\n",
       "      <td>1.0</td>\n",
       "      <td>0.0</td>\n",
       "      <td>0.0</td>\n",
       "      <td>0.0</td>\n",
       "    </tr>\n",
       "    <tr>\n",
       "      <th>2693</th>\n",
       "      <td>0.0</td>\n",
       "      <td>-1.857143</td>\n",
       "      <td>2.835237</td>\n",
       "      <td>-0.529412</td>\n",
       "      <td>0.142857</td>\n",
       "      <td>1.827328</td>\n",
       "      <td>0.0</td>\n",
       "      <td>-1.0</td>\n",
       "      <td>-0.131</td>\n",
       "      <td>-0.546591</td>\n",
       "      <td>...</td>\n",
       "      <td>1.0</td>\n",
       "      <td>0.0</td>\n",
       "      <td>0.0</td>\n",
       "      <td>0.0</td>\n",
       "      <td>1.0</td>\n",
       "      <td>0.0</td>\n",
       "      <td>1.0</td>\n",
       "      <td>1.0</td>\n",
       "      <td>1.0</td>\n",
       "      <td>0.0</td>\n",
       "    </tr>\n",
       "    <tr>\n",
       "      <th>36993</th>\n",
       "      <td>0.0</td>\n",
       "      <td>-1.000000</td>\n",
       "      <td>1.796493</td>\n",
       "      <td>2.294118</td>\n",
       "      <td>0.000000</td>\n",
       "      <td>0.791592</td>\n",
       "      <td>0.0</td>\n",
       "      <td>0.0</td>\n",
       "      <td>-0.021</td>\n",
       "      <td>0.200000</td>\n",
       "      <td>...</td>\n",
       "      <td>0.0</td>\n",
       "      <td>0.0</td>\n",
       "      <td>0.0</td>\n",
       "      <td>0.0</td>\n",
       "      <td>0.0</td>\n",
       "      <td>1.0</td>\n",
       "      <td>0.0</td>\n",
       "      <td>0.0</td>\n",
       "      <td>1.0</td>\n",
       "      <td>0.0</td>\n",
       "    </tr>\n",
       "    <tr>\n",
       "      <th>93112</th>\n",
       "      <td>0.0</td>\n",
       "      <td>1.142857</td>\n",
       "      <td>-0.542822</td>\n",
       "      <td>8.764706</td>\n",
       "      <td>0.428571</td>\n",
       "      <td>-0.470976</td>\n",
       "      <td>0.0</td>\n",
       "      <td>0.0</td>\n",
       "      <td>-0.131</td>\n",
       "      <td>0.325000</td>\n",
       "      <td>...</td>\n",
       "      <td>0.0</td>\n",
       "      <td>0.0</td>\n",
       "      <td>0.0</td>\n",
       "      <td>0.0</td>\n",
       "      <td>0.0</td>\n",
       "      <td>0.0</td>\n",
       "      <td>0.0</td>\n",
       "      <td>0.0</td>\n",
       "      <td>0.0</td>\n",
       "      <td>0.0</td>\n",
       "    </tr>\n",
       "    <tr>\n",
       "      <th>18758</th>\n",
       "      <td>0.0</td>\n",
       "      <td>0.428571</td>\n",
       "      <td>-0.351958</td>\n",
       "      <td>0.588235</td>\n",
       "      <td>3.714286</td>\n",
       "      <td>-0.538582</td>\n",
       "      <td>0.0</td>\n",
       "      <td>0.0</td>\n",
       "      <td>0.046</td>\n",
       "      <td>-0.107955</td>\n",
       "      <td>...</td>\n",
       "      <td>0.0</td>\n",
       "      <td>0.0</td>\n",
       "      <td>0.0</td>\n",
       "      <td>0.0</td>\n",
       "      <td>0.0</td>\n",
       "      <td>0.0</td>\n",
       "      <td>0.0</td>\n",
       "      <td>0.0</td>\n",
       "      <td>0.0</td>\n",
       "      <td>0.0</td>\n",
       "    </tr>\n",
       "    <tr>\n",
       "      <th>15037</th>\n",
       "      <td>0.0</td>\n",
       "      <td>1.285714</td>\n",
       "      <td>-0.490620</td>\n",
       "      <td>-0.058824</td>\n",
       "      <td>4.857143</td>\n",
       "      <td>-0.412480</td>\n",
       "      <td>-1.0</td>\n",
       "      <td>0.0</td>\n",
       "      <td>0.869</td>\n",
       "      <td>-0.811364</td>\n",
       "      <td>...</td>\n",
       "      <td>0.0</td>\n",
       "      <td>0.0</td>\n",
       "      <td>1.0</td>\n",
       "      <td>1.0</td>\n",
       "      <td>0.0</td>\n",
       "      <td>0.0</td>\n",
       "      <td>0.0</td>\n",
       "      <td>0.0</td>\n",
       "      <td>0.0</td>\n",
       "      <td>0.0</td>\n",
       "    </tr>\n",
       "    <tr>\n",
       "      <th>24892</th>\n",
       "      <td>0.0</td>\n",
       "      <td>0.571429</td>\n",
       "      <td>-0.433116</td>\n",
       "      <td>0.411765</td>\n",
       "      <td>2.571429</td>\n",
       "      <td>-0.521331</td>\n",
       "      <td>-1.0</td>\n",
       "      <td>0.0</td>\n",
       "      <td>0.869</td>\n",
       "      <td>-0.811364</td>\n",
       "      <td>...</td>\n",
       "      <td>0.0</td>\n",
       "      <td>0.0</td>\n",
       "      <td>0.0</td>\n",
       "      <td>0.0</td>\n",
       "      <td>0.0</td>\n",
       "      <td>0.0</td>\n",
       "      <td>0.0</td>\n",
       "      <td>0.0</td>\n",
       "      <td>1.0</td>\n",
       "      <td>0.0</td>\n",
       "    </tr>\n",
       "    <tr>\n",
       "      <th>75837</th>\n",
       "      <td>0.0</td>\n",
       "      <td>-0.428571</td>\n",
       "      <td>-0.204731</td>\n",
       "      <td>-0.529412</td>\n",
       "      <td>-0.142857</td>\n",
       "      <td>-0.404753</td>\n",
       "      <td>0.0</td>\n",
       "      <td>0.0</td>\n",
       "      <td>0.009</td>\n",
       "      <td>0.138636</td>\n",
       "      <td>...</td>\n",
       "      <td>0.0</td>\n",
       "      <td>0.0</td>\n",
       "      <td>0.0</td>\n",
       "      <td>0.0</td>\n",
       "      <td>0.0</td>\n",
       "      <td>0.0</td>\n",
       "      <td>0.0</td>\n",
       "      <td>0.0</td>\n",
       "      <td>1.0</td>\n",
       "      <td>0.0</td>\n",
       "    </tr>\n",
       "    <tr>\n",
       "      <th>94946</th>\n",
       "      <td>0.0</td>\n",
       "      <td>0.142857</td>\n",
       "      <td>-0.799755</td>\n",
       "      <td>0.176471</td>\n",
       "      <td>0.000000</td>\n",
       "      <td>-0.164762</td>\n",
       "      <td>0.0</td>\n",
       "      <td>0.0</td>\n",
       "      <td>-0.026</td>\n",
       "      <td>0.205682</td>\n",
       "      <td>...</td>\n",
       "      <td>0.0</td>\n",
       "      <td>0.0</td>\n",
       "      <td>0.0</td>\n",
       "      <td>0.0</td>\n",
       "      <td>0.0</td>\n",
       "      <td>0.0</td>\n",
       "      <td>1.0</td>\n",
       "      <td>0.0</td>\n",
       "      <td>0.0</td>\n",
       "      <td>0.0</td>\n",
       "    </tr>\n",
       "    <tr>\n",
       "      <th>88599</th>\n",
       "      <td>0.0</td>\n",
       "      <td>1.142857</td>\n",
       "      <td>-0.160685</td>\n",
       "      <td>-0.117647</td>\n",
       "      <td>0.000000</td>\n",
       "      <td>-0.466859</td>\n",
       "      <td>-1.0</td>\n",
       "      <td>0.0</td>\n",
       "      <td>0.869</td>\n",
       "      <td>-0.811364</td>\n",
       "      <td>...</td>\n",
       "      <td>0.0</td>\n",
       "      <td>0.0</td>\n",
       "      <td>0.0</td>\n",
       "      <td>0.0</td>\n",
       "      <td>0.0</td>\n",
       "      <td>0.0</td>\n",
       "      <td>0.0</td>\n",
       "      <td>0.0</td>\n",
       "      <td>0.0</td>\n",
       "      <td>0.0</td>\n",
       "    </tr>\n",
       "  </tbody>\n",
       "</table>\n",
       "<p>10 rows × 37 columns</p>\n",
       "</div>"
      ],
      "text/plain": [
       "       reviewer_score  average_score  total_number_of_reviews  \\\n",
       "43872             0.0       0.571429                -0.291191   \n",
       "2693              0.0      -1.857143                 2.835237   \n",
       "36993             0.0      -1.000000                 1.796493   \n",
       "93112             0.0       1.142857                -0.542822   \n",
       "18758             0.0       0.428571                -0.351958   \n",
       "15037             0.0       1.285714                -0.490620   \n",
       "24892             0.0       0.571429                -0.433116   \n",
       "75837             0.0      -0.428571                -0.204731   \n",
       "94946             0.0       0.142857                -0.799755   \n",
       "88599             0.0       1.142857                -0.160685   \n",
       "\n",
       "       review_total_positive_word_counts  \\\n",
       "43872                           2.823529   \n",
       "2693                           -0.529412   \n",
       "36993                           2.294118   \n",
       "93112                           8.764706   \n",
       "18758                           0.588235   \n",
       "15037                          -0.058824   \n",
       "24892                           0.411765   \n",
       "75837                          -0.529412   \n",
       "94946                           0.176471   \n",
       "88599                          -0.117647   \n",
       "\n",
       "       total_number_of_reviews_reviewer_has_given  distance_to_center  \\\n",
       "43872                                    0.571429           -0.150425   \n",
       "2693                                     0.142857            1.827328   \n",
       "36993                                    0.000000            0.791592   \n",
       "93112                                    0.428571           -0.470976   \n",
       "18758                                    3.714286           -0.538582   \n",
       "15037                                    4.857143           -0.412480   \n",
       "24892                                    2.571429           -0.521331   \n",
       "75837                                   -0.142857           -0.404753   \n",
       "94946                                    0.000000           -0.164762   \n",
       "88599                                    0.000000           -0.466859   \n",
       "\n",
       "       is_negative  is_positive  n_review_sentiments_neg  \\\n",
       "43872          0.0          0.0                   -0.002   \n",
       "2693           0.0         -1.0                   -0.131   \n",
       "36993          0.0          0.0                   -0.021   \n",
       "93112          0.0          0.0                   -0.131   \n",
       "18758          0.0          0.0                    0.046   \n",
       "15037         -1.0          0.0                    0.869   \n",
       "24892         -1.0          0.0                    0.869   \n",
       "75837          0.0          0.0                    0.009   \n",
       "94946          0.0          0.0                   -0.026   \n",
       "88599         -1.0          0.0                    0.869   \n",
       "\n",
       "       n_review_sentiments_neu  ...  month_4  month_8  month_12  season_2  \\\n",
       "43872                 0.178409  ...      0.0      0.0       0.0       0.0   \n",
       "2693                 -0.546591  ...      1.0      0.0       0.0       0.0   \n",
       "36993                 0.200000  ...      0.0      0.0       0.0       0.0   \n",
       "93112                 0.325000  ...      0.0      0.0       0.0       0.0   \n",
       "18758                -0.107955  ...      0.0      0.0       0.0       0.0   \n",
       "15037                -0.811364  ...      0.0      0.0       1.0       1.0   \n",
       "24892                -0.811364  ...      0.0      0.0       0.0       0.0   \n",
       "75837                 0.138636  ...      0.0      0.0       0.0       0.0   \n",
       "94946                 0.205682  ...      0.0      0.0       0.0       0.0   \n",
       "88599                -0.811364  ...      0.0      0.0       0.0       0.0   \n",
       "\n",
       "       season_3  reviewer_nationality_0  reviewer_nationality_1  \\\n",
       "43872       0.0                     0.0                     1.0   \n",
       "2693        1.0                     0.0                     1.0   \n",
       "36993       0.0                     1.0                     0.0   \n",
       "93112       0.0                     0.0                     0.0   \n",
       "18758       0.0                     0.0                     0.0   \n",
       "15037       0.0                     0.0                     0.0   \n",
       "24892       0.0                     0.0                     0.0   \n",
       "75837       0.0                     0.0                     0.0   \n",
       "94946       0.0                     0.0                     1.0   \n",
       "88599       0.0                     0.0                     0.0   \n",
       "\n",
       "       reviewer_nationality_2  reviewer_nationality_3  reviewer_nationality_4  \n",
       "43872                     0.0                     0.0                     0.0  \n",
       "2693                      1.0                     1.0                     0.0  \n",
       "36993                     0.0                     1.0                     0.0  \n",
       "93112                     0.0                     0.0                     0.0  \n",
       "18758                     0.0                     0.0                     0.0  \n",
       "15037                     0.0                     0.0                     0.0  \n",
       "24892                     0.0                     1.0                     0.0  \n",
       "75837                     0.0                     1.0                     0.0  \n",
       "94946                     0.0                     0.0                     0.0  \n",
       "88599                     0.0                     0.0                     0.0  \n",
       "\n",
       "[10 rows x 37 columns]"
      ]
     },
     "execution_count": 140,
     "metadata": {},
     "output_type": "execute_result"
    }
   ],
   "source": [
    "test_data.sample(10)"
   ]
  },
  {
   "cell_type": "code",
   "execution_count": 141,
   "metadata": {},
   "outputs": [],
   "source": [
    "test_data = test_data.drop(['reviewer_score'], axis=1)"
   ]
  },
  {
   "cell_type": "code",
   "execution_count": 142,
   "metadata": {},
   "outputs": [
    {
     "data": {
      "text/html": [
       "<div>\n",
       "<style scoped>\n",
       "    .dataframe tbody tr th:only-of-type {\n",
       "        vertical-align: middle;\n",
       "    }\n",
       "\n",
       "    .dataframe tbody tr th {\n",
       "        vertical-align: top;\n",
       "    }\n",
       "\n",
       "    .dataframe thead th {\n",
       "        text-align: right;\n",
       "    }\n",
       "</style>\n",
       "<table border=\"1\" class=\"dataframe\">\n",
       "  <thead>\n",
       "    <tr style=\"text-align: right;\">\n",
       "      <th></th>\n",
       "      <th>reviewer_score</th>\n",
       "      <th>id</th>\n",
       "    </tr>\n",
       "  </thead>\n",
       "  <tbody>\n",
       "    <tr>\n",
       "      <th>0</th>\n",
       "      <td>1</td>\n",
       "      <td>488440</td>\n",
       "    </tr>\n",
       "    <tr>\n",
       "      <th>1</th>\n",
       "      <td>10</td>\n",
       "      <td>274649</td>\n",
       "    </tr>\n",
       "    <tr>\n",
       "      <th>2</th>\n",
       "      <td>3</td>\n",
       "      <td>374688</td>\n",
       "    </tr>\n",
       "    <tr>\n",
       "      <th>3</th>\n",
       "      <td>10</td>\n",
       "      <td>404352</td>\n",
       "    </tr>\n",
       "    <tr>\n",
       "      <th>4</th>\n",
       "      <td>9</td>\n",
       "      <td>451596</td>\n",
       "    </tr>\n",
       "    <tr>\n",
       "      <th>...</th>\n",
       "      <td>...</td>\n",
       "      <td>...</td>\n",
       "    </tr>\n",
       "    <tr>\n",
       "      <th>128930</th>\n",
       "      <td>7</td>\n",
       "      <td>495812</td>\n",
       "    </tr>\n",
       "    <tr>\n",
       "      <th>128931</th>\n",
       "      <td>1</td>\n",
       "      <td>315577</td>\n",
       "    </tr>\n",
       "    <tr>\n",
       "      <th>128932</th>\n",
       "      <td>3</td>\n",
       "      <td>511968</td>\n",
       "    </tr>\n",
       "    <tr>\n",
       "      <th>128933</th>\n",
       "      <td>6</td>\n",
       "      <td>303386</td>\n",
       "    </tr>\n",
       "    <tr>\n",
       "      <th>128934</th>\n",
       "      <td>5</td>\n",
       "      <td>103157</td>\n",
       "    </tr>\n",
       "  </tbody>\n",
       "</table>\n",
       "<p>128935 rows × 2 columns</p>\n",
       "</div>"
      ],
      "text/plain": [
       "        reviewer_score      id\n",
       "0                    1  488440\n",
       "1                   10  274649\n",
       "2                    3  374688\n",
       "3                   10  404352\n",
       "4                    9  451596\n",
       "...                ...     ...\n",
       "128930               7  495812\n",
       "128931               1  315577\n",
       "128932               3  511968\n",
       "128933               6  303386\n",
       "128934               5  103157\n",
       "\n",
       "[128935 rows x 2 columns]"
      ]
     },
     "execution_count": 142,
     "metadata": {},
     "output_type": "execute_result"
    }
   ],
   "source": [
    "submission"
   ]
  },
  {
   "cell_type": "code",
   "execution_count": 143,
   "metadata": {},
   "outputs": [
    {
     "name": "stderr",
     "output_type": "stream",
     "text": [
      "[Parallel(n_jobs=8)]: Using backend ThreadingBackend with 8 concurrent workers.\n",
      "[Parallel(n_jobs=8)]: Done  34 tasks      | elapsed:    1.5s\n",
      "[Parallel(n_jobs=8)]: Done 100 out of 100 | elapsed:    3.3s finished\n"
     ]
    }
   ],
   "source": [
    "predict_submission = model.predict(test_data)"
   ]
  },
  {
   "cell_type": "code",
   "execution_count": 144,
   "metadata": {},
   "outputs": [
    {
     "data": {
      "text/plain": [
       "array([8.461, 7.297, 7.976, ..., 7.962, 9.577, 6.857])"
      ]
     },
     "execution_count": 144,
     "metadata": {},
     "output_type": "execute_result"
    }
   ],
   "source": [
    "predict_submission"
   ]
  },
  {
   "cell_type": "code",
   "execution_count": 145,
   "metadata": {},
   "outputs": [
    {
     "data": {
      "text/html": [
       "<div>\n",
       "<style scoped>\n",
       "    .dataframe tbody tr th:only-of-type {\n",
       "        vertical-align: middle;\n",
       "    }\n",
       "\n",
       "    .dataframe tbody tr th {\n",
       "        vertical-align: top;\n",
       "    }\n",
       "\n",
       "    .dataframe thead th {\n",
       "        text-align: right;\n",
       "    }\n",
       "</style>\n",
       "<table border=\"1\" class=\"dataframe\">\n",
       "  <thead>\n",
       "    <tr style=\"text-align: right;\">\n",
       "      <th></th>\n",
       "      <th>reviewer_score</th>\n",
       "      <th>id</th>\n",
       "    </tr>\n",
       "  </thead>\n",
       "  <tbody>\n",
       "    <tr>\n",
       "      <th>0</th>\n",
       "      <td>8.461</td>\n",
       "      <td>488440</td>\n",
       "    </tr>\n",
       "    <tr>\n",
       "      <th>1</th>\n",
       "      <td>7.297</td>\n",
       "      <td>274649</td>\n",
       "    </tr>\n",
       "    <tr>\n",
       "      <th>2</th>\n",
       "      <td>7.976</td>\n",
       "      <td>374688</td>\n",
       "    </tr>\n",
       "    <tr>\n",
       "      <th>3</th>\n",
       "      <td>9.816</td>\n",
       "      <td>404352</td>\n",
       "    </tr>\n",
       "    <tr>\n",
       "      <th>4</th>\n",
       "      <td>9.306</td>\n",
       "      <td>451596</td>\n",
       "    </tr>\n",
       "    <tr>\n",
       "      <th>5</th>\n",
       "      <td>8.764</td>\n",
       "      <td>302161</td>\n",
       "    </tr>\n",
       "    <tr>\n",
       "      <th>6</th>\n",
       "      <td>7.336</td>\n",
       "      <td>317079</td>\n",
       "    </tr>\n",
       "    <tr>\n",
       "      <th>7</th>\n",
       "      <td>7.737</td>\n",
       "      <td>13963</td>\n",
       "    </tr>\n",
       "    <tr>\n",
       "      <th>8</th>\n",
       "      <td>8.521</td>\n",
       "      <td>159785</td>\n",
       "    </tr>\n",
       "    <tr>\n",
       "      <th>9</th>\n",
       "      <td>7.651</td>\n",
       "      <td>195089</td>\n",
       "    </tr>\n",
       "  </tbody>\n",
       "</table>\n",
       "</div>"
      ],
      "text/plain": [
       "   reviewer_score      id\n",
       "0           8.461  488440\n",
       "1           7.297  274649\n",
       "2           7.976  374688\n",
       "3           9.816  404352\n",
       "4           9.306  451596\n",
       "5           8.764  302161\n",
       "6           7.336  317079\n",
       "7           7.737   13963\n",
       "8           8.521  159785\n",
       "9           7.651  195089"
      ]
     },
     "execution_count": 145,
     "metadata": {},
     "output_type": "execute_result"
    }
   ],
   "source": [
    "submission['reviewer_score'] = predict_submission\n",
    "# submission.to_csv('submission.csv', index=False)\n",
    "submission.head(10)"
   ]
  },
  {
   "cell_type": "code",
   "execution_count": null,
   "metadata": {},
   "outputs": [],
   "source": []
  }
 ],
 "metadata": {
  "kernelspec": {
   "display_name": "Python 3.9.13 64-bit",
   "language": "python",
   "name": "python3"
  },
  "language_info": {
   "codemirror_mode": {
    "name": "ipython",
    "version": 3
   },
   "file_extension": ".py",
   "mimetype": "text/x-python",
   "name": "python",
   "nbconvert_exporter": "python",
   "pygments_lexer": "ipython3",
   "version": "3.9.13"
  },
  "orig_nbformat": 4,
  "vscode": {
   "interpreter": {
    "hash": "841fb9dcd8d71a3ab0e8a544d7eb62a731d40cc58abbc1dfb38aa7fab067409b"
   }
  }
 },
 "nbformat": 4,
 "nbformat_minor": 2
}
