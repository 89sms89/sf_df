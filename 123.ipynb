{
 "cells": [
  {
   "cell_type": "code",
   "execution_count": 9,
   "metadata": {},
   "outputs": [],
   "source": [
    "# Задача 1. Напишите программу, определяющую число десятков и единиц в двузначном числе.\n",
    "num = int(input())\n",
    "last_digit = num % 10\n",
    "first_digit = num // 10"
   ]
  },
  {
   "cell_type": "code",
   "execution_count": 11,
   "metadata": {},
   "outputs": [
    {
     "name": "stdout",
     "output_type": "stream",
     "text": [
      "4 5\n"
     ]
    }
   ],
   "source": [
    "print(first_digit, last_digit)"
   ]
  },
  {
   "cell_type": "code",
   "execution_count": 6,
   "metadata": {},
   "outputs": [
    {
     "data": {
      "text/plain": [
       "4"
      ]
     },
     "execution_count": 6,
     "metadata": {},
     "output_type": "execute_result"
    }
   ],
   "source": [
    "(num // 10 ** 1) % 10"
   ]
  },
  {
   "cell_type": "code",
   "execution_count": 14,
   "metadata": {},
   "outputs": [
    {
     "data": {
      "text/plain": [
       "9"
      ]
     },
     "execution_count": 14,
     "metadata": {},
     "output_type": "execute_result"
    }
   ],
   "source": [
    "# Задача 2. Напишите программу, в которой рассчитывается сумма цифр двузначного числа.\n",
    "first_digit + last_digit"
   ]
  },
  {
   "cell_type": "code",
   "execution_count": 13,
   "metadata": {},
   "outputs": [
    {
     "data": {
      "text/plain": [
       "54"
      ]
     },
     "execution_count": 13,
     "metadata": {},
     "output_type": "execute_result"
    }
   ],
   "source": [
    "# Задача 3. Напишите программу, которая печатает число, образованное при перестановке цифр двузначного числа.\n",
    "last_digit * 10 + first_digit"
   ]
  },
  {
   "cell_type": "code",
   "execution_count": 19,
   "metadata": {},
   "outputs": [
    {
     "name": "stdout",
     "output_type": "stream",
     "text": [
      "1, 3, 4\n"
     ]
    }
   ],
   "source": [
    "# Задача 4. Напишите программу, в которую вводится трёхзначное число и которая выводит на экран его цифры (через запятую).\n",
    "num2 = int(input())\n",
    "digit3 = (num2 // 10 ** 0) % 10\n",
    "digit2 = (num2 // 10 ** 1) % 10\n",
    "digit1 = (num2 // 10 ** 2) % 10\n",
    "print(digit1, digit2, digit3, sep=', ')"
   ]
  },
  {
   "cell_type": "code",
   "execution_count": 24,
   "metadata": {},
   "outputs": [
    {
     "name": "stdout",
     "output_type": "stream",
     "text": [
      "Сумма цифр = 6\n",
      "Произведение цифр = 6\n"
     ]
    }
   ],
   "source": [
    "# Напишите программу, в которой рассчитывается сумма и произведение цифр положительного трёхзначного числа.\n",
    "a = 123\n",
    "digit3 = (a // 10 ** 0) % 10\n",
    "digit2 = (a // 10 ** 1) % 10\n",
    "digit1 = (a // 10 ** 2) % 10\n",
    "\n",
    "sum = digit1 + digit2 + digit3\n",
    "p = digit1 * digit2 * digit3\n",
    "\n",
    "print(f'Сумма цифр = {sum}\\nПроизведение цифр = {p}')"
   ]
  },
  {
   "cell_type": "code",
   "execution_count": 22,
   "metadata": {},
   "outputs": [
    {
     "name": "stdout",
     "output_type": "stream",
     "text": [
      "1 4 5\n"
     ]
    }
   ],
   "source": [
    "a, b, c = '145'\n",
    "print(a, b, c)"
   ]
  },
  {
   "cell_type": "code",
   "execution_count": 25,
   "metadata": {},
   "outputs": [
    {
     "name": "stdout",
     "output_type": "stream",
     "text": [
      "123\n",
      "132\n",
      "213\n",
      "231\n",
      "312\n",
      "321\n"
     ]
    }
   ],
   "source": [
    "# Дано трехзначное число abc, в котором все цифры различны. Напишите программу, которая выводит шесть чисел, образованных при перестановке цифр заданного числа.\n",
    "# Программа должна вывести шесть чисел, образованных при перестановке цифр заданного числа в следующем порядке: abc, acb, bac, bca, cab, cba\n",
    "\n",
    "num = 123\n",
    "c = (num // 10 ** 0) % 10\n",
    "b = (num // 10 ** 1) % 10\n",
    "a = (num // 10 ** 2) % 10\n",
    "\n",
    "abc = num\n",
    "acb = a * 100 + c * 10 + b\n",
    "bac = b * 100 + a * 10 + c\n",
    "bca = b * 100 + c * 10 + a\n",
    "cab = c * 100 + a * 10 + b\n",
    "cba = c * 100 + b * 10 + a\n",
    "\n",
    "print(abc, acb, bac, bca, cab, cba, sep='\\n')"
   ]
  },
  {
   "cell_type": "code",
   "execution_count": 32,
   "metadata": {},
   "outputs": [
    {
     "name": "stdout",
     "output_type": "stream",
     "text": [
      "123\n",
      "132\n",
      "213\n",
      "231\n",
      "312\n",
      "321\n"
     ]
    }
   ],
   "source": [
    "num = 123\n",
    "c = (num // 10 ** 0) % 10 # c\n",
    "b = (num // 10 ** 1) % 10 # y\n",
    "a = (num // 10 ** 2) % 10 # x\n",
    "\n",
    "print(a, b, c, sep=(\"\")) \n",
    "print(a, c, b, sep=(\"\"))\n",
    "print(b, a, c, sep=(\"\"))\n",
    "print(b, c, a, sep=(\"\"))\n",
    "print(c, a, b, sep=(\"\"))\n",
    "print(c, b, a, sep=(\"\"))"
   ]
  },
  {
   "cell_type": "code",
   "execution_count": 34,
   "metadata": {},
   "outputs": [
    {
     "name": "stdout",
     "output_type": "stream",
     "text": [
      "123\n",
      "132\n",
      "213\n",
      "231\n",
      "312\n",
      "321\n"
     ]
    }
   ],
   "source": [
    "a,b,c = '123'\n",
    "print(a+b+c, a+c+b, b+a+c, b+c+a, c+a+b, c+b+a, sep='\\n')"
   ]
  },
  {
   "cell_type": "code",
   "execution_count": 35,
   "metadata": {},
   "outputs": [
    {
     "name": "stdout",
     "output_type": "stream",
     "text": [
      "Цифра в позиции тысяч равна 3\n",
      "Цифра в позиции сотен равна 2\n",
      "Цифра в позиции десятков равна 8\n",
      "Цифра в позиции единиц равна 1\n"
     ]
    }
   ],
   "source": [
    "# Напишите программу для нахождения цифр четырёхзначного числа.\n",
    "n = 3281\n",
    "digit4 = (n // 10 ** 0) % 10\n",
    "digit3 = (n // 10 ** 1) % 10\n",
    "digit2 = (n // 10 ** 2) % 10\n",
    "digit1 = (n // 10 ** 3) % 10\n",
    "\n",
    "print(f'Цифра в позиции тысяч равна {digit1}\\nЦифра в позиции сотен равна {digit2}\\nЦифра в позиции десятков равна {digit3}\\nЦифра в позиции единиц равна {digit4}')"
   ]
  },
  {
   "cell_type": "code",
   "execution_count": 36,
   "metadata": {},
   "outputs": [
    {
     "name": "stdout",
     "output_type": "stream",
     "text": [
      "Цифра в позиции тысяч равна 3\n",
      "Цифра в позиции сотен равна 2\n",
      "Цифра в позиции десятков равна 8\n",
      "Цифра в позиции единиц равна 1\n"
     ]
    }
   ],
   "source": [
    "a, b, c, d = '3281'\n",
    "print(f'Цифра в позиции тысяч равна {a}\\nЦифра в позиции сотен равна {b}\\nЦифра в позиции десятков равна {c}\\nЦифра в позиции единиц равна {d}')"
   ]
  },
  {
   "cell_type": "code",
   "execution_count": 37,
   "metadata": {},
   "outputs": [
    {
     "name": "stdout",
     "output_type": "stream",
     "text": [
      "Цифра в позиции тысяч равна 3\n",
      "Цифра в позиции сотен равна 2\n",
      "Цифра в позиции десятков равна 8\n",
      "Цифра в позиции единиц равна 1\n"
     ]
    }
   ],
   "source": [
    "a = '3281'\n",
    "b = ['тысяч', 'сотен', 'десятков', 'единиц']\n",
    "for i in range(4):\n",
    "    print('Цифра в позиции ' + b[i] + ' равна ' + a[i])"
   ]
  },
  {
   "cell_type": "code",
   "execution_count": null,
   "metadata": {},
   "outputs": [],
   "source": []
  }
 ],
 "metadata": {
  "kernelspec": {
   "display_name": "Python 3",
   "language": "python",
   "name": "python3"
  },
  "language_info": {
   "codemirror_mode": {
    "name": "ipython",
    "version": 3
   },
   "file_extension": ".py",
   "mimetype": "text/x-python",
   "name": "python",
   "nbconvert_exporter": "python",
   "pygments_lexer": "ipython3",
   "version": "3.9.13 (tags/v3.9.13:6de2ca5, May 17 2022, 16:36:42) [MSC v.1929 64 bit (AMD64)]"
  },
  "orig_nbformat": 4,
  "vscode": {
   "interpreter": {
    "hash": "841fb9dcd8d71a3ab0e8a544d7eb62a731d40cc58abbc1dfb38aa7fab067409b"
   }
  }
 },
 "nbformat": 4,
 "nbformat_minor": 2
}
