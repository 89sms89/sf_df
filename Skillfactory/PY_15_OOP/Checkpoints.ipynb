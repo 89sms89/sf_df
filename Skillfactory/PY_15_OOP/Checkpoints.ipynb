{
 "cells": [
  {
   "cell_type": "markdown",
   "metadata": {},
   "source": [
    "# 3. Объекты и классы"
   ]
  },
  {
   "cell_type": "code",
   "execution_count": 1,
   "metadata": {},
   "outputs": [],
   "source": [
    "class DepartmentReport():\n",
    "    pass"
   ]
  },
  {
   "cell_type": "code",
   "execution_count": 2,
   "metadata": {},
   "outputs": [],
   "source": [
    "department_report = DepartmentReport()"
   ]
  },
  {
   "cell_type": "markdown",
   "metadata": {},
   "source": [
    "# 4. Атрибуты и методы"
   ]
  },
  {
   "cell_type": "code",
   "execution_count": 3,
   "metadata": {},
   "outputs": [
    {
     "name": "stdout",
     "output_type": "stream",
     "text": [
      "[1000000, 400000]\n",
      "700000.0\n"
     ]
    }
   ],
   "source": [
    "class DepartmentReport():\n",
    "    def add_revenue(self, amount):\n",
    "        if not hasattr(self, 'revenues'):  \n",
    "            self.revenues = []  \n",
    "        self.revenues.append(amount)  \n",
    "                \n",
    "    def average_revenue(self):  \n",
    "        return sum(self.revenues)/len(self.revenues) \n",
    " \n",
    "report = DepartmentReport()\n",
    "report.add_revenue(1_000_000)\n",
    "report.add_revenue(400_000)\n",
    "print(report.revenues)\n",
    "# => [1000000, 400000]\n",
    "print(report.average_revenue())\n",
    "# => 700000.0"
   ]
  },
  {
   "cell_type": "code",
   "execution_count": 4,
   "metadata": {},
   "outputs": [
    {
     "name": "stdout",
     "output_type": "stream",
     "text": [
      "Average department revenue for Danon: 700000\n"
     ]
    }
   ],
   "source": [
    "class DepartmentReport():\n",
    "\n",
    "    def __init__(self,company):\n",
    "        self.revenues = []\n",
    "        self.company = company\n",
    "    \n",
    "    def add_revenue(self, amount):\n",
    "        if not hasattr(self,'revenues'):\n",
    "            self.revenues=[]\n",
    "        self.revenues.append(amount)\n",
    "    \n",
    "    def average_revenue(self):\n",
    "        average_revenue = round(sum(self.revenues)/len(self.revenues))\n",
    "        return 'Average department revenue for {}: {}'.format(self.company,average_revenue)\n",
    " \n",
    " \n",
    "report = DepartmentReport(\"Danon\")\n",
    "report.add_revenue(1_000_000)\n",
    "report.add_revenue(400_000)\n",
    "\n",
    "print(report.average_revenue())\n",
    "# => Average department revenue for Danon: 700000"
   ]
  },
  {
   "cell_type": "markdown",
   "metadata": {},
   "source": [
    "# 5. Практические примеры"
   ]
  },
  {
   "cell_type": "code",
   "execution_count": 5,
   "metadata": {},
   "outputs": [
    {
     "name": "stdout",
     "output_type": "stream",
     "text": [
      "19700\n"
     ]
    }
   ],
   "source": [
    "class User():\n",
    "    def __init__(self, email, password, balance):\n",
    "        self.email = email\n",
    "        self.password = password\n",
    "        self.balance = balance\n",
    "        update_balance=0\n",
    "        \n",
    "    def login(self, email, password):\n",
    "        if self.email == email:\n",
    "            if self.password == password:\n",
    "                return True\n",
    "            else:\n",
    "                return False\n",
    "        else:\n",
    "            return False\n",
    "             \n",
    "    def update_balance(self, amount):\n",
    "        self.balance+=amount\n",
    "        return self.balance\n",
    "        \n",
    "\n",
    "user = User(\"gosha@roskino.org\", \"qwerty\", 20_000)\n",
    "user.login(\"gosha@roskino.org\", \"qwerty123\")\n",
    "# => False\n",
    "user.login(\"gosha@roskino.org\", \"qwerty\")\n",
    "# => True\n",
    "user.update_balance(200)\n",
    "user.update_balance(-500)\n",
    "print(user.balance)\n",
    "# => 19700"
   ]
  },
  {
   "cell_type": "code",
   "execution_count": 6,
   "metadata": {},
   "outputs": [
    {
     "data": {
      "text/plain": [
       "False"
      ]
     },
     "execution_count": 6,
     "metadata": {},
     "output_type": "execute_result"
    }
   ],
   "source": [
    "user.login(\"gosha@roskino.org\", \"qwerty123\")"
   ]
  },
  {
   "cell_type": "code",
   "execution_count": 7,
   "metadata": {},
   "outputs": [
    {
     "name": "stdout",
     "output_type": "stream",
     "text": [
      "5\n",
      "4\n"
     ]
    }
   ],
   "source": [
    "class IntDataFrame():\n",
    "    def __init__(self, column):\n",
    "        self.column=column\n",
    "        self.to_int()\n",
    "        \n",
    "    def to_int(self):\n",
    "        self.column=[int(value) for value in self.column]\n",
    "    \n",
    "    def count(self):\n",
    "        j=0\n",
    "        for i, value in enumerate(self.column):\n",
    "            if value>0:\n",
    "                j+=1\n",
    "        return j\n",
    "    \n",
    "    def unique(self):\n",
    "        uniq=[]\n",
    "        for i, value in enumerate(self.column):\n",
    "            if value in uniq:\n",
    "                continue\n",
    "            else:\n",
    "                uniq.append(value)\n",
    "        return len(uniq)\n",
    "        \n",
    "        \n",
    "df = IntDataFrame([4.7, 4, 3, 0, 2.4, 0.3, 4])\n",
    "\n",
    "print(df.count(), df.unique(), sep='\\n')\n"
   ]
  },
  {
   "cell_type": "code",
   "execution_count": 9,
   "metadata": {},
   "outputs": [
    {
     "data": {
      "text/plain": [
       "'System started'"
      ]
     },
     "execution_count": 9,
     "metadata": {},
     "output_type": "execute_result"
    }
   ],
   "source": [
    "class OwnLogger():\n",
    "   def __init__(self):\n",
    "       self.logs = {\"info\": None, \"warning\": None, \"error\": None, \"all\": None}\n",
    "   def log(self, message, level):\n",
    "       self.logs[level] = message\n",
    "       self.logs['all'] = message\n",
    "   def show_last(self, level='all'):\n",
    "       return self.logs[level]\n",
    "      \n",
    "logger = OwnLogger()\n",
    "logger.log(\"System started\", \"info\")\n",
    "logger.show_last(\"error\")\n",
    "# => None\n",
    "# Некоторые интерпретаторы Python могут не выводить None, тогда в этой проверке у вас будет пустая строка\n",
    "logger.log(\"Connection instable\", \"warning\")\n",
    "logger.log(\"Connection lost\", \"error\")\n",
    "\n",
    "logger.show_last()\n",
    "# => Connection lost\n",
    "logger.show_last(\"info\")\n",
    "# => System started"
   ]
  },
  {
   "cell_type": "code",
   "execution_count": null,
   "metadata": {},
   "outputs": [],
   "source": []
  }
 ],
 "metadata": {
  "kernelspec": {
   "display_name": "Python 3.9.13 64-bit",
   "language": "python",
   "name": "python3"
  },
  "language_info": {
   "codemirror_mode": {
    "name": "ipython",
    "version": 3
   },
   "file_extension": ".py",
   "mimetype": "text/x-python",
   "name": "python",
   "nbconvert_exporter": "python",
   "pygments_lexer": "ipython3",
   "version": "3.9.13"
  },
  "orig_nbformat": 4,
  "vscode": {
   "interpreter": {
    "hash": "841fb9dcd8d71a3ab0e8a544d7eb62a731d40cc58abbc1dfb38aa7fab067409b"
   }
  }
 },
 "nbformat": 4,
 "nbformat_minor": 2
}
