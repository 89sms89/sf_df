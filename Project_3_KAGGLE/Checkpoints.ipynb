{
 "cells": [
  {
   "cell_type": "code",
   "execution_count": null,
   "metadata": {},
   "outputs": [],
   "source": []
  }
 ],
 "metadata": {
  "kernelspec": {
   "display_name": "Python 3.9.13 64-bit",
   "language": "python",
   "name": "python3"
  },
  "language_info": {
   "name": "python",
   "version": "3.9.13"
  },
  "orig_nbformat": 4,
  "vscode": {
   "interpreter": {
    "hash": "841fb9dcd8d71a3ab0e8a544d7eb62a731d40cc58abbc1dfb38aa7fab067409b"
   }
  }
 },
 "nbformat": 4,
 "nbformat_minor": 2
}
