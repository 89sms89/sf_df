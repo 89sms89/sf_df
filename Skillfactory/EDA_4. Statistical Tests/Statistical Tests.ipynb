{
 "cells": [
  {
   "cell_type": "code",
   "execution_count": 163,
   "metadata": {},
   "outputs": [],
   "source": [
    "import pandas as pd\n",
    "import numpy as np\n",
    "\n",
    "import matplotlib\n",
    "import matplotlib.pyplot as plt\n",
    "import seaborn as sns\n",
    "\n",
    "from scipy.stats import shapiro\n",
    "from scipy.stats import spearmanr\n",
    "from scipy.stats import wilcoxon\n",
    "from scipy.stats import mannwhitneyu"
   ]
  },
  {
   "cell_type": "code",
   "execution_count": 177,
   "metadata": {},
   "outputs": [],
   "source": [
    "# Объединение 2 массивов в DataFrame\n",
    "df = pd.DataFrame({\n",
    "    'petersburg': [0.0974, 0.1352, 0.0817, 0.1016, 0.0968, 0.1064, 0.105, np.nan],\n",
    "    'magadan': [0.1033, 0.0915, 0.0781, 0.0685, 0.0677, 0.0697, 0.0764, 0.0689]\n",
    "})"
   ]
  },
  {
   "cell_type": "markdown",
   "metadata": {},
   "source": [
    "### Установка уровня значимости ###"
   ]
  },
  {
   "cell_type": "code",
   "execution_count": 165,
   "metadata": {},
   "outputs": [],
   "source": [
    "alpha = 0.05"
   ]
  },
  {
   "cell_type": "markdown",
   "metadata": {},
   "source": [
    "### Проверка данных на нормальность ###"
   ]
  },
  {
   "cell_type": "code",
   "execution_count": 166,
   "metadata": {},
   "outputs": [],
   "source": [
    "H0 = 'Данные распределены нормально'\n",
    "Ha = 'Данные не распределены нормально (мы отвергаем H0)'"
   ]
  },
  {
   "cell_type": "markdown",
   "metadata": {},
   "source": [
    "Тест Шапиро-Уилка"
   ]
  },
  {
   "cell_type": "code",
   "execution_count": 167,
   "metadata": {},
   "outputs": [
    {
     "name": "stdout",
     "output_type": "stream",
     "text": [
      "p=0.242\n",
      "Данные распределены нормально\n"
     ]
    }
   ],
   "source": [
    "_, p = shapiro(df['petersburg'].dropna())\n",
    "print('p=%.3f' % p)\n",
    "\n",
    "if p > alpha:\n",
    "\tprint(H0)\n",
    "else:\n",
    "\tprint(Ha)"
   ]
  },
  {
   "cell_type": "code",
   "execution_count": 168,
   "metadata": {},
   "outputs": [
    {
     "name": "stdout",
     "output_type": "stream",
     "text": [
      "p=0.036\n",
      "Данные не распределены нормально (мы отвергаем H0)\n"
     ]
    }
   ],
   "source": [
    "_, p = shapiro(df['magadan'])\n",
    "print('p=%.3f' % p)\n",
    "\n",
    "# Интерпретация\n",
    "if p > alpha:\n",
    "\tprint(H0)\n",
    "else:\n",
    "\tprint(Ha)"
   ]
  },
  {
   "cell_type": "code",
   "execution_count": 169,
   "metadata": {},
   "outputs": [
    {
     "data": {
      "image/png": "[encoded data removed]",
      "text/plain": [
       "<Figure size 864x288 with 2 Axes>"
      ]
     },
     "metadata": {},
     "output_type": "display_data"
    }
   ],
   "source": [
    "# Дополнительная проверка на нормальность данных при помощи визуализации\n",
    "fig, axes = plt.subplots(nrows=1, ncols=2, figsize=(12, 4))\n",
    "sns.histplot(df, x='petersburg', ax=axes[0])\n",
    "axes[0].set_title('Размер мидий из С-Пб', fontsize=16)\n",
    "\n",
    "sns.histplot(df, x='magadan', ax=axes[1])\n",
    "axes[1].set_title('Размер мидий из Магадана', fontsize=16);"
   ]
  },
  {
   "cell_type": "markdown",
   "metadata": {},
   "source": [
    "В связи с тем, что данные (в общем итоге) не распределены нормально (согласно проведенным тестам и графикам распределений данные о размере раковин мидий, выращенных в Магадане, - негауссовские), выбираем тест на корреляцию Спирмена"
   ]
  },
  {
   "cell_type": "markdown",
   "metadata": {},
   "source": [
    "### Тест на наличие корреляции (корреляция Спирмена) ###"
   ]
  },
  {
   "cell_type": "code",
   "execution_count": 171,
   "metadata": {},
   "outputs": [],
   "source": [
    "# Для проведения теста на корреляцию заменим значение NaN для признака petersburg \n",
    "# в датафрейме с мидиями на медианное значение данного признака\n",
    "df['petersburg'] = df['petersburg'].fillna(df['petersburg'].median())"
   ]
  },
  {
   "cell_type": "code",
   "execution_count": 172,
   "metadata": {},
   "outputs": [
    {
     "name": "stdout",
     "output_type": "stream",
     "text": [
      "corr=0.156\n",
      "p=0.713\n"
     ]
    }
   ],
   "source": [
    "corr, p = spearmanr(df['petersburg'], df['magadan'])\n",
    "print('corr=%.3f' % corr, 'p=%.3f' % p, sep='\\n')"
   ]
  },
  {
   "cell_type": "code",
   "execution_count": 178,
   "metadata": {},
   "outputs": [],
   "source": [
    "H0 = 'Нет зависимости между размерами раковин мидий, выращенных в разных городах'\n",
    "Ha = 'Есть зависимость между размерами раковин мидий, выращенных в разных городах'"
   ]
  },
  {
   "cell_type": "code",
   "execution_count": 173,
   "metadata": {},
   "outputs": [
    {
     "name": "stdout",
     "output_type": "stream",
     "text": [
      "p=0.713 > 0.05. \n",
      "Мы не можем отвергнуть нулевую гипотезу об отсутсвии зависимости между переменными.\n"
     ]
    }
   ],
   "source": [
    "if p>alpha:\n",
    "    print(f\"{'p=%.3f' % p} > {alpha}. \\nМы не можем отвергнуть нулевую гипотезу об отсутсвии зависимости между переменными.\")\n",
    "else:\n",
    "    print(f\"{'p=%.3f' % p} <= {alpha}. \\nМы отвергаем нулевую гипотезу об отсутсвии зависимости между переменными.\")"
   ]
  },
  {
   "cell_type": "markdown",
   "metadata": {},
   "source": [
    "Вывод: согласно соотношению величин p-value (~71%) и статистической значимости (5%), отвергнуть нулевую гипотезу о том, что между размерами раковин мидий, выращенных в С-Пб и Магадане отсутствует зависимость, невозможно. Данный вывод также подтверждает значение коэффициента корреляции для рассматриваемых показателей (0.156).    \n",
    "Т.о., между размерами раковин мидий, выращенных в разных городах, зависимость отсутствует."
   ]
  },
  {
   "attachments": {},
   "cell_type": "markdown",
   "metadata": {},
   "source": [
    "### Тест на сравнение выборок ###"
   ]
  },
  {
   "cell_type": "markdown",
   "metadata": {},
   "source": [
    "Т.к. признак magadan рассматриваемого датасета распределен ненормально, используем непараметрический тест на сравнение выборок. Зависимой переменной является размер раковины мидий. Зависимая переменная - количественная. Сравниваются 2 независиые выборки (из разных совокупностей).     \n",
    "Следовательно, в целях определения разницы в среднем размере мидии в зависимости от города-производителя необходимо использовать критерий Уилкоксона."
   ]
  },
  {
   "cell_type": "markdown",
   "metadata": {},
   "source": [
    "Критерий Уилкоксона"
   ]
  },
  {
   "cell_type": "code",
   "execution_count": 174,
   "metadata": {},
   "outputs": [],
   "source": [
    "H0 = 'Нет значимой разницы между размерами раковин мидий'\n",
    "Ha = 'Есть значимая разница между размерами раковин мидий'"
   ]
  },
  {
   "cell_type": "code",
   "execution_count": 175,
   "metadata": {},
   "outputs": [
    {
     "name": "stdout",
     "output_type": "stream",
     "text": [
      "0.023 <= 0.05. \n",
      "Мы отвергаем нулевую гипотезу. Есть значимая разница между размерами раковин мидий\n"
     ]
    }
   ],
   "source": [
    "# В связи с тем, что для проведения сравнительного теста размер выборок должен быть одинаковый, оставляем изначально пустое значения для \n",
    "# признака petersburg замененным на медианное значение. Не рассматривать его вовсе при проведения теста (код test_results = wilcoxon(df['petersburg'].dropna, df['magadan']))\n",
    "# приводмит к аналогичной ошибке, связанной с размерностью выборок.\n",
    "\n",
    "test_results = wilcoxon(df['petersburg'], df['magadan'])\n",
    "\n",
    "p = round(test_results[1],3)\n",
    "\n",
    "if p>alpha:\n",
    "    print(f\"{p} > {alpha}. \\nМы не можем отвергнуть нулевую гипотезу. {H0}\")\n",
    "else:\n",
    "    print(f\"{p} <= {alpha}. \\nМы отвергаем нулевую гипотезу. {Ha}\")"
   ]
  },
  {
   "cell_type": "markdown",
   "metadata": {},
   "source": [
    "Для проверки вывода, сделанного по результатам выполненного выше сравнительного теста, проведем тест Манна-Уитни, используемый для сравнения различий между двумя выборками, когда распределение выборки не является нормальным, а размеры выборки малы (n < 30)."
   ]
  },
  {
   "cell_type": "markdown",
   "metadata": {},
   "source": [
    "Критерий Манна-Уитни"
   ]
  },
  {
   "cell_type": "code",
   "execution_count": 176,
   "metadata": {},
   "outputs": [
    {
     "name": "stdout",
     "output_type": "stream",
     "text": [
      "0.007 <= 0.05. \n",
      "Мы отвергаем нулевую гипотезу. Есть значимая разница между размерами раковин мидий\n"
     ]
    }
   ],
   "source": [
    "from scipy.stats import mannwhitneyu\n",
    "\n",
    "test_results = mannwhitneyu(df['petersburg'], df['magadan'])\n",
    "\n",
    "p = round(test_results[1],3)\n",
    "\n",
    "if p>alpha:\n",
    "    print(f\"{p} > {alpha}. \\nМы не можем отвергнуть нулевую гипотезу. {H0}\")\n",
    "else:\n",
    "    print(f\"{p} <= {alpha}. \\nМы отвергаем нулевую гипотезу. {Ha}\")\n"
   ]
  },
  {
   "cell_type": "markdown",
   "metadata": {},
   "source": [
    "Несмотря на различные величины p-value, полученные по результатам теста Уилкоксона и теста Манна-Уитни, вывод о том, что разница между размерами раковин мидий, выращенных в С-Пб и Магадане, однозначно верен, т.е. нулевую гипотезу, утверждающую обратное, отвергаем."
   ]
  },
  {
   "cell_type": "code",
   "execution_count": null,
   "metadata": {},
   "outputs": [],
   "source": []
  }
 ],
 "metadata": {
  "kernelspec": {
   "display_name": "Python 3.9.13 64-bit",
   "language": "python",
   "name": "python3"
  },
  "language_info": {
   "codemirror_mode": {
    "name": "ipython",
    "version": 3
   },
   "file_extension": ".py",
   "mimetype": "text/x-python",
   "name": "python",
   "nbconvert_exporter": "python",
   "pygments_lexer": "ipython3",
   "version": "3.9.13 (tags/v3.9.13:6de2ca5, May 17 2022, 16:36:42) [MSC v.1929 64 bit (AMD64)]"
  },
  "orig_nbformat": 4,
  "vscode": {
   "interpreter": {
    "hash": "841fb9dcd8d71a3ab0e8a544d7eb62a731d40cc58abbc1dfb38aa7fab067409b"
   }
  }
 },
 "nbformat": 4,
 "nbformat_minor": 2
}
